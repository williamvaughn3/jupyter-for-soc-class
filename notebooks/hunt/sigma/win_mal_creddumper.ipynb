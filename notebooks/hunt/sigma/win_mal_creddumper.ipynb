{
 "cells": [
  {
   "cell_type": "markdown",
   "metadata": {},
   "source": [
    "# Malicious Service Install\n",
    "This method detects well-known keywords of malicious services in the Windows System Eventlog"
   ]
  },
  {
   "cell_type": "markdown",
   "metadata": {},
   "source": [
    "## Rule Content\n",
    "```\n",
    "- action: global\n",
    "  title: Malicious Service Install\n",
    "  id: 4976aa50-8f41-45c6-8b15-ab3fc10e79ed\n",
    "  description: This method detects well-known keywords of malicious services in the\n",
    "    Windows System Eventlog\n",
    "  author: Florian Roth\n",
    "  tags:\n",
    "  - attack.credential_access\n",
    "  - attack.t1003\n",
    "  - attack.s0005\n",
    "  logsource:\n",
    "    product: windows\n",
    "    service: system\n",
    "    category: null\n",
    "  detection:\n",
    "    selection1:\n",
    "      EventID:\n",
    "      - 7045\n",
    "    keywords:\n",
    "      Message:\n",
    "      - '*WCE SERVICE*'\n",
    "      - '*WCESERVICE*'\n",
    "      - '*DumpSvc*'\n",
    "    quarkspwdump:\n",
    "      EventID: 16\n",
    "      HiveName: '*\\AppData\\Local\\Temp\\SAM*.dmp'\n",
    "    condition: ( selection1 and keywords ) or ( selection2 and keywords ) or quarkspwdump\n",
    "  falsepositives:\n",
    "  - Unlikely\n",
    "  level: high\n",
    "- logsource:\n",
    "    product: windows\n",
    "    service: security\n",
    "  detection:\n",
    "    selection2:\n",
    "      EventID: 4697\n",
    "\n",
    "```"
   ]
  },
  {
   "cell_type": "markdown",
   "metadata": {},
   "source": [
    "## Querying Elasticsearch"
   ]
  },
  {
   "cell_type": "markdown",
   "metadata": {},
   "source": [
    "### Import Libraries"
   ]
  },
  {
   "cell_type": "code",
   "execution_count": null,
   "metadata": {},
   "outputs": [],
   "source": [
    "from elasticsearch import Elasticsearch\n",
    "from elasticsearch_dsl import Search\n",
    "import pandas as pd"
   ]
  },
  {
   "cell_type": "markdown",
   "metadata": {},
   "source": [
    "### Initialize Elasticsearch client"
   ]
  },
  {
   "cell_type": "code",
   "execution_count": null,
   "metadata": {},
   "outputs": [],
   "source": [
    "es = Elasticsearch([http://ip_here:9200/])\n",
    "searchContext = Search(using=es, index='logs-endpoint-winevent-system-*', doc_type='doc')"
   ]
  },
  {
   "cell_type": "markdown",
   "metadata": {},
   "source": [
    "### Run Elasticsearch Query"
   ]
  },
  {
   "cell_type": "code",
   "execution_count": null,
   "metadata": {},
   "outputs": [],
   "source": [
    "s = searchContext.query('query_string', query='((Message.keyword:(*WCE\\ SERVICE* OR *WCESERVICE* OR *DumpSvc*) AND (event_id:(\"7045\") OR event_id:\"4697\")) OR (event_id:\"16\" AND hive_name.keyword:*\\\\AppData\\\\Local\\\\Temp\\\\SAM*.dmp))')\n",
    "response = s.execute()\n",
    "if response.success():\n",
    "    df = pd.DataFrame((d.to_dict() for d in s.scan()))"
   ]
  },
  {
   "cell_type": "markdown",
   "metadata": {},
   "source": [
    "### Show Results"
   ]
  },
  {
   "cell_type": "code",
   "execution_count": null,
   "metadata": {},
   "outputs": [],
   "source": [
    "df.head()"
   ]
  }
 ],
 "metadata": {},
 "nbformat": 4,
 "nbformat_minor": 4
}
