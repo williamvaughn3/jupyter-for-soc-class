{
 "cells": [
  {
   "cell_type": "markdown",
   "metadata": {},
   "source": [
    "# Empire Monkey\n",
    "Detects EmpireMonkey APT reported Activity"
   ]
  },
  {
   "cell_type": "markdown",
   "metadata": {},
   "source": [
    "## Rule Content\n",
    "```\n",
    "- action: global\n",
    "  title: Empire Monkey\n",
    "  id: 10152a7b-b566-438f-a33c-390b607d1c8d\n",
    "  description: Detects EmpireMonkey APT reported Activity\n",
    "  references:\n",
    "  - https://app.any.run/tasks/a4107649-8cb0-41af-ad75-113152d4d57b\n",
    "  tags:\n",
    "  - attack.t1086\n",
    "  - attack.execution\n",
    "  date: 2019/04/02\n",
    "  author: Markus Neis\n",
    "  detection:\n",
    "    condition: 1 of them\n",
    "  falsepositives:\n",
    "  - Very Unlikely\n",
    "  level: critical\n",
    "- logsource:\n",
    "    category: process_creation\n",
    "    product: windows\n",
    "  detection:\n",
    "    selection_cutil:\n",
    "      CommandLine:\n",
    "      - '*/i:%APPDATA%\\logs.txt scrobj.dll'\n",
    "      Image:\n",
    "      - '*\\cutil.exe'\n",
    "    selection_regsvr32:\n",
    "      CommandLine:\n",
    "      - '*/i:%APPDATA%\\logs.txt scrobj.dll'\n",
    "      Description:\n",
    "      - Microsoft(C) Registerserver\n",
    "\n",
    "```"
   ]
  },
  {
   "cell_type": "markdown",
   "metadata": {},
   "source": [
    "## Querying Elasticsearch"
   ]
  },
  {
   "cell_type": "markdown",
   "metadata": {},
   "source": [
    "### Import Libraries"
   ]
  },
  {
   "cell_type": "code",
   "execution_count": null,
   "metadata": {},
   "outputs": [],
   "source": [
    "from elasticsearch import Elasticsearch\n",
    "from elasticsearch_dsl import Search\n",
    "import pandas as pd"
   ]
  },
  {
   "cell_type": "markdown",
   "metadata": {},
   "source": [
    "### Initialize Elasticsearch client"
   ]
  },
  {
   "cell_type": "code",
   "execution_count": null,
   "metadata": {},
   "outputs": [],
   "source": [
    "es = Elasticsearch([http://ip_here:9200/])\n",
    "searchContext = Search(using=es, index='logs-*', doc_type='doc')"
   ]
  },
  {
   "cell_type": "markdown",
   "metadata": {},
   "source": [
    "### Run Elasticsearch Query"
   ]
  },
  {
   "cell_type": "code",
   "execution_count": null,
   "metadata": {},
   "outputs": [],
   "source": [
    "s = searchContext.query('query_string', query='(process_command_line.keyword:(*\\/i\\:%APPDATA%\\\\logs.txt\\ scrobj.dll) AND (process_path.keyword:(*\\\\cutil.exe) OR file_description:(\"Microsoft\\(C\\)\\ Registerserver\")))')\n",
    "response = s.execute()\n",
    "if response.success():\n",
    "    df = pd.DataFrame((d.to_dict() for d in s.scan()))"
   ]
  },
  {
   "cell_type": "markdown",
   "metadata": {},
   "source": [
    "### Show Results"
   ]
  },
  {
   "cell_type": "code",
   "execution_count": null,
   "metadata": {},
   "outputs": [],
   "source": [
    "df.head()"
   ]
  }
 ],
 "metadata": {},
 "nbformat": 4,
 "nbformat_minor": 4
}
