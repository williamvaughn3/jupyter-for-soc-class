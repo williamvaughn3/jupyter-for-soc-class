{
 "cells": [
  {
   "cell_type": "markdown",
   "metadata": {},
   "source": [
    "# Suspicious Program Location with Network Connections\n",
    "Detects programs with network connections running in suspicious files system locations"
   ]
  },
  {
   "cell_type": "markdown",
   "metadata": {},
   "source": [
    "## Rule Content\n",
    "```\n",
    "- title: Suspicious Program Location with Network Connections\n",
    "  id: 7b434893-c57d-4f41-908d-6a17bf1ae98f\n",
    "  status: experimental\n",
    "  description: Detects programs with network connections running in suspicious files\n",
    "    system locations\n",
    "  references:\n",
    "  - https://docs.google.com/spreadsheets/d/17pSTDNpa0sf6pHeRhusvWG6rThciE8CsXTSlDUAZDyo\n",
    "  author: Florian Roth\n",
    "  date: 2017/03/19\n",
    "  logsource:\n",
    "    product: windows\n",
    "    service: sysmon\n",
    "    definition: Use the following config to generate the necessary Event ID 3 Network\n",
    "      Connection events\n",
    "    category: null\n",
    "  detection:\n",
    "    selection:\n",
    "      EventID: 3\n",
    "      Image:\n",
    "      - '*\\$Recycle.bin'\n",
    "      - '*\\Users\\All Users\\\\*'\n",
    "      - '*\\Users\\Default\\\\*'\n",
    "      - '*\\Users\\Public\\\\*'\n",
    "      - '*\\Users\\Contacts\\\\*'\n",
    "      - '*\\Users\\Searches\\\\*'\n",
    "      - C:\\Perflogs\\\\*\n",
    "      - '*\\config\\systemprofile\\\\*'\n",
    "      - '*\\Windows\\Fonts\\\\*'\n",
    "      - '*\\Windows\\IME\\\\*'\n",
    "      - '*\\Windows\\addins\\\\*'\n",
    "    condition: selection\n",
    "  falsepositives:\n",
    "  - unknown\n",
    "  level: high\n",
    "\n",
    "```"
   ]
  },
  {
   "cell_type": "markdown",
   "metadata": {},
   "source": [
    "## Querying Elasticsearch"
   ]
  },
  {
   "cell_type": "markdown",
   "metadata": {},
   "source": [
    "### Import Libraries"
   ]
  },
  {
   "cell_type": "code",
   "execution_count": null,
   "metadata": {},
   "outputs": [],
   "source": [
    "from elasticsearch import Elasticsearch\n",
    "from elasticsearch_dsl import Search\n",
    "import pandas as pd"
   ]
  },
  {
   "cell_type": "markdown",
   "metadata": {},
   "source": [
    "### Initialize Elasticsearch client"
   ]
  },
  {
   "cell_type": "code",
   "execution_count": null,
   "metadata": {},
   "outputs": [],
   "source": [
    "es = Elasticsearch([http://ip_here:9200/])\n",
    "searchContext = Search(using=es, index='logs-endpoint-winevent-sysmon-*', doc_type='doc')"
   ]
  },
  {
   "cell_type": "markdown",
   "metadata": {},
   "source": [
    "### Run Elasticsearch Query"
   ]
  },
  {
   "cell_type": "code",
   "execution_count": null,
   "metadata": {},
   "outputs": [],
   "source": [
    "s = searchContext.query('query_string', query='(event_id:\"3\" AND process_path.keyword:(*\\\\$Recycle.bin OR *\\\\Users\\\\All\\ Users\\\\* OR *\\\\Users\\\\Default\\\\* OR *\\\\Users\\\\Public\\\\* OR *\\\\Users\\\\Contacts\\\\* OR *\\\\Users\\\\Searches\\\\* OR C\\:\\\\Perflogs\\\\* OR *\\\\config\\\\systemprofile\\\\* OR *\\\\Windows\\\\Fonts\\\\* OR *\\\\Windows\\\\IME\\\\* OR *\\\\Windows\\\\addins\\\\*))')\n",
    "response = s.execute()\n",
    "if response.success():\n",
    "    df = pd.DataFrame((d.to_dict() for d in s.scan()))"
   ]
  },
  {
   "cell_type": "markdown",
   "metadata": {},
   "source": [
    "### Show Results"
   ]
  },
  {
   "cell_type": "code",
   "execution_count": null,
   "metadata": {},
   "outputs": [],
   "source": [
    "df.head()"
   ]
  }
 ],
 "metadata": {},
 "nbformat": 4,
 "nbformat_minor": 4
}
