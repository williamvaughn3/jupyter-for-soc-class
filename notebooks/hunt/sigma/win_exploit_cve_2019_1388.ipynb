{
 "cells": [
  {
   "cell_type": "markdown",
   "metadata": {},
   "source": [
    "# Exploiting CVE-2019-1388\n",
    "Detects an explotation attempt in which the UAC consent dialogue is used to invoke an Internet Explorer process running as LOCAL_SYSTEM"
   ]
  },
  {
   "cell_type": "markdown",
   "metadata": {},
   "source": [
    "## Rule Content\n",
    "```\n",
    "- title: Exploiting CVE-2019-1388\n",
    "  id: 02e0b2ea-a597-428e-b04a-af6a1a403e5c\n",
    "  status: experimental\n",
    "  description: Detects an explotation attempt in which the UAC consent dialogue is\n",
    "    used to invoke an Internet Explorer process running as LOCAL_SYSTEM\n",
    "  references:\n",
    "  - https://portal.msrc.microsoft.com/en-US/security-guidance/advisory/CVE-2019-1388\n",
    "  - https://www.zerodayinitiative.com/blog/2019/11/19/thanksgiving-treat-easy-as-pie-windows-7-secure-desktop-escalation-of-privilege\n",
    "  author: Florian Roth\n",
    "  date: 2019/11/20\n",
    "  tags:\n",
    "  - attack.privilege_escalation\n",
    "  - attack.t1068\n",
    "  logsource:\n",
    "    category: process_creation\n",
    "    product: windows\n",
    "    service: null\n",
    "  detection:\n",
    "    selection:\n",
    "      ParentImage: '*\\consent.exe'\n",
    "      Image: '*\\iexplore.exe'\n",
    "      CommandLine: '* http*'\n",
    "    rights1:\n",
    "      IntegrityLevel: System\n",
    "    rights2:\n",
    "      User: NT AUTHORITY\\SYSTEM\n",
    "    condition: selection and ( rights1 or rights2 )\n",
    "  falsepositives:\n",
    "  - Unknown\n",
    "  level: critical\n",
    "\n",
    "```"
   ]
  },
  {
   "cell_type": "markdown",
   "metadata": {},
   "source": [
    "## Querying Elasticsearch"
   ]
  },
  {
   "cell_type": "markdown",
   "metadata": {},
   "source": [
    "### Import Libraries"
   ]
  },
  {
   "cell_type": "code",
   "execution_count": null,
   "metadata": {},
   "outputs": [],
   "source": [
    "from elasticsearch import Elasticsearch\n",
    "from elasticsearch_dsl import Search\n",
    "import pandas as pd"
   ]
  },
  {
   "cell_type": "markdown",
   "metadata": {},
   "source": [
    "### Initialize Elasticsearch client"
   ]
  },
  {
   "cell_type": "code",
   "execution_count": null,
   "metadata": {},
   "outputs": [],
   "source": [
    "es = Elasticsearch([http://ip_here:9200/])\n",
    "searchContext = Search(using=es, index='logs-*', doc_type='doc')"
   ]
  },
  {
   "cell_type": "markdown",
   "metadata": {},
   "source": [
    "### Run Elasticsearch Query"
   ]
  },
  {
   "cell_type": "code",
   "execution_count": null,
   "metadata": {},
   "outputs": [],
   "source": [
    "s = searchContext.query('query_string', query='((process_parent_path.keyword:*\\\\consent.exe AND process_path.keyword:*\\\\iexplore.exe AND process_command_line.keyword:*\\ http*) AND (IntegrityLevel:\"System\" OR user_account:\"NT\\ AUTHORITY\\\\SYSTEM\"))')\n",
    "response = s.execute()\n",
    "if response.success():\n",
    "    df = pd.DataFrame((d.to_dict() for d in s.scan()))"
   ]
  },
  {
   "cell_type": "markdown",
   "metadata": {},
   "source": [
    "### Show Results"
   ]
  },
  {
   "cell_type": "code",
   "execution_count": null,
   "metadata": {},
   "outputs": [],
   "source": [
    "df.head()"
   ]
  }
 ],
 "metadata": {},
 "nbformat": 4,
 "nbformat_minor": 4
}
