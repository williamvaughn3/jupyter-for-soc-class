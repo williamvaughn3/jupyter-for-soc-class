{
 "cells": [
  {
   "cell_type": "markdown",
   "metadata": {},
   "source": [
    "# Suspicious Reverse Shell Command Line\n",
    "Detects suspicious shell commands or program code that may be exected or used in command line to establish a reverse shell"
   ]
  },
  {
   "cell_type": "markdown",
   "metadata": {},
   "source": [
    "## Rule Content\n",
    "```\n",
    "- title: Suspicious Reverse Shell Command Line\n",
    "  id: 738d9bcf-6999-4fdb-b4ac-3033037db8ab\n",
    "  status: experimental\n",
    "  description: Detects suspicious shell commands or program code that may be exected\n",
    "    or used in command line to establish a reverse shell\n",
    "  references:\n",
    "  - https://alamot.github.io/reverse_shells/\n",
    "  author: Florian Roth\n",
    "  date: 2019/04/02\n",
    "  logsource:\n",
    "    product: linux\n",
    "    service: null\n",
    "    category: null\n",
    "  detection:\n",
    "    keywords:\n",
    "    - BEGIN {s = \"/inet/tcp/0/\n",
    "    - bash -i >& /dev/tcp/\n",
    "    - bash -i >& /dev/udp/\n",
    "    - sh -i >$ /dev/udp/\n",
    "    - sh -i >$ /dev/tcp/\n",
    "    - '&& while read line 0<&5; do'\n",
    "    - /bin/bash -c exec 5<>/dev/tcp/\n",
    "    - /bin/bash -c exec 5<>/dev/udp/\n",
    "    - 'nc -e /bin/sh '\n",
    "    - /bin/sh | nc\n",
    "    - 'rm -f backpipe; mknod /tmp/backpipe p && nc '\n",
    "    - ;socket(S,PF_INET,SOCK_STREAM,getprotobyname(\"tcp\"));if(connect(S,sockaddr_in($p,inet_aton($i))))\n",
    "    - ;STDIN->fdopen($c,r);$~->fdopen($c,w);system$_ while<>;\n",
    "    - /bin/sh -i <&3 >&3 2>&3\n",
    "    - uname -a; w; id; /bin/bash -i\n",
    "    - $sendbyte = ([text.encoding]::ASCII).GetBytes($sendback2); $stream.Write($sendbyte,0,$sendbyte.Length);\n",
    "      $stream.Flush()};\n",
    "    - ;os.dup2(s.fileno(),0);os.dup2(s.fileno(),1);os.dup2(s.fileno(),2);os.putenv('HISTFILE','/dev/null');\n",
    "    - .to_i;exec sprintf(\"/bin/sh -i <&%d >&%d 2>&%d\",f,f,f)\n",
    "    - ;while(cmd=c.gets);IO.popen(cmd,\"r\"){|io|c.print\n",
    "    - 'socat exec:''bash -li'',pty,stderr,setsid,sigint,sane tcp:'\n",
    "    - rm -f /tmp/p; mknod /tmp/p p &&\n",
    "    - ' | /bin/bash | telnet '\n",
    "    - ',echo=0,raw tcp-listen:'\n",
    "    - 'nc -lvvp '\n",
    "    - xterm -display 1\n",
    "    condition: keywords\n",
    "  falsepositives:\n",
    "  - Unknown\n",
    "  level: high\n",
    "\n",
    "```"
   ]
  },
  {
   "cell_type": "markdown",
   "metadata": {},
   "source": [
    "## Querying Elasticsearch"
   ]
  },
  {
   "cell_type": "markdown",
   "metadata": {},
   "source": [
    "### Import Libraries"
   ]
  },
  {
   "cell_type": "code",
   "execution_count": null,
   "metadata": {},
   "outputs": [],
   "source": [
    "from elasticsearch import Elasticsearch\n",
    "from elasticsearch_dsl import Search\n",
    "import pandas as pd"
   ]
  },
  {
   "cell_type": "markdown",
   "metadata": {},
   "source": [
    "### Initialize Elasticsearch client"
   ]
  },
  {
   "cell_type": "code",
   "execution_count": null,
   "metadata": {},
   "outputs": [],
   "source": [
    "es = Elasticsearch([http://ip_here:9200/])\n",
    "searchContext = Search(using=es, index='logs-*', doc_type='doc')"
   ]
  },
  {
   "cell_type": "markdown",
   "metadata": {},
   "source": [
    "### Run Elasticsearch Query"
   ]
  },
  {
   "cell_type": "code",
   "execution_count": null,
   "metadata": {},
   "outputs": [],
   "source": [
    "s = searchContext.query('query_string', query='\\*.keyword:(*BEGIN\\ \\{s\\ \\=\\ \\\"\\/inet\\/tcp\\/0\\/* OR *bash\\ \\-i\\ &\\ \\/dev\\/tcp\\/* OR *bash\\ \\-i\\ &\\ \\/dev\\/udp\\/* OR *sh\\ \\-i\\ $\\ \\/dev\\/udp\\/* OR *sh\\ \\-i\\ $\\ \\/dev\\/tcp\\/* OR *\\&&\\ while\\ read\\ line\\ 0&5;\\ do* OR *\\/bin\\/bash\\ \\-c\\ exec\\ 5\\/dev\\/tcp\\/* OR *\\/bin\\/bash\\ \\-c\\ exec\\ 5\\/dev\\/udp\\/* OR *nc\\ \\-e\\ \\/bin\\/sh\\ * OR *\\/bin\\/sh\\ |\\ nc* OR *rm\\ \\-f\\ backpipe;\\ mknod\\ \\/tmp\\/backpipe\\ p\\ \\&&\\ nc\\ * OR *;socket\\(S,PF_INET,SOCK_STREAM,getprotobyname\\(\\\"tcp\\\"\\)\\);if\\(connect\\(S,sockaddr_in\\($p,inet_aton\\($i\\)\\)\\)\\)* OR *;STDIN\\-fdopen\\($c,r\\);$\\~\\-fdopen\\($c,w\\);system$_\\ while;* OR *\\/bin\\/sh\\ \\-i\\ &3\\ &3\\ 2&3* OR *uname\\ \\-a;\\ w;\\ id;\\ \\/bin\\/bash\\ \\-i* OR *$sendbyte\\ \\=\\ \\(\\[text.encoding\\]\\:\\:ASCII\\).GetBytes\\($sendback2\\);\\ $stream.Write\\($sendbyte,0,$sendbyte.Length\\);\\ $stream.Flush\\(\\)\\};* OR *;os.dup2\\(s.fileno\\(\\),0\\);os.dup2\\(s.fileno\\(\\),1\\);os.dup2\\(s.fileno\\(\\),2\\);os.putenv\\('HISTFILE','\\/dev\\/null'\\);* OR *.to_i;exec\\ sprintf\\(\\\"\\/bin\\/sh\\ \\-i\\ &%d\\ &%d\\ 2&%d\\\",f,f,f\\)* OR *;while\\(cmd\\=c.gets\\);IO.popen\\(cmd,\\\"r\\\"\\)\\{|io|c.print* OR *socat\\ exec\\:'bash\\ \\-li',pty,stderr,setsid,sigint,sane\\ tcp\\:* OR *rm\\ \\-f\\ \\/tmp\\/p;\\ mknod\\ \\/tmp\\/p\\ p\\ \\&&* OR *\\ |\\ \\/bin\\/bash\\ |\\ telnet\\ * OR *,echo\\=0,raw\\ tcp\\-listen\\:* OR *nc\\ \\-lvvp\\ * OR *xterm\\ \\-display\\ 1*)')\n",
    "response = s.execute()\n",
    "if response.success():\n",
    "    df = pd.DataFrame((d.to_dict() for d in s.scan()))"
   ]
  },
  {
   "cell_type": "markdown",
   "metadata": {},
   "source": [
    "### Show Results"
   ]
  },
  {
   "cell_type": "code",
   "execution_count": null,
   "metadata": {},
   "outputs": [],
   "source": [
    "df.head()"
   ]
  }
 ],
 "metadata": {},
 "nbformat": 4,
 "nbformat_minor": 4
}
