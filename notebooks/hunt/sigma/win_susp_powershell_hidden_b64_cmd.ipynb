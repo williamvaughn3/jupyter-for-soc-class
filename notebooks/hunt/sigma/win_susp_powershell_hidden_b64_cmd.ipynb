{
 "cells": [
  {
   "cell_type": "markdown",
   "metadata": {},
   "source": [
    "# Malicious Base64 encoded PowerShell Keywords in command lines\n",
    "Detects base64 encoded strings used in hidden malicious PowerShell command lines"
   ]
  },
  {
   "cell_type": "markdown",
   "metadata": {},
   "source": [
    "## Rule Content\n",
    "```\n",
    "- title: Malicious Base64 encoded PowerShell Keywords in command lines\n",
    "  id: f26c6093-6f14-4b12-800f-0fcb46f5ffd0\n",
    "  status: experimental\n",
    "  description: Detects base64 encoded strings used in hidden malicious PowerShell\n",
    "    command lines\n",
    "  references:\n",
    "  - http://www.leeholmes.com/blog/2017/09/21/searching-for-content-in-base-64-strings/\n",
    "  tags:\n",
    "  - attack.execution\n",
    "  - attack.t1086\n",
    "  author: John Lambert (rule)\n",
    "  logsource:\n",
    "    category: process_creation\n",
    "    product: windows\n",
    "    service: null\n",
    "  detection:\n",
    "    encoded:\n",
    "      Image: '*\\powershell.exe'\n",
    "      CommandLine: '* hidden *'\n",
    "    selection:\n",
    "      CommandLine:\n",
    "      - '*AGkAdABzAGEAZABtAGkAbgAgAC8AdAByAGEAbgBzAGYAZQByA*'\n",
    "      - '*aXRzYWRtaW4gL3RyYW5zZmVy*'\n",
    "      - '*IAaQB0AHMAYQBkAG0AaQBuACAALwB0AHIAYQBuAHMAZgBlAHIA*'\n",
    "      - '*JpdHNhZG1pbiAvdHJhbnNmZX*'\n",
    "      - '*YgBpAHQAcwBhAGQAbQBpAG4AIAAvAHQAcgBhAG4AcwBmAGUAcg*'\n",
    "      - '*Yml0c2FkbWluIC90cmFuc2Zlc*'\n",
    "      - '*AGMAaAB1AG4AawBfAHMAaQB6AGUA*'\n",
    "      - '*JABjAGgAdQBuAGsAXwBzAGkAegBlA*'\n",
    "      - '*JGNodW5rX3Npem*'\n",
    "      - '*QAYwBoAHUAbgBrAF8AcwBpAHoAZQ*'\n",
    "      - '*RjaHVua19zaXpl*'\n",
    "      - '*Y2h1bmtfc2l6Z*'\n",
    "      - '*AE8ALgBDAG8AbQBwAHIAZQBzAHMAaQBvAG4A*'\n",
    "      - '*kATwAuAEMAbwBtAHAAcgBlAHMAcwBpAG8Abg*'\n",
    "      - '*lPLkNvbXByZXNzaW9u*'\n",
    "      - '*SQBPAC4AQwBvAG0AcAByAGUAcwBzAGkAbwBuA*'\n",
    "      - '*SU8uQ29tcHJlc3Npb2*'\n",
    "      - '*Ty5Db21wcmVzc2lvb*'\n",
    "      - '*AE8ALgBNAGUAbQBvAHIAeQBTAHQAcgBlAGEAbQ*'\n",
    "      - '*kATwAuAE0AZQBtAG8AcgB5AFMAdAByAGUAYQBtA*'\n",
    "      - '*lPLk1lbW9yeVN0cmVhb*'\n",
    "      - '*SQBPAC4ATQBlAG0AbwByAHkAUwB0AHIAZQBhAG0A*'\n",
    "      - '*SU8uTWVtb3J5U3RyZWFt*'\n",
    "      - '*Ty5NZW1vcnlTdHJlYW*'\n",
    "      - '*4ARwBlAHQAQwBoAHUAbgBrA*'\n",
    "      - '*5HZXRDaHVua*'\n",
    "      - '*AEcAZQB0AEMAaAB1AG4Aaw*'\n",
    "      - '*LgBHAGUAdABDAGgAdQBuAGsA*'\n",
    "      - '*LkdldENodW5r*'\n",
    "      - '*R2V0Q2h1bm*'\n",
    "      - '*AEgAUgBFAEEARABfAEkATgBGAE8ANgA0A*'\n",
    "      - '*QASABSAEUAQQBEAF8ASQBOAEYATwA2ADQA*'\n",
    "      - '*RIUkVBRF9JTkZPNj*'\n",
    "      - '*SFJFQURfSU5GTzY0*'\n",
    "      - '*VABIAFIARQBBAEQAXwBJAE4ARgBPADYANA*'\n",
    "      - '*VEhSRUFEX0lORk82N*'\n",
    "      - '*AHIAZQBhAHQAZQBSAGUAbQBvAHQAZQBUAGgAcgBlAGEAZA*'\n",
    "      - '*cmVhdGVSZW1vdGVUaHJlYW*'\n",
    "      - '*MAcgBlAGEAdABlAFIAZQBtAG8AdABlAFQAaAByAGUAYQBkA*'\n",
    "      - '*NyZWF0ZVJlbW90ZVRocmVhZ*'\n",
    "      - '*Q3JlYXRlUmVtb3RlVGhyZWFk*'\n",
    "      - '*QwByAGUAYQB0AGUAUgBlAG0AbwB0AGUAVABoAHIAZQBhAGQA*'\n",
    "      - '*0AZQBtAG0AbwB2AGUA*'\n",
    "      - '*1lbW1vdm*'\n",
    "      - '*AGUAbQBtAG8AdgBlA*'\n",
    "      - '*bQBlAG0AbQBvAHYAZQ*'\n",
    "      - '*bWVtbW92Z*'\n",
    "      - '*ZW1tb3Zl*'\n",
    "    condition: encoded and selection\n",
    "  falsepositives:\n",
    "  - Penetration tests\n",
    "  level: high\n",
    "\n",
    "```"
   ]
  },
  {
   "cell_type": "markdown",
   "metadata": {},
   "source": [
    "## Querying Elasticsearch"
   ]
  },
  {
   "cell_type": "markdown",
   "metadata": {},
   "source": [
    "### Import Libraries"
   ]
  },
  {
   "cell_type": "code",
   "execution_count": null,
   "metadata": {},
   "outputs": [],
   "source": [
    "from elasticsearch import Elasticsearch\n",
    "from elasticsearch_dsl import Search\n",
    "import pandas as pd"
   ]
  },
  {
   "cell_type": "markdown",
   "metadata": {},
   "source": [
    "### Initialize Elasticsearch client"
   ]
  },
  {
   "cell_type": "code",
   "execution_count": null,
   "metadata": {},
   "outputs": [],
   "source": [
    "es = Elasticsearch([http://ip_here:9200/])\n",
    "searchContext = Search(using=es, index='logs-*', doc_type='doc')"
   ]
  },
  {
   "cell_type": "markdown",
   "metadata": {},
   "source": [
    "### Run Elasticsearch Query"
   ]
  },
  {
   "cell_type": "code",
   "execution_count": null,
   "metadata": {},
   "outputs": [],
   "source": [
    "s = searchContext.query('query_string', query='(process_path.keyword:*\\\\powershell.exe AND process_command_line.keyword:*\\ hidden\\ * AND process_command_line.keyword:(*AGkAdABzAGEAZABtAGkAbgAgAC8AdAByAGEAbgBzAGYAZQByA* OR *aXRzYWRtaW4gL3RyYW5zZmVy* OR *IAaQB0AHMAYQBkAG0AaQBuACAALwB0AHIAYQBuAHMAZgBlAHIA* OR *JpdHNhZG1pbiAvdHJhbnNmZX* OR *YgBpAHQAcwBhAGQAbQBpAG4AIAAvAHQAcgBhAG4AcwBmAGUAcg* OR *Yml0c2FkbWluIC90cmFuc2Zlc* OR *AGMAaAB1AG4AawBfAHMAaQB6AGUA* OR *JABjAGgAdQBuAGsAXwBzAGkAegBlA* OR *JGNodW5rX3Npem* OR *QAYwBoAHUAbgBrAF8AcwBpAHoAZQ* OR *RjaHVua19zaXpl* OR *Y2h1bmtfc2l6Z* OR *AE8ALgBDAG8AbQBwAHIAZQBzAHMAaQBvAG4A* OR *kATwAuAEMAbwBtAHAAcgBlAHMAcwBpAG8Abg* OR *lPLkNvbXByZXNzaW9u* OR *SQBPAC4AQwBvAG0AcAByAGUAcwBzAGkAbwBuA* OR *SU8uQ29tcHJlc3Npb2* OR *Ty5Db21wcmVzc2lvb* OR *AE8ALgBNAGUAbQBvAHIAeQBTAHQAcgBlAGEAbQ* OR *kATwAuAE0AZQBtAG8AcgB5AFMAdAByAGUAYQBtA* OR *lPLk1lbW9yeVN0cmVhb* OR *SQBPAC4ATQBlAG0AbwByAHkAUwB0AHIAZQBhAG0A* OR *SU8uTWVtb3J5U3RyZWFt* OR *Ty5NZW1vcnlTdHJlYW* OR *4ARwBlAHQAQwBoAHUAbgBrA* OR *5HZXRDaHVua* OR *AEcAZQB0AEMAaAB1AG4Aaw* OR *LgBHAGUAdABDAGgAdQBuAGsA* OR *LkdldENodW5r* OR *R2V0Q2h1bm* OR *AEgAUgBFAEEARABfAEkATgBGAE8ANgA0A* OR *QASABSAEUAQQBEAF8ASQBOAEYATwA2ADQA* OR *RIUkVBRF9JTkZPNj* OR *SFJFQURfSU5GTzY0* OR *VABIAFIARQBBAEQAXwBJAE4ARgBPADYANA* OR *VEhSRUFEX0lORk82N* OR *AHIAZQBhAHQAZQBSAGUAbQBvAHQAZQBUAGgAcgBlAGEAZA* OR *cmVhdGVSZW1vdGVUaHJlYW* OR *MAcgBlAGEAdABlAFIAZQBtAG8AdABlAFQAaAByAGUAYQBkA* OR *NyZWF0ZVJlbW90ZVRocmVhZ* OR *Q3JlYXRlUmVtb3RlVGhyZWFk* OR *QwByAGUAYQB0AGUAUgBlAG0AbwB0AGUAVABoAHIAZQBhAGQA* OR *0AZQBtAG0AbwB2AGUA* OR *1lbW1vdm* OR *AGUAbQBtAG8AdgBlA* OR *bQBlAG0AbQBvAHYAZQ* OR *bWVtbW92Z* OR *ZW1tb3Zl*))')\n",
    "response = s.execute()\n",
    "if response.success():\n",
    "    df = pd.DataFrame((d.to_dict() for d in s.scan()))"
   ]
  },
  {
   "cell_type": "markdown",
   "metadata": {},
   "source": [
    "### Show Results"
   ]
  },
  {
   "cell_type": "code",
   "execution_count": null,
   "metadata": {},
   "outputs": [],
   "source": [
    "df.head()"
   ]
  }
 ],
 "metadata": {},
 "nbformat": 4,
 "nbformat_minor": 4
}
