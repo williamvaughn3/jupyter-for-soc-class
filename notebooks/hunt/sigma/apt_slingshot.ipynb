{
 "cells": [
  {
   "cell_type": "markdown",
   "metadata": {},
   "source": [
    "# Defrag Deactivation\n",
    "Detects the deactivation of the Scheduled defragmentation task as seen by Slingshot APT group"
   ]
  },
  {
   "cell_type": "markdown",
   "metadata": {},
   "source": [
    "## Rule Content\n",
    "```\n",
    "- action: global\n",
    "  title: Defrag Deactivation\n",
    "  id: 958d81aa-8566-4cea-a565-59ccd4df27b0\n",
    "  author: Florian Roth\n",
    "  description: Detects the deactivation of the Scheduled defragmentation task as seen\n",
    "    by Slingshot APT group\n",
    "  references:\n",
    "  - https://securelist.com/apt-slingshot/84312/\n",
    "  tags:\n",
    "  - attack.persistence\n",
    "  - attack.t1053\n",
    "  - attack.s0111\n",
    "  detection:\n",
    "    condition: 1 of them\n",
    "  falsepositives:\n",
    "  - Unknown\n",
    "  level: medium\n",
    "- logsource:\n",
    "    category: process_creation\n",
    "    product: windows\n",
    "  detection:\n",
    "    selection1:\n",
    "      CommandLine:\n",
    "      - '*schtasks* /delete *Defrag\\ScheduledDefrag*'\n",
    "- logsource:\n",
    "    product: windows\n",
    "    service: security\n",
    "    definition: 'Requirements: Audit Policy : Audit Other Object Access Events > Success'\n",
    "  detection:\n",
    "    selection2:\n",
    "      EventID: 4701\n",
    "      TaskName: \\Microsoft\\Windows\\Defrag\\ScheduledDefrag\n",
    "\n",
    "```"
   ]
  },
  {
   "cell_type": "markdown",
   "metadata": {},
   "source": [
    "## Querying Elasticsearch"
   ]
  },
  {
   "cell_type": "markdown",
   "metadata": {},
   "source": [
    "### Import Libraries"
   ]
  },
  {
   "cell_type": "code",
   "execution_count": null,
   "metadata": {},
   "outputs": [],
   "source": [
    "from elasticsearch import Elasticsearch\n",
    "from elasticsearch_dsl import Search\n",
    "import pandas as pd"
   ]
  },
  {
   "cell_type": "markdown",
   "metadata": {},
   "source": [
    "### Initialize Elasticsearch client"
   ]
  },
  {
   "cell_type": "code",
   "execution_count": null,
   "metadata": {},
   "outputs": [],
   "source": [
    "es = Elasticsearch([http://ip_here:9200/])\n",
    "searchContext = Search(using=es, index='logs-*', doc_type='doc')"
   ]
  },
  {
   "cell_type": "markdown",
   "metadata": {},
   "source": [
    "### Run Elasticsearch Query"
   ]
  },
  {
   "cell_type": "code",
   "execution_count": null,
   "metadata": {},
   "outputs": [],
   "source": [
    "s = searchContext.query('query_string', query='process_command_line.keyword:(*schtasks*\\ \\/delete\\ *Defrag\\\\ScheduledDefrag*)')\n",
    "response = s.execute()\n",
    "if response.success():\n",
    "    df = pd.DataFrame((d.to_dict() for d in s.scan()))"
   ]
  },
  {
   "cell_type": "code",
   "execution_count": null,
   "metadata": {},
   "outputs": [],
   "source": [
    "s = searchContext.query('query_string', query='(event_id:\"4701\" AND task_name:\"\\\\Microsoft\\\\Windows\\\\Defrag\\\\ScheduledDefrag\")')\n",
    "response = s.execute()\n",
    "if response.success():\n",
    "    df = pd.DataFrame((d.to_dict() for d in s.scan()))"
   ]
  },
  {
   "cell_type": "markdown",
   "metadata": {},
   "source": [
    "### Show Results"
   ]
  },
  {
   "cell_type": "code",
   "execution_count": null,
   "metadata": {},
   "outputs": [],
   "source": [
    "df.head()"
   ]
  }
 ],
 "metadata": {},
 "nbformat": 4,
 "nbformat_minor": 4
}
