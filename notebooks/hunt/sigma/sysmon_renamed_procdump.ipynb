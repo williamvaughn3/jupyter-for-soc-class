{
 "cells": [
  {
   "cell_type": "markdown",
   "metadata": {},
   "source": [
    "# Renamed ProcDump\n",
    "Detects the execution of a renamed ProcDump executable often used by attackers or malware"
   ]
  },
  {
   "cell_type": "markdown",
   "metadata": {},
   "source": [
    "## Rule Content\n",
    "```\n",
    "- title: Renamed ProcDump\n",
    "  id: 4a0b2c7e-7cb2-495d-8b63-5f268e7bfd67\n",
    "  status: experimental\n",
    "  description: Detects the execution of a renamed ProcDump executable often used by\n",
    "    attackers or malware\n",
    "  references:\n",
    "  - https://docs.microsoft.com/en-us/sysinternals/downloads/procdump\n",
    "  author: Florian Roth\n",
    "  date: 2019/11/18\n",
    "  tags:\n",
    "  - attack.defense_evasion\n",
    "  - attack.t1036\n",
    "  logsource:\n",
    "    product: windows\n",
    "    service: sysmon\n",
    "    category: null\n",
    "  detection:\n",
    "    selection:\n",
    "      OriginalFileName: procdump\n",
    "    filter:\n",
    "      Image:\n",
    "      - '*\\procdump.exe'\n",
    "      - '*\\procdump64.exe'\n",
    "    condition: selection and not filter\n",
    "  falsepositives:\n",
    "  - Procdump illegaly bundled with legitimate software\n",
    "  - Weird admins who renamed binaries\n",
    "  level: critical\n",
    "\n",
    "```"
   ]
  },
  {
   "cell_type": "markdown",
   "metadata": {},
   "source": [
    "## Querying Elasticsearch"
   ]
  },
  {
   "cell_type": "markdown",
   "metadata": {},
   "source": [
    "### Import Libraries"
   ]
  },
  {
   "cell_type": "code",
   "execution_count": null,
   "metadata": {},
   "outputs": [],
   "source": [
    "from elasticsearch import Elasticsearch\n",
    "from elasticsearch_dsl import Search\n",
    "import pandas as pd"
   ]
  },
  {
   "cell_type": "markdown",
   "metadata": {},
   "source": [
    "### Initialize Elasticsearch client"
   ]
  },
  {
   "cell_type": "code",
   "execution_count": null,
   "metadata": {},
   "outputs": [],
   "source": [
    "es = Elasticsearch([http://ip_here:9200/])\n",
    "searchContext = Search(using=es, index='logs-endpoint-winevent-sysmon-*', doc_type='doc')"
   ]
  },
  {
   "cell_type": "markdown",
   "metadata": {},
   "source": [
    "### Run Elasticsearch Query"
   ]
  },
  {
   "cell_type": "code",
   "execution_count": null,
   "metadata": {},
   "outputs": [],
   "source": [
    "s = searchContext.query('query_string', query='(file_name_original:\"procdump\" AND (NOT (process_path.keyword:(*\\\\procdump.exe OR *\\\\procdump64.exe))))')\n",
    "response = s.execute()\n",
    "if response.success():\n",
    "    df = pd.DataFrame((d.to_dict() for d in s.scan()))"
   ]
  },
  {
   "cell_type": "markdown",
   "metadata": {},
   "source": [
    "### Show Results"
   ]
  },
  {
   "cell_type": "code",
   "execution_count": null,
   "metadata": {},
   "outputs": [],
   "source": [
    "df.head()"
   ]
  }
 ],
 "metadata": {},
 "nbformat": 4,
 "nbformat_minor": 4
}
