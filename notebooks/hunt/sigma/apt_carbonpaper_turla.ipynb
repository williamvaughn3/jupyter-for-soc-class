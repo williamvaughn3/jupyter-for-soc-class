{
 "cells": [
  {
   "cell_type": "markdown",
   "metadata": {},
   "source": [
    "# Turla Service Install\n",
    "This method detects a service install of malicious services mentioned in Carbon Paper - Turla report by ESET"
   ]
  },
  {
   "cell_type": "markdown",
   "metadata": {},
   "source": [
    "## Rule Content\n",
    "```\n",
    "- title: Turla Service Install\n",
    "  id: 1df8b3da-b0ac-4d8a-b7c7-6cb7c24160e4\n",
    "  description: This method detects a service install of malicious services mentioned\n",
    "    in Carbon Paper - Turla report by ESET\n",
    "  references:\n",
    "  - https://www.welivesecurity.com/2017/03/30/carbon-paper-peering-turlas-second-stage-backdoor/\n",
    "  tags:\n",
    "  - attack.persistence\n",
    "  - attack.g0010\n",
    "  - attack.t1050\n",
    "  logsource:\n",
    "    product: windows\n",
    "    service: system\n",
    "    category: null\n",
    "  detection:\n",
    "    selection:\n",
    "      EventID: 7045\n",
    "      ServiceName:\n",
    "      - srservice\n",
    "      - ipvpn\n",
    "      - hkmsvc\n",
    "    condition: selection\n",
    "  falsepositives:\n",
    "  - Unknown\n",
    "  level: high\n",
    "\n",
    "```"
   ]
  },
  {
   "cell_type": "markdown",
   "metadata": {},
   "source": [
    "## Querying Elasticsearch"
   ]
  },
  {
   "cell_type": "markdown",
   "metadata": {},
   "source": [
    "### Import Libraries"
   ]
  },
  {
   "cell_type": "code",
   "execution_count": null,
   "metadata": {},
   "outputs": [],
   "source": [
    "from elasticsearch import Elasticsearch\n",
    "from elasticsearch_dsl import Search\n",
    "import pandas as pd"
   ]
  },
  {
   "cell_type": "markdown",
   "metadata": {},
   "source": [
    "### Initialize Elasticsearch client"
   ]
  },
  {
   "cell_type": "code",
   "execution_count": null,
   "metadata": {},
   "outputs": [],
   "source": [
    "es = Elasticsearch([http://ip_here:9200/])\n",
    "searchContext = Search(using=es, index='logs-endpoint-winevent-system-*', doc_type='doc')"
   ]
  },
  {
   "cell_type": "markdown",
   "metadata": {},
   "source": [
    "### Run Elasticsearch Query"
   ]
  },
  {
   "cell_type": "code",
   "execution_count": null,
   "metadata": {},
   "outputs": [],
   "source": [
    "s = searchContext.query('query_string', query='(event_id:\"7045\" AND service_name:(\"srservice\" OR \"ipvpn\" OR \"hkmsvc\"))')\n",
    "response = s.execute()\n",
    "if response.success():\n",
    "    df = pd.DataFrame((d.to_dict() for d in s.scan()))"
   ]
  },
  {
   "cell_type": "markdown",
   "metadata": {},
   "source": [
    "### Show Results"
   ]
  },
  {
   "cell_type": "code",
   "execution_count": null,
   "metadata": {},
   "outputs": [],
   "source": [
    "df.head()"
   ]
  }
 ],
 "metadata": {},
 "nbformat": 4,
 "nbformat_minor": 4
}
