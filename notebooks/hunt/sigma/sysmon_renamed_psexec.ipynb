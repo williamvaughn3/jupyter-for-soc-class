{
 "cells": [
  {
   "cell_type": "markdown",
   "metadata": {},
   "source": [
    "# Renamed PsExec\n",
    "Detects the execution of a renamed PsExec often used by attackers or malware"
   ]
  },
  {
   "cell_type": "markdown",
   "metadata": {},
   "source": [
    "## Rule Content\n",
    "```\n",
    "- title: Renamed PsExec\n",
    "  id: a7a7e0e5-1d57-49df-9c58-9fe5bc0346a2\n",
    "  status: experimental\n",
    "  description: Detects the execution of a renamed PsExec often used by attackers or\n",
    "    malware\n",
    "  references:\n",
    "  - https://www.trendmicro.com/vinfo/hk-en/security/news/cybercrime-and-digital-threats/megacortex-ransomware-spotted-attacking-enterprise-networks\n",
    "  author: Florian Roth\n",
    "  date: 2019/05/21\n",
    "  tags:\n",
    "  - car.2013-05-009\n",
    "  logsource:\n",
    "    product: windows\n",
    "    service: sysmon\n",
    "    category: null\n",
    "  detection:\n",
    "    selection:\n",
    "      Description: Execute processes remotely\n",
    "      Product: Sysinternals PsExec\n",
    "    filter:\n",
    "      Image:\n",
    "      - '*\\PsExec.exe'\n",
    "      - '*\\PsExec64.exe'\n",
    "    condition: selection and not filter\n",
    "  falsepositives:\n",
    "  - Software that illegaly integrates PsExec in a renamed form\n",
    "  - Administrators that have renamed PsExec and no one knows why\n",
    "  level: high\n",
    "\n",
    "```"
   ]
  },
  {
   "cell_type": "markdown",
   "metadata": {},
   "source": [
    "## Querying Elasticsearch"
   ]
  },
  {
   "cell_type": "markdown",
   "metadata": {},
   "source": [
    "### Import Libraries"
   ]
  },
  {
   "cell_type": "code",
   "execution_count": null,
   "metadata": {},
   "outputs": [],
   "source": [
    "from elasticsearch import Elasticsearch\n",
    "from elasticsearch_dsl import Search\n",
    "import pandas as pd"
   ]
  },
  {
   "cell_type": "markdown",
   "metadata": {},
   "source": [
    "### Initialize Elasticsearch client"
   ]
  },
  {
   "cell_type": "code",
   "execution_count": null,
   "metadata": {},
   "outputs": [],
   "source": [
    "es = Elasticsearch([http://ip_here:9200/])\n",
    "searchContext = Search(using=es, index='logs-endpoint-winevent-sysmon-*', doc_type='doc')"
   ]
  },
  {
   "cell_type": "markdown",
   "metadata": {},
   "source": [
    "### Run Elasticsearch Query"
   ]
  },
  {
   "cell_type": "code",
   "execution_count": null,
   "metadata": {},
   "outputs": [],
   "source": [
    "s = searchContext.query('query_string', query='((file_description:\"Execute\\ processes\\ remotely\" AND file_product:\"Sysinternals\\ PsExec\") AND (NOT (process_path.keyword:(*\\\\PsExec.exe OR *\\\\PsExec64.exe))))')\n",
    "response = s.execute()\n",
    "if response.success():\n",
    "    df = pd.DataFrame((d.to_dict() for d in s.scan()))"
   ]
  },
  {
   "cell_type": "markdown",
   "metadata": {},
   "source": [
    "### Show Results"
   ]
  },
  {
   "cell_type": "code",
   "execution_count": null,
   "metadata": {},
   "outputs": [],
   "source": [
    "df.head()"
   ]
  }
 ],
 "metadata": {},
 "nbformat": 4,
 "nbformat_minor": 4
}
