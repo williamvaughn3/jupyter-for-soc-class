{
 "cells": [
  {
   "cell_type": "markdown",
   "metadata": {},
   "source": [
    "# Suspicious Outbound RDP Connections\n",
    "Detects Non-Standard Tools Connecting to TCP port 3389 indicating possible lateral movement"
   ]
  },
  {
   "cell_type": "markdown",
   "metadata": {},
   "source": [
    "## Rule Content\n",
    "```\n",
    "- title: Suspicious Outbound RDP Connections\n",
    "  id: ed74fe75-7594-4b4b-ae38-e38e3fd2eb23\n",
    "  status: experimental\n",
    "  description: Detects Non-Standard Tools Connecting to TCP port 3389 indicating possible\n",
    "    lateral movement\n",
    "  references:\n",
    "  - https://portal.msrc.microsoft.com/en-US/security-guidance/advisory/CVE-2019-0708\n",
    "  author: Markus Neis - Swisscom\n",
    "  date: 2019/05/15\n",
    "  tags:\n",
    "  - attack.lateral_movement\n",
    "  - attack.t1210\n",
    "  - car.2013-07-002\n",
    "  logsource:\n",
    "    product: windows\n",
    "    service: sysmon\n",
    "    category: null\n",
    "  detection:\n",
    "    selection:\n",
    "      EventID: 3\n",
    "      DestinationPort: 3389\n",
    "      Initiated: 'true'\n",
    "    filter:\n",
    "      Image:\n",
    "      - '*\\mstsc.exe'\n",
    "      - '*\\RTSApp.exe'\n",
    "      - '*\\RTS2App.exe'\n",
    "      - '*\\RDCMan.exe'\n",
    "      - '*\\ws_TunnelService.exe'\n",
    "      - '*\\RSSensor.exe'\n",
    "      - '*\\RemoteDesktopManagerFree.exe'\n",
    "      - '*\\RemoteDesktopManager.exe'\n",
    "      - '*\\RemoteDesktopManager64.exe'\n",
    "      - '*\\mRemoteNG.exe'\n",
    "      - '*\\mRemote.exe'\n",
    "      - '*\\Terminals.exe'\n",
    "      - '*\\spiceworks-finder.exe'\n",
    "      - '*\\FSDiscovery.exe'\n",
    "      - '*\\FSAssessment.exe'\n",
    "      - '*\\MobaRTE.exe'\n",
    "      - '*\\chrome.exe'\n",
    "      - '*\\thor.exe'\n",
    "      - '*\\thor64.exe'\n",
    "    condition: selection and not filter\n",
    "  falsepositives:\n",
    "  - Other Remote Desktop RDP tools\n",
    "  level: high\n",
    "\n",
    "```"
   ]
  },
  {
   "cell_type": "markdown",
   "metadata": {},
   "source": [
    "## Querying Elasticsearch"
   ]
  },
  {
   "cell_type": "markdown",
   "metadata": {},
   "source": [
    "### Import Libraries"
   ]
  },
  {
   "cell_type": "code",
   "execution_count": null,
   "metadata": {},
   "outputs": [],
   "source": [
    "from elasticsearch import Elasticsearch\n",
    "from elasticsearch_dsl import Search\n",
    "import pandas as pd"
   ]
  },
  {
   "cell_type": "markdown",
   "metadata": {},
   "source": [
    "### Initialize Elasticsearch client"
   ]
  },
  {
   "cell_type": "code",
   "execution_count": null,
   "metadata": {},
   "outputs": [],
   "source": [
    "es = Elasticsearch([http://ip_here:9200/])\n",
    "searchContext = Search(using=es, index='logs-endpoint-winevent-sysmon-*', doc_type='doc')"
   ]
  },
  {
   "cell_type": "markdown",
   "metadata": {},
   "source": [
    "### Run Elasticsearch Query"
   ]
  },
  {
   "cell_type": "code",
   "execution_count": null,
   "metadata": {},
   "outputs": [],
   "source": [
    "s = searchContext.query('query_string', query='((event_id:\"3\" AND dst_port:\"3389\" AND network_initiated:\"true\") AND (NOT (process_path.keyword:(*\\\\mstsc.exe OR *\\\\RTSApp.exe OR *\\\\RTS2App.exe OR *\\\\RDCMan.exe OR *\\\\ws_TunnelService.exe OR *\\\\RSSensor.exe OR *\\\\RemoteDesktopManagerFree.exe OR *\\\\RemoteDesktopManager.exe OR *\\\\RemoteDesktopManager64.exe OR *\\\\mRemoteNG.exe OR *\\\\mRemote.exe OR *\\\\Terminals.exe OR *\\\\spiceworks\\-finder.exe OR *\\\\FSDiscovery.exe OR *\\\\FSAssessment.exe OR *\\\\MobaRTE.exe OR *\\\\chrome.exe OR *\\\\thor.exe OR *\\\\thor64.exe))))')\n",
    "response = s.execute()\n",
    "if response.success():\n",
    "    df = pd.DataFrame((d.to_dict() for d in s.scan()))"
   ]
  },
  {
   "cell_type": "markdown",
   "metadata": {},
   "source": [
    "### Show Results"
   ]
  },
  {
   "cell_type": "code",
   "execution_count": null,
   "metadata": {},
   "outputs": [],
   "source": [
    "df.head()"
   ]
  }
 ],
 "metadata": {},
 "nbformat": 4,
 "nbformat_minor": 4
}
