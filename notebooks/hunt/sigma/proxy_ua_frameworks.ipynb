{
 "cells": [
  {
   "cell_type": "markdown",
   "metadata": {},
   "source": [
    "# Exploit Framework User Agent\n",
    "Detects suspicious user agent strings used by exploit / pentest framworks like Metasploit in proxy logs"
   ]
  },
  {
   "cell_type": "markdown",
   "metadata": {},
   "source": [
    "## Rule Content\n",
    "```\n",
    "- title: Exploit Framework User Agent\n",
    "  id: fdd1bfb5-f60b-4a35-910e-f36ed3d0b32f\n",
    "  status: experimental\n",
    "  description: Detects suspicious user agent strings used by exploit / pentest framworks\n",
    "    like Metasploit in proxy logs\n",
    "  references:\n",
    "  - https://blog.didierstevens.com/2015/03/16/quickpost-metasploit-user-agent-strings/\n",
    "  author: Florian Roth\n",
    "  logsource:\n",
    "    category: proxy\n",
    "    product: null\n",
    "    service: null\n",
    "  detection:\n",
    "    selection:\n",
    "      c-useragent:\n",
    "      - Internet Explorer *\n",
    "      - Mozilla/4.0 (compatible; MSIE 6.0; Windows NT 5.1; SV1; InfoPath.2)\n",
    "      - Mozilla/4.0 (compatible; Metasploit RSPEC)\n",
    "      - Mozilla/4.0 (compatible; MSIE 6.1; Windows NT)\n",
    "      - Mozilla/4.0 (compatible; MSIE 6.0; Windows NT 5.1)\n",
    "      - Mozilla/4.0 (compatible; MSIE 7.0; Windows NT 6.0)\n",
    "      - Mozilla/4.0 (compatible; MSIE 8.0; Windows NT 6.0; Trident/4.0)\n",
    "      - Mozilla/4.0 (compatible; MSIE 7.0; Windows NT 6.0; Trident/4.0; SIMBAR={7DB0F6DE-8DE7-4841-9084-28FA914B0F2E};\n",
    "        SLCC1; .N\n",
    "      - Mozilla/5.0 (compatible; Googlebot/2.1; +http://www.google.com/bot.html)\n",
    "      - Mozilla/5.0 (Windows; U; Windows NT 5.1; en-US) AppleWebKit/525.13 (KHTML,\n",
    "        like Gecko) Chrome/4.0.221.6 Safari/525.13\n",
    "      - Mozilla/5.0 (compatible; MSIE 9.0; Windows NT 6.1; WOW64; Trident/5.0; MAAU)\n",
    "      - Mozilla/5.0\n",
    "      - Mozilla/4.0 (compatible; SPIPE/1.0\n",
    "      - Mozilla/5.0 (Windows NT 6.3; rv:39.0) Gecko/20100101 Firefox/35.0\n",
    "      - Sametime Community Agent\n",
    "      - X-FORWARDED-FOR\n",
    "      - DotDotPwn v2.1\n",
    "      - SIPDROID\n",
    "      - Mozilla/5.0 (Windows NT 10.0; Win32; x32; rv:60.0)\n",
    "      - Mozilla/6.0 (X11; Linux x86_64; rv:24.0) Gecko/20140205     Firefox/27.0 Iceweasel/25.3.0\n",
    "      - '*wordpress hash grabber*'\n",
    "      - '*exploit*'\n",
    "    condition: selection\n",
    "  fields:\n",
    "  - ClientIP\n",
    "  - c-uri\n",
    "  - c-useragent\n",
    "  falsepositives:\n",
    "  - Unknown\n",
    "  level: high\n",
    "\n",
    "```"
   ]
  },
  {
   "cell_type": "markdown",
   "metadata": {},
   "source": [
    "## Querying Elasticsearch"
   ]
  },
  {
   "cell_type": "markdown",
   "metadata": {},
   "source": [
    "### Import Libraries"
   ]
  },
  {
   "cell_type": "code",
   "execution_count": null,
   "metadata": {},
   "outputs": [],
   "source": [
    "from elasticsearch import Elasticsearch\n",
    "from elasticsearch_dsl import Search\n",
    "import pandas as pd"
   ]
  },
  {
   "cell_type": "markdown",
   "metadata": {},
   "source": [
    "### Initialize Elasticsearch client"
   ]
  },
  {
   "cell_type": "code",
   "execution_count": null,
   "metadata": {},
   "outputs": [],
   "source": [
    "es = Elasticsearch([http://ip_here:9200/])\n",
    "searchContext = Search(using=es, index='logs-*', doc_type='doc')"
   ]
  },
  {
   "cell_type": "markdown",
   "metadata": {},
   "source": [
    "### Run Elasticsearch Query"
   ]
  },
  {
   "cell_type": "code",
   "execution_count": null,
   "metadata": {},
   "outputs": [],
   "source": [
    "s = searchContext.query('query_string', query='c-useragent.keyword:(Internet\\ Explorer\\ * OR Mozilla\\/4.0\\ \\(compatible;\\ MSIE\\ 6.0;\\ Windows\\ NT\\ 5.1;\\ SV1;\\ InfoPath.2\\) OR Mozilla\\/4.0\\ \\(compatible;\\ Metasploit\\ RSPEC\\) OR Mozilla\\/4.0\\ \\(compatible;\\ MSIE\\ 6.1;\\ Windows\\ NT\\) OR Mozilla\\/4.0\\ \\(compatible;\\ MSIE\\ 6.0;\\ Windows\\ NT\\ 5.1\\) OR Mozilla\\/4.0\\ \\(compatible;\\ MSIE\\ 7.0;\\ Windows\\ NT\\ 6.0\\) OR Mozilla\\/4.0\\ \\(compatible;\\ MSIE\\ 8.0;\\ Windows\\ NT\\ 6.0;\\ Trident\\/4.0\\) OR Mozilla\\/4.0\\ \\(compatible;\\ MSIE\\ 7.0;\\ Windows\\ NT\\ 6.0;\\ Trident\\/4.0;\\ SIMBAR\\=\\{7DB0F6DE\\-8DE7\\-4841\\-9084\\-28FA914B0F2E\\};\\ SLCC1;\\ .N OR Mozilla\\/5.0\\ \\(compatible;\\ Googlebot\\/2.1;\\ \\+http\\:\\/\\/www.google.com\\/bot.html\\) OR Mozilla\\/5.0\\ \\(Windows;\\ U;\\ Windows\\ NT\\ 5.1;\\ en\\-US\\)\\ AppleWebKit\\/525.13\\ \\(KHTML,\\ like\\ Gecko\\)\\ Chrome\\/4.0.221.6\\ Safari\\/525.13 OR Mozilla\\/5.0\\ \\(compatible;\\ MSIE\\ 9.0;\\ Windows\\ NT\\ 6.1;\\ WOW64;\\ Trident\\/5.0;\\ MAAU\\) OR Mozilla\\/5.0 OR Mozilla\\/4.0\\ \\(compatible;\\ SPIPE\\/1.0 OR Mozilla\\/5.0\\ \\(Windows\\ NT\\ 6.3;\\ rv\\:39.0\\)\\ Gecko\\/20100101\\ Firefox\\/35.0 OR Sametime\\ Community\\ Agent OR X\\-FORWARDED\\-FOR OR DotDotPwn\\ v2.1 OR SIPDROID OR Mozilla\\/5.0\\ \\(Windows\\ NT\\ 10.0;\\ Win32;\\ x32;\\ rv\\:60.0\\) OR Mozilla\\/6.0\\ \\(X11;\\ Linux\\ x86_64;\\ rv\\:24.0\\)\\ Gecko\\/20140205\\ \\ \\ \\ \\ Firefox\\/27.0\\ Iceweasel\\/25.3.0 OR *wordpress\\ hash\\ grabber* OR *exploit*)')\n",
    "response = s.execute()\n",
    "if response.success():\n",
    "    df = pd.DataFrame((d.to_dict() for d in s.scan()))"
   ]
  },
  {
   "cell_type": "markdown",
   "metadata": {},
   "source": [
    "### Show Results"
   ]
  },
  {
   "cell_type": "code",
   "execution_count": null,
   "metadata": {},
   "outputs": [],
   "source": [
    "df.head()"
   ]
  }
 ],
 "metadata": {},
 "nbformat": 4,
 "nbformat_minor": 4
}
