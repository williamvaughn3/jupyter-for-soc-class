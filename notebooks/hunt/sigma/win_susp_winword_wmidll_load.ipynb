{
 "cells": [
  {
   "cell_type": "markdown",
   "metadata": {},
   "source": [
    "# Suspicious Windows Mangement Instrumentation DLL Loaded Via Microsoft Word\n",
    "Detects DLL's Loaded Via Word Containing VBA Macros Executing WMI Commands"
   ]
  },
  {
   "cell_type": "markdown",
   "metadata": {},
   "source": [
    "## Rule Content\n",
    "```\n",
    "- title: Suspicious Windows Mangement Instrumentation DLL Loaded Via Microsoft Word\n",
    "  id: a457f232-7df9-491d-898f-b5aabd2cbe2f\n",
    "  status: experimental\n",
    "  description: Detects DLL's Loaded Via Word Containing VBA Macros Executing WMI Commands\n",
    "  references:\n",
    "  - https://medium.com/threatpunter/detecting-adversary-tradecraft-with-image-load-event-logging-and-eql-8de93338c16\n",
    "  - https://www.carbonblack.com/2019/04/24/cb-tau-threat-intelligence-notification-emotet-utilizing-wmi-to-launch-powershell-encoded-code/\n",
    "  - https://media.cert.europa.eu/static/SecurityAdvisories/2019/CERT-EU-SA2019-021.pdf\n",
    "  author: Michael R. (@nahamike01)\n",
    "  date: 2019/12/26\n",
    "  tags:\n",
    "  - attack.execution\n",
    "  - attack.t1047\n",
    "  logsource:\n",
    "    product: windows\n",
    "    service: sysmon\n",
    "    category: null\n",
    "  detection:\n",
    "    selection:\n",
    "      EventID: 7\n",
    "      Image:\n",
    "      - '*\\winword.exe'\n",
    "      - '*\\powerpnt.exe'\n",
    "      - '*\\excel.exe'\n",
    "      - '*\\outlook.exe'\n",
    "      ImageLoaded:\n",
    "      - '*\\wmiutils.dll'\n",
    "      - '*\\wbemcomn.dll'\n",
    "      - '*\\wbemprox.dll'\n",
    "      - '*\\wbemdisp.dll'\n",
    "      - '*\\wbemsvc.dll'\n",
    "    condition: selection\n",
    "  falsepositives:\n",
    "  - Possible. Requires further testing.\n",
    "  level: high\n",
    "\n",
    "```"
   ]
  },
  {
   "cell_type": "markdown",
   "metadata": {},
   "source": [
    "## Querying Elasticsearch"
   ]
  },
  {
   "cell_type": "markdown",
   "metadata": {},
   "source": [
    "### Import Libraries"
   ]
  },
  {
   "cell_type": "code",
   "execution_count": null,
   "metadata": {},
   "outputs": [],
   "source": [
    "from elasticsearch import Elasticsearch\n",
    "from elasticsearch_dsl import Search\n",
    "import pandas as pd"
   ]
  },
  {
   "cell_type": "markdown",
   "metadata": {},
   "source": [
    "### Initialize Elasticsearch client"
   ]
  },
  {
   "cell_type": "code",
   "execution_count": null,
   "metadata": {},
   "outputs": [],
   "source": [
    "es = Elasticsearch([http://ip_here:9200/])\n",
    "searchContext = Search(using=es, index='logs-endpoint-winevent-sysmon-*', doc_type='doc')"
   ]
  },
  {
   "cell_type": "markdown",
   "metadata": {},
   "source": [
    "### Run Elasticsearch Query"
   ]
  },
  {
   "cell_type": "code",
   "execution_count": null,
   "metadata": {},
   "outputs": [],
   "source": [
    "s = searchContext.query('query_string', query='(event_id:\"7\" AND process_path.keyword:(*\\\\winword.exe OR *\\\\powerpnt.exe OR *\\\\excel.exe OR *\\\\outlook.exe) AND module_loaded.keyword:(*\\\\wmiutils.dll OR *\\\\wbemcomn.dll OR *\\\\wbemprox.dll OR *\\\\wbemdisp.dll OR *\\\\wbemsvc.dll))')\n",
    "response = s.execute()\n",
    "if response.success():\n",
    "    df = pd.DataFrame((d.to_dict() for d in s.scan()))"
   ]
  },
  {
   "cell_type": "markdown",
   "metadata": {},
   "source": [
    "### Show Results"
   ]
  },
  {
   "cell_type": "code",
   "execution_count": null,
   "metadata": {},
   "outputs": [],
   "source": [
    "df.head()"
   ]
  }
 ],
 "metadata": {},
 "nbformat": 4,
 "nbformat_minor": 4
}
