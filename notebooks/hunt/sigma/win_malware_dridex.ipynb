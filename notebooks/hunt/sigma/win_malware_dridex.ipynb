{
 "cells": [
  {
   "cell_type": "markdown",
   "metadata": {},
   "source": [
    "# Dridex Process Pattern\n",
    "Detects typical Dridex process patterns"
   ]
  },
  {
   "cell_type": "markdown",
   "metadata": {},
   "source": [
    "## Rule Content\n",
    "```\n",
    "- title: Dridex Process Pattern\n",
    "  id: e6eb5a96-9e6f-4a18-9cdd-642cfda21c8e\n",
    "  status: experimental\n",
    "  description: Detects typical Dridex process patterns\n",
    "  references:\n",
    "  - https://app.any.run/tasks/993daa5e-112a-4ff6-8b5a-edbcec7c7ba3\n",
    "  author: Florian Roth\n",
    "  date: 2019/01/10\n",
    "  tags:\n",
    "  - attack.defense_evasion\n",
    "  - attack.privilege_escalation\n",
    "  - attack.t1055\n",
    "  logsource:\n",
    "    category: process_creation\n",
    "    product: windows\n",
    "    service: null\n",
    "  detection:\n",
    "    selection1:\n",
    "      CommandLine: '*\\svchost.exe C:\\Users\\\\*\\Desktop\\\\*'\n",
    "    selection2:\n",
    "      ParentImage: '*\\svchost.exe*'\n",
    "      CommandLine:\n",
    "      - '*whoami.exe /all'\n",
    "      - '*net.exe view'\n",
    "    condition: 1 of them\n",
    "  falsepositives:\n",
    "  - Unlikely\n",
    "  level: critical\n",
    "\n",
    "```"
   ]
  },
  {
   "cell_type": "markdown",
   "metadata": {},
   "source": [
    "## Querying Elasticsearch"
   ]
  },
  {
   "cell_type": "markdown",
   "metadata": {},
   "source": [
    "### Import Libraries"
   ]
  },
  {
   "cell_type": "code",
   "execution_count": null,
   "metadata": {},
   "outputs": [],
   "source": [
    "from elasticsearch import Elasticsearch\n",
    "from elasticsearch_dsl import Search\n",
    "import pandas as pd"
   ]
  },
  {
   "cell_type": "markdown",
   "metadata": {},
   "source": [
    "### Initialize Elasticsearch client"
   ]
  },
  {
   "cell_type": "code",
   "execution_count": null,
   "metadata": {},
   "outputs": [],
   "source": [
    "es = Elasticsearch([http://ip_here:9200/])\n",
    "searchContext = Search(using=es, index='logs-*', doc_type='doc')"
   ]
  },
  {
   "cell_type": "markdown",
   "metadata": {},
   "source": [
    "### Run Elasticsearch Query"
   ]
  },
  {
   "cell_type": "code",
   "execution_count": null,
   "metadata": {},
   "outputs": [],
   "source": [
    "s = searchContext.query('query_string', query='(process_command_line.keyword:*\\\\svchost.exe\\ C\\:\\\\Users\\\\*\\\\Desktop\\\\* OR (process_parent_path.keyword:*\\\\svchost.exe* AND process_command_line.keyword:(*whoami.exe\\ \\/all OR *net.exe\\ view)))')\n",
    "response = s.execute()\n",
    "if response.success():\n",
    "    df = pd.DataFrame((d.to_dict() for d in s.scan()))"
   ]
  },
  {
   "cell_type": "markdown",
   "metadata": {},
   "source": [
    "### Show Results"
   ]
  },
  {
   "cell_type": "code",
   "execution_count": null,
   "metadata": {},
   "outputs": [],
   "source": [
    "df.head()"
   ]
  }
 ],
 "metadata": {},
 "nbformat": 4,
 "nbformat_minor": 4
}
