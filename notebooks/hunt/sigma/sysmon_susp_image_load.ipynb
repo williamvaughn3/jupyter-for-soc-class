{
 "cells": [
  {
   "cell_type": "markdown",
   "metadata": {},
   "source": [
    "# Possible Process Hollowing Image Loading\n",
    "Detects Loading of samlib.dll, WinSCard.dll from untypical process e.g. through process hollowing by Mimikatz"
   ]
  },
  {
   "cell_type": "markdown",
   "metadata": {},
   "source": [
    "## Rule Content\n",
    "```\n",
    "- title: Possible Process Hollowing Image Loading\n",
    "  id: e32ce4f5-46c6-4c47-ba69-5de3c9193cd7\n",
    "  status: experimental\n",
    "  description: Detects Loading of samlib.dll, WinSCard.dll from untypical process\n",
    "    e.g. through process hollowing by Mimikatz\n",
    "  references:\n",
    "  - https://cyberwardog.blogspot.com/2017/03/chronicles-of-threat-hunter-hunting-for.html\n",
    "  author: Markus Neis\n",
    "  date: 2018/01/07\n",
    "  tags:\n",
    "  - attack.defense_evasion\n",
    "  - attack.t1073\n",
    "  logsource:\n",
    "    product: windows\n",
    "    service: sysmon\n",
    "    category: null\n",
    "  detection:\n",
    "    selection:\n",
    "      EventID: 7\n",
    "      Image:\n",
    "      - '*\\notepad.exe'\n",
    "      ImageLoaded:\n",
    "      - '*\\samlib.dll'\n",
    "      - '*\\WinSCard.dll'\n",
    "    condition: selection\n",
    "  falsepositives:\n",
    "  - Very likely, needs more tuning\n",
    "  level: high\n",
    "\n",
    "```"
   ]
  },
  {
   "cell_type": "markdown",
   "metadata": {},
   "source": [
    "## Querying Elasticsearch"
   ]
  },
  {
   "cell_type": "markdown",
   "metadata": {},
   "source": [
    "### Import Libraries"
   ]
  },
  {
   "cell_type": "code",
   "execution_count": null,
   "metadata": {},
   "outputs": [],
   "source": [
    "from elasticsearch import Elasticsearch\n",
    "from elasticsearch_dsl import Search\n",
    "import pandas as pd"
   ]
  },
  {
   "cell_type": "markdown",
   "metadata": {},
   "source": [
    "### Initialize Elasticsearch client"
   ]
  },
  {
   "cell_type": "code",
   "execution_count": null,
   "metadata": {},
   "outputs": [],
   "source": [
    "es = Elasticsearch([http://ip_here:9200/])\n",
    "searchContext = Search(using=es, index='logs-endpoint-winevent-sysmon-*', doc_type='doc')"
   ]
  },
  {
   "cell_type": "markdown",
   "metadata": {},
   "source": [
    "### Run Elasticsearch Query"
   ]
  },
  {
   "cell_type": "code",
   "execution_count": null,
   "metadata": {},
   "outputs": [],
   "source": [
    "s = searchContext.query('query_string', query='(event_id:\"7\" AND process_path.keyword:(*\\\\notepad.exe) AND module_loaded.keyword:(*\\\\samlib.dll OR *\\\\WinSCard.dll))')\n",
    "response = s.execute()\n",
    "if response.success():\n",
    "    df = pd.DataFrame((d.to_dict() for d in s.scan()))"
   ]
  },
  {
   "cell_type": "markdown",
   "metadata": {},
   "source": [
    "### Show Results"
   ]
  },
  {
   "cell_type": "code",
   "execution_count": null,
   "metadata": {},
   "outputs": [],
   "source": [
    "df.head()"
   ]
  }
 ],
 "metadata": {},
 "nbformat": 4,
 "nbformat_minor": 4
}
