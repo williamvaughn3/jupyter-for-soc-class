{
 "cells": [
  {
   "cell_type": "markdown",
   "metadata": {},
   "source": [
    "# Microsoft Binary Github Communication\n",
    "Detects an executable in the Windows folder accessing github.com"
   ]
  },
  {
   "cell_type": "markdown",
   "metadata": {},
   "source": [
    "## Rule Content\n",
    "```\n",
    "- title: Microsoft Binary Github Communication\n",
    "  id: 635dbb88-67b3-4b41-9ea5-a3af2dd88153\n",
    "  status: experimental\n",
    "  description: Detects an executable in the Windows folder accessing github.com\n",
    "  references:\n",
    "  - https://twitter.com/M_haggis/status/900741347035889665\n",
    "  - https://twitter.com/M_haggis/status/1032799638213066752\n",
    "  author: Michael Haag (idea), Florian Roth (rule)\n",
    "  tags:\n",
    "  - attack.lateral_movement\n",
    "  - attack.t1105\n",
    "  logsource:\n",
    "    product: windows\n",
    "    service: sysmon\n",
    "    category: null\n",
    "  detection:\n",
    "    selection:\n",
    "      EventID: 3\n",
    "      Initiated: 'true'\n",
    "      DestinationHostname:\n",
    "      - '*.github.com'\n",
    "      - '*.githubusercontent.com'\n",
    "      Image: C:\\Windows\\\\*\n",
    "    condition: selection\n",
    "  falsepositives:\n",
    "  - Unknown\n",
    "  - '@subTee in your network'\n",
    "  level: high\n",
    "\n",
    "```"
   ]
  },
  {
   "cell_type": "markdown",
   "metadata": {},
   "source": [
    "## Querying Elasticsearch"
   ]
  },
  {
   "cell_type": "markdown",
   "metadata": {},
   "source": [
    "### Import Libraries"
   ]
  },
  {
   "cell_type": "code",
   "execution_count": null,
   "metadata": {},
   "outputs": [],
   "source": [
    "from elasticsearch import Elasticsearch\n",
    "from elasticsearch_dsl import Search\n",
    "import pandas as pd"
   ]
  },
  {
   "cell_type": "markdown",
   "metadata": {},
   "source": [
    "### Initialize Elasticsearch client"
   ]
  },
  {
   "cell_type": "code",
   "execution_count": null,
   "metadata": {},
   "outputs": [],
   "source": [
    "es = Elasticsearch([http://ip_here:9200/])\n",
    "searchContext = Search(using=es, index='logs-endpoint-winevent-sysmon-*', doc_type='doc')"
   ]
  },
  {
   "cell_type": "markdown",
   "metadata": {},
   "source": [
    "### Run Elasticsearch Query"
   ]
  },
  {
   "cell_type": "code",
   "execution_count": null,
   "metadata": {},
   "outputs": [],
   "source": [
    "s = searchContext.query('query_string', query='(event_id:\"3\" AND network_initiated:\"true\" AND dst_host_name.keyword:(*.github.com OR *.githubusercontent.com) AND process_path.keyword:C\\:\\\\Windows\\\\*)')\n",
    "response = s.execute()\n",
    "if response.success():\n",
    "    df = pd.DataFrame((d.to_dict() for d in s.scan()))"
   ]
  },
  {
   "cell_type": "markdown",
   "metadata": {},
   "source": [
    "### Show Results"
   ]
  },
  {
   "cell_type": "code",
   "execution_count": null,
   "metadata": {},
   "outputs": [],
   "source": [
    "df.head()"
   ]
  }
 ],
 "metadata": {},
 "nbformat": 4,
 "nbformat_minor": 4
}
