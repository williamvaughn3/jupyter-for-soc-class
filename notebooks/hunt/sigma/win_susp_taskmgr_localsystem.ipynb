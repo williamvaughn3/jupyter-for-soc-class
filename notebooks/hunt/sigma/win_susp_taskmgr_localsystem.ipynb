{
 "cells": [
  {
   "cell_type": "markdown",
   "metadata": {},
   "source": [
    "# Taskmgr as LOCAL_SYSTEM\n",
    "Detects the creation of taskmgr.exe process in context of LOCAL_SYSTEM"
   ]
  },
  {
   "cell_type": "markdown",
   "metadata": {},
   "source": [
    "## Rule Content\n",
    "```\n",
    "- title: Taskmgr as LOCAL_SYSTEM\n",
    "  id: 9fff585c-c33e-4a86-b3cd-39312079a65f\n",
    "  status: experimental\n",
    "  description: Detects the creation of taskmgr.exe process in context of LOCAL_SYSTEM\n",
    "  tags:\n",
    "  - attack.defense_evasion\n",
    "  - attack.t1036\n",
    "  author: Florian Roth\n",
    "  date: 2018/03/18\n",
    "  logsource:\n",
    "    category: process_creation\n",
    "    product: windows\n",
    "    service: null\n",
    "  detection:\n",
    "    selection:\n",
    "      User: NT AUTHORITY\\SYSTEM\n",
    "      Image: '*\\taskmgr.exe'\n",
    "    condition: selection\n",
    "  falsepositives:\n",
    "  - Unkown\n",
    "  level: high\n",
    "\n",
    "```"
   ]
  },
  {
   "cell_type": "markdown",
   "metadata": {},
   "source": [
    "## Querying Elasticsearch"
   ]
  },
  {
   "cell_type": "markdown",
   "metadata": {},
   "source": [
    "### Import Libraries"
   ]
  },
  {
   "cell_type": "code",
   "execution_count": null,
   "metadata": {},
   "outputs": [],
   "source": [
    "from elasticsearch import Elasticsearch\n",
    "from elasticsearch_dsl import Search\n",
    "import pandas as pd"
   ]
  },
  {
   "cell_type": "markdown",
   "metadata": {},
   "source": [
    "### Initialize Elasticsearch client"
   ]
  },
  {
   "cell_type": "code",
   "execution_count": null,
   "metadata": {},
   "outputs": [],
   "source": [
    "es = Elasticsearch([http://ip_here:9200/])\n",
    "searchContext = Search(using=es, index='logs-*', doc_type='doc')"
   ]
  },
  {
   "cell_type": "markdown",
   "metadata": {},
   "source": [
    "### Run Elasticsearch Query"
   ]
  },
  {
   "cell_type": "code",
   "execution_count": null,
   "metadata": {},
   "outputs": [],
   "source": [
    "s = searchContext.query('query_string', query='(user_account:\"NT\\ AUTHORITY\\\\SYSTEM\" AND process_path.keyword:*\\\\taskmgr.exe)')\n",
    "response = s.execute()\n",
    "if response.success():\n",
    "    df = pd.DataFrame((d.to_dict() for d in s.scan()))"
   ]
  },
  {
   "cell_type": "markdown",
   "metadata": {},
   "source": [
    "### Show Results"
   ]
  },
  {
   "cell_type": "code",
   "execution_count": null,
   "metadata": {},
   "outputs": [],
   "source": [
    "df.head()"
   ]
  }
 ],
 "metadata": {},
 "nbformat": 4,
 "nbformat_minor": 4
}
