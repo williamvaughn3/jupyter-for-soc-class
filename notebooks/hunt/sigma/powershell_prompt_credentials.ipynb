{
 "cells": [
  {
   "cell_type": "markdown",
   "metadata": {},
   "source": [
    "# PowerShell Credential Prompt\n",
    "Detects PowerShell calling a credential prompt"
   ]
  },
  {
   "cell_type": "markdown",
   "metadata": {},
   "source": [
    "## Rule Content\n",
    "```\n",
    "- title: PowerShell Credential Prompt\n",
    "  id: ca8b77a9-d499-4095-b793-5d5f330d450e\n",
    "  status: experimental\n",
    "  description: Detects PowerShell calling a credential prompt\n",
    "  references:\n",
    "  - https://twitter.com/JohnLaTwC/status/850381440629981184\n",
    "  - https://t.co/ezOTGy1a1G\n",
    "  tags:\n",
    "  - attack.execution\n",
    "  - attack.credential_access\n",
    "  - attack.t1086\n",
    "  author: John Lambert (idea), Florian Roth (rule)\n",
    "  logsource:\n",
    "    product: windows\n",
    "    service: powershell\n",
    "    definition: Script block logging must be enabled\n",
    "    category: null\n",
    "  detection:\n",
    "    selection:\n",
    "      EventID: 4104\n",
    "    keyword:\n",
    "      Message:\n",
    "      - '*PromptForCredential*'\n",
    "    condition: all of them\n",
    "  falsepositives:\n",
    "  - Unknown\n",
    "  level: high\n",
    "\n",
    "```"
   ]
  },
  {
   "cell_type": "markdown",
   "metadata": {},
   "source": [
    "## Querying Elasticsearch"
   ]
  },
  {
   "cell_type": "markdown",
   "metadata": {},
   "source": [
    "### Import Libraries"
   ]
  },
  {
   "cell_type": "code",
   "execution_count": null,
   "metadata": {},
   "outputs": [],
   "source": [
    "from elasticsearch import Elasticsearch\n",
    "from elasticsearch_dsl import Search\n",
    "import pandas as pd"
   ]
  },
  {
   "cell_type": "markdown",
   "metadata": {},
   "source": [
    "### Initialize Elasticsearch client"
   ]
  },
  {
   "cell_type": "code",
   "execution_count": null,
   "metadata": {},
   "outputs": [],
   "source": [
    "es = Elasticsearch([http://ip_here:9200/])\n",
    "searchContext = Search(using=es, index='logs-endpoint-winevent-powershell-*', doc_type='doc')"
   ]
  },
  {
   "cell_type": "markdown",
   "metadata": {},
   "source": [
    "### Run Elasticsearch Query"
   ]
  },
  {
   "cell_type": "code",
   "execution_count": null,
   "metadata": {},
   "outputs": [],
   "source": [
    "s = searchContext.query('query_string', query='(event_id:\"4104\" AND Message.keyword:(*PromptForCredential*))')\n",
    "response = s.execute()\n",
    "if response.success():\n",
    "    df = pd.DataFrame((d.to_dict() for d in s.scan()))"
   ]
  },
  {
   "cell_type": "markdown",
   "metadata": {},
   "source": [
    "### Show Results"
   ]
  },
  {
   "cell_type": "code",
   "execution_count": null,
   "metadata": {},
   "outputs": [],
   "source": [
    "df.head()"
   ]
  }
 ],
 "metadata": {},
 "nbformat": 4,
 "nbformat_minor": 4
}
