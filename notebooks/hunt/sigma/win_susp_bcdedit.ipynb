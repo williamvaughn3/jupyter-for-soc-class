{
 "cells": [
  {
   "cell_type": "markdown",
   "metadata": {},
   "source": [
    "# Possible Ransomware or unauthorized MBR modifications\n",
    "Detects, possibly, malicious unauthorized usage of bcdedit.exe"
   ]
  },
  {
   "cell_type": "markdown",
   "metadata": {},
   "source": [
    "## Rule Content\n",
    "```\n",
    "- title: Possible Ransomware or unauthorized MBR modifications\n",
    "  id: c9fbe8e9-119d-40a6-9b59-dd58a5d84429\n",
    "  status: experimental\n",
    "  description: Detects, possibly, malicious unauthorized usage of bcdedit.exe\n",
    "  references:\n",
    "  - https://docs.microsoft.com/en-us/windows-hardware/drivers/devtest/bcdedit--set\n",
    "  author: '@neu5ron'\n",
    "  date: 2019/02/07\n",
    "  tags:\n",
    "  - attack.defense_evasion\n",
    "  - attack.t1070\n",
    "  - attack.persistence\n",
    "  - attack.t1067\n",
    "  logsource:\n",
    "    category: process_creation\n",
    "    product: windows\n",
    "    service: null\n",
    "  detection:\n",
    "    selection:\n",
    "      NewProcessName: '*\\bcdedit.exe'\n",
    "      ProcessCommandLine:\n",
    "      - '*delete*'\n",
    "      - '*deletevalue*'\n",
    "      - '*import*'\n",
    "    condition: selection\n",
    "  level: medium\n",
    "\n",
    "```"
   ]
  },
  {
   "cell_type": "markdown",
   "metadata": {},
   "source": [
    "## Querying Elasticsearch"
   ]
  },
  {
   "cell_type": "markdown",
   "metadata": {},
   "source": [
    "### Import Libraries"
   ]
  },
  {
   "cell_type": "code",
   "execution_count": null,
   "metadata": {},
   "outputs": [],
   "source": [
    "from elasticsearch import Elasticsearch\n",
    "from elasticsearch_dsl import Search\n",
    "import pandas as pd"
   ]
  },
  {
   "cell_type": "markdown",
   "metadata": {},
   "source": [
    "### Initialize Elasticsearch client"
   ]
  },
  {
   "cell_type": "code",
   "execution_count": null,
   "metadata": {},
   "outputs": [],
   "source": [
    "es = Elasticsearch([http://ip_here:9200/])\n",
    "searchContext = Search(using=es, index='logs-*', doc_type='doc')"
   ]
  },
  {
   "cell_type": "markdown",
   "metadata": {},
   "source": [
    "### Run Elasticsearch Query"
   ]
  },
  {
   "cell_type": "code",
   "execution_count": null,
   "metadata": {},
   "outputs": [],
   "source": [
    "s = searchContext.query('query_string', query='(process_path.keyword:*\\\\bcdedit.exe AND process_command_line.keyword:(*delete* OR *deletevalue* OR *import*))')\n",
    "response = s.execute()\n",
    "if response.success():\n",
    "    df = pd.DataFrame((d.to_dict() for d in s.scan()))"
   ]
  },
  {
   "cell_type": "markdown",
   "metadata": {},
   "source": [
    "### Show Results"
   ]
  },
  {
   "cell_type": "code",
   "execution_count": null,
   "metadata": {},
   "outputs": [],
   "source": [
    "df.head()"
   ]
  }
 ],
 "metadata": {},
 "nbformat": 4,
 "nbformat_minor": 4
}
