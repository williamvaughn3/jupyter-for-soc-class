{
 "cells": [
  {
   "cell_type": "markdown",
   "metadata": {},
   "source": [
    "# Enabled User Right in AD to Control User Objects\n",
    "Detects scenario where if a user is assigned the SeEnableDelegationPrivilege right in Active Directory it would allow control of other AD user objects."
   ]
  },
  {
   "cell_type": "markdown",
   "metadata": {},
   "source": [
    "## Rule Content\n",
    "```\n",
    "- title: Enabled User Right in AD to Control User Objects\n",
    "  id: 311b6ce2-7890-4383-a8c2-663a9f6b43cd\n",
    "  description: Detects scenario where if a user is assigned the SeEnableDelegationPrivilege\n",
    "    right in Active Directory it would allow control of other AD user objects.\n",
    "  tags:\n",
    "  - attack.privilege_escalation\n",
    "  - attack.t1078\n",
    "  references:\n",
    "  - https://www.harmj0y.net/blog/activedirectory/the-most-dangerous-user-right-you-probably-have-never-heard-of/\n",
    "  author: '@neu5ron'\n",
    "  logsource:\n",
    "    product: windows\n",
    "    service: security\n",
    "    definition: 'Requirements: Audit Policy : Policy Change > Audit Authorization\n",
    "      Policy Change, Group Policy : Computer Configuration\\Windows Settings\\Security\n",
    "      Settings\\Advanced Audit Policy Configuration\\Audit Policies\\Policy Change\\Audit\n",
    "      Authorization Policy Change'\n",
    "    category: null\n",
    "  detection:\n",
    "    selection:\n",
    "      EventID: 4704\n",
    "    keywords:\n",
    "      Message:\n",
    "      - '*SeEnableDelegationPrivilege*'\n",
    "    condition: all of them\n",
    "  falsepositives:\n",
    "  - Unknown\n",
    "  level: high\n",
    "\n",
    "```"
   ]
  },
  {
   "cell_type": "markdown",
   "metadata": {},
   "source": [
    "## Querying Elasticsearch"
   ]
  },
  {
   "cell_type": "markdown",
   "metadata": {},
   "source": [
    "### Import Libraries"
   ]
  },
  {
   "cell_type": "code",
   "execution_count": null,
   "metadata": {},
   "outputs": [],
   "source": [
    "from elasticsearch import Elasticsearch\n",
    "from elasticsearch_dsl import Search\n",
    "import pandas as pd"
   ]
  },
  {
   "cell_type": "markdown",
   "metadata": {},
   "source": [
    "### Initialize Elasticsearch client"
   ]
  },
  {
   "cell_type": "code",
   "execution_count": null,
   "metadata": {},
   "outputs": [],
   "source": [
    "es = Elasticsearch([http://ip_here:9200/])\n",
    "searchContext = Search(using=es, index='logs-endpoint-winevent-security-*', doc_type='doc')"
   ]
  },
  {
   "cell_type": "markdown",
   "metadata": {},
   "source": [
    "### Run Elasticsearch Query"
   ]
  },
  {
   "cell_type": "code",
   "execution_count": null,
   "metadata": {},
   "outputs": [],
   "source": [
    "s = searchContext.query('query_string', query='(event_id:\"4704\" AND Message.keyword:(*SeEnableDelegationPrivilege*))')\n",
    "response = s.execute()\n",
    "if response.success():\n",
    "    df = pd.DataFrame((d.to_dict() for d in s.scan()))"
   ]
  },
  {
   "cell_type": "markdown",
   "metadata": {},
   "source": [
    "### Show Results"
   ]
  },
  {
   "cell_type": "code",
   "execution_count": null,
   "metadata": {},
   "outputs": [],
   "source": [
    "df.head()"
   ]
  }
 ],
 "metadata": {},
 "nbformat": 4,
 "nbformat_minor": 4
}
