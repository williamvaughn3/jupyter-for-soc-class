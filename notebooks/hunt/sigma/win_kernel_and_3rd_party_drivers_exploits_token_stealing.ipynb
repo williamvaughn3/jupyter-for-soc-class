{
 "cells": [
  {
   "cell_type": "markdown",
   "metadata": {},
   "source": [
    "# Windows Kernel and 3rd-party drivers exploits. Token stealing\n",
    "Detection of child processes spawned with SYSTEM privileges by parents with non-SYSTEM privileges and Medium integrity level"
   ]
  },
  {
   "cell_type": "markdown",
   "metadata": {},
   "source": [
    "## Rule Content\n",
    "```\n",
    "- title: Windows Kernel and 3rd-party drivers exploits. Token stealing\n",
    "  id: 8065b1b4-1778-4427-877f-6bf948b26d38\n",
    "  description: Detection of child processes spawned with SYSTEM privileges by parents\n",
    "    with non-SYSTEM privileges and Medium integrity level\n",
    "  references:\n",
    "  - https://www.slideshare.net/heirhabarov/hunting-for-privilege-escalation-in-windows-environment\n",
    "  tags:\n",
    "  - attack.privilege_escalation\n",
    "  - attack.t1068\n",
    "  status: experimental\n",
    "  author: Teymur Kheirkhabarov (source), Daniil Yugoslavskiy (rule)\n",
    "  date: 2019/06/03\n",
    "  logsource:\n",
    "    category: process_creation\n",
    "    product: windows\n",
    "    service: null\n",
    "  detection:\n",
    "    selection:\n",
    "      ParentIntegrityLevel: Medium\n",
    "      IntegrityLevel: System\n",
    "      User: NT AUTHORITY\\SYSTEM\n",
    "    condition: selection\n",
    "  falsepositives:\n",
    "  - Unknown\n",
    "  level: critical\n",
    "  enrichment:\n",
    "  - EN_0001_cache_sysmon_event_id_1_info\n",
    "  - EN_0002_enrich_sysmon_event_id_1_with_parent_info\n",
    "\n",
    "```"
   ]
  },
  {
   "cell_type": "markdown",
   "metadata": {},
   "source": [
    "## Querying Elasticsearch"
   ]
  },
  {
   "cell_type": "markdown",
   "metadata": {},
   "source": [
    "### Import Libraries"
   ]
  },
  {
   "cell_type": "code",
   "execution_count": null,
   "metadata": {},
   "outputs": [],
   "source": [
    "from elasticsearch import Elasticsearch\n",
    "from elasticsearch_dsl import Search\n",
    "import pandas as pd"
   ]
  },
  {
   "cell_type": "markdown",
   "metadata": {},
   "source": [
    "### Initialize Elasticsearch client"
   ]
  },
  {
   "cell_type": "code",
   "execution_count": null,
   "metadata": {},
   "outputs": [],
   "source": [
    "es = Elasticsearch([http://ip_here:9200/])\n",
    "searchContext = Search(using=es, index='logs-*', doc_type='doc')"
   ]
  },
  {
   "cell_type": "markdown",
   "metadata": {},
   "source": [
    "### Run Elasticsearch Query"
   ]
  },
  {
   "cell_type": "code",
   "execution_count": null,
   "metadata": {},
   "outputs": [],
   "source": [
    "s = searchContext.query('query_string', query='(ParentIntegrityLevel:\"Medium\" AND IntegrityLevel:\"System\" AND user_account:\"NT\\ AUTHORITY\\\\SYSTEM\")')\n",
    "response = s.execute()\n",
    "if response.success():\n",
    "    df = pd.DataFrame((d.to_dict() for d in s.scan()))"
   ]
  },
  {
   "cell_type": "markdown",
   "metadata": {},
   "source": [
    "### Show Results"
   ]
  },
  {
   "cell_type": "code",
   "execution_count": null,
   "metadata": {},
   "outputs": [],
   "source": [
    "df.head()"
   ]
  }
 ],
 "metadata": {},
 "nbformat": 4,
 "nbformat_minor": 4
}
