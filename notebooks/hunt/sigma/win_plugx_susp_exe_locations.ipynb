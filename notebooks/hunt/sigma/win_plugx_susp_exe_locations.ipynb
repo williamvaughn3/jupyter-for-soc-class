{
 "cells": [
  {
   "cell_type": "markdown",
   "metadata": {},
   "source": [
    "# Executable used by PlugX in Uncommon Location - Sysmon Version\n",
    "Detects the execution of an executable that is typically used by PlugX for DLL side loading started from an uncommon location"
   ]
  },
  {
   "cell_type": "markdown",
   "metadata": {},
   "source": [
    "## Rule Content\n",
    "```\n",
    "- title: Executable used by PlugX in Uncommon Location - Sysmon Version\n",
    "  id: aeab5ec5-be14-471a-80e8-e344418305c2\n",
    "  status: experimental\n",
    "  description: Detects the execution of an executable that is typically used by PlugX\n",
    "    for DLL side loading started from an uncommon location\n",
    "  references:\n",
    "  - http://www.hexacorn.com/blog/2016/03/10/beyond-good-ol-run-key-part-36/\n",
    "  - https://countuponsecurity.com/2017/06/07/threat-hunting-in-the-enterprise-with-appcompatprocessor/\n",
    "  author: Florian Roth\n",
    "  date: 2017/06/12\n",
    "  tags:\n",
    "  - attack.s0013\n",
    "  - attack.defense_evasion\n",
    "  - attack.t1073\n",
    "  logsource:\n",
    "    category: process_creation\n",
    "    product: windows\n",
    "    service: null\n",
    "  detection:\n",
    "    selection_cammute:\n",
    "      Image: '*\\CamMute.exe'\n",
    "    filter_cammute:\n",
    "      Image: '*\\Lenovo\\Communication Utility\\\\*'\n",
    "    selection_chrome_frame:\n",
    "      Image: '*\\chrome_frame_helper.exe'\n",
    "    filter_chrome_frame:\n",
    "      Image: '*\\Google\\Chrome\\application\\\\*'\n",
    "    selection_devemu:\n",
    "      Image: '*\\dvcemumanager.exe'\n",
    "    filter_devemu:\n",
    "      Image: '*\\Microsoft Device Emulator\\\\*'\n",
    "    selection_gadget:\n",
    "      Image: '*\\Gadget.exe'\n",
    "    filter_gadget:\n",
    "      Image: '*\\Windows Media Player\\\\*'\n",
    "    selection_hcc:\n",
    "      Image: '*\\hcc.exe'\n",
    "    filter_hcc:\n",
    "      Image: '*\\HTML Help Workshop\\\\*'\n",
    "    selection_hkcmd:\n",
    "      Image: '*\\hkcmd.exe'\n",
    "    filter_hkcmd:\n",
    "      Image:\n",
    "      - '*\\System32\\\\*'\n",
    "      - '*\\SysNative\\\\*'\n",
    "      - '*\\SysWowo64\\\\*'\n",
    "    selection_mc:\n",
    "      Image: '*\\Mc.exe'\n",
    "    filter_mc:\n",
    "      Image:\n",
    "      - '*\\Microsoft Visual Studio*'\n",
    "      - '*\\Microsoft SDK*'\n",
    "      - '*\\Windows Kit*'\n",
    "    selection_msmpeng:\n",
    "      Image: '*\\MsMpEng.exe'\n",
    "    filter_msmpeng:\n",
    "      Image:\n",
    "      - '*\\Microsoft Security Client\\\\*'\n",
    "      - '*\\Windows Defender\\\\*'\n",
    "      - '*\\AntiMalware\\\\*'\n",
    "    selection_msseces:\n",
    "      Image: '*\\msseces.exe'\n",
    "    filter_msseces:\n",
    "      Image:\n",
    "      - '*\\Microsoft Security Center\\\\*'\n",
    "      - '*\\Microsoft Security Client\\\\*'\n",
    "      - '*\\Microsoft Security Essentials\\\\*'\n",
    "    selection_oinfo:\n",
    "      Image: '*\\OInfoP11.exe'\n",
    "    filter_oinfo:\n",
    "      Image: '*\\Common Files\\Microsoft Shared\\\\*'\n",
    "    selection_oleview:\n",
    "      Image: '*\\OleView.exe'\n",
    "    filter_oleview:\n",
    "      Image:\n",
    "      - '*\\Microsoft Visual Studio*'\n",
    "      - '*\\Microsoft SDK*'\n",
    "      - '*\\Windows Kit*'\n",
    "      - '*\\Windows Resource Kit\\\\*'\n",
    "    selection_rc:\n",
    "      Image: '*\\rc.exe'\n",
    "    filter_rc:\n",
    "      Image:\n",
    "      - '*\\Microsoft Visual Studio*'\n",
    "      - '*\\Microsoft SDK*'\n",
    "      - '*\\Windows Kit*'\n",
    "      - '*\\Windows Resource Kit\\\\*'\n",
    "      - '*\\Microsoft.NET\\\\*'\n",
    "    condition: ( selection_cammute and not filter_cammute ) or ( selection_chrome_frame\n",
    "      and not filter_chrome_frame ) or ( selection_devemu and not filter_devemu )\n",
    "      or ( selection_gadget and not filter_gadget ) or ( selection_hcc and not filter_hcc\n",
    "      ) or ( selection_hkcmd and not filter_hkcmd ) or ( selection_mc and not filter_mc\n",
    "      ) or ( selection_msmpeng and not filter_msmpeng ) or ( selection_msseces and\n",
    "      not filter_msseces ) or ( selection_oinfo and not filter_oinfo ) or ( selection_oleview\n",
    "      and not filter_oleview ) or ( selection_rc and not filter_rc )\n",
    "  fields:\n",
    "  - CommandLine\n",
    "  - ParentCommandLine\n",
    "  falsepositives:\n",
    "  - Unknown\n",
    "  level: high\n",
    "\n",
    "```"
   ]
  },
  {
   "cell_type": "markdown",
   "metadata": {},
   "source": [
    "## Querying Elasticsearch"
   ]
  },
  {
   "cell_type": "markdown",
   "metadata": {},
   "source": [
    "### Import Libraries"
   ]
  },
  {
   "cell_type": "code",
   "execution_count": null,
   "metadata": {},
   "outputs": [],
   "source": [
    "from elasticsearch import Elasticsearch\n",
    "from elasticsearch_dsl import Search\n",
    "import pandas as pd"
   ]
  },
  {
   "cell_type": "markdown",
   "metadata": {},
   "source": [
    "### Initialize Elasticsearch client"
   ]
  },
  {
   "cell_type": "code",
   "execution_count": null,
   "metadata": {},
   "outputs": [],
   "source": [
    "es = Elasticsearch([http://ip_here:9200/])\n",
    "searchContext = Search(using=es, index='logs-*', doc_type='doc')"
   ]
  },
  {
   "cell_type": "markdown",
   "metadata": {},
   "source": [
    "### Run Elasticsearch Query"
   ]
  },
  {
   "cell_type": "code",
   "execution_count": null,
   "metadata": {},
   "outputs": [],
   "source": [
    "s = searchContext.query('query_string', query='((((((((((((process_path.keyword:*\\\\CamMute.exe AND (NOT (process_path.keyword:*\\\\Lenovo\\\\Communication\\ Utility\\\\*))) OR (process_path.keyword:*\\\\chrome_frame_helper.exe AND (NOT (process_path.keyword:*\\\\Google\\\\Chrome\\\\application\\\\*)))) OR (process_path.keyword:*\\\\dvcemumanager.exe AND (NOT (process_path.keyword:*\\\\Microsoft\\ Device\\ Emulator\\\\*)))) OR (process_path.keyword:*\\\\Gadget.exe AND (NOT (process_path.keyword:*\\\\Windows\\ Media\\ Player\\\\*)))) OR (process_path.keyword:*\\\\hcc.exe AND (NOT (process_path.keyword:*\\\\HTML\\ Help\\ Workshop\\\\*)))) OR (process_path.keyword:*\\\\hkcmd.exe AND (NOT (process_path.keyword:(*\\\\System32\\\\* OR *\\\\SysNative\\\\* OR *\\\\SysWowo64\\\\*))))) OR (process_path.keyword:*\\\\Mc.exe AND (NOT (process_path.keyword:(*\\\\Microsoft\\ Visual\\ Studio* OR *\\\\Microsoft\\ SDK* OR *\\\\Windows\\ Kit*))))) OR (process_path.keyword:*\\\\MsMpEng.exe AND (NOT (process_path.keyword:(*\\\\Microsoft\\ Security\\ Client\\\\* OR *\\\\Windows\\ Defender\\\\* OR *\\\\AntiMalware\\\\*))))) OR (process_path.keyword:*\\\\msseces.exe AND (NOT (process_path.keyword:(*\\\\Microsoft\\ Security\\ Center\\\\* OR *\\\\Microsoft\\ Security\\ Client\\\\* OR *\\\\Microsoft\\ Security\\ Essentials\\\\*))))) OR (process_path.keyword:*\\\\OInfoP11.exe AND (NOT (process_path.keyword:*\\\\Common\\ Files\\\\Microsoft\\ Shared\\\\*)))) OR (process_path.keyword:*\\\\OleView.exe AND (NOT (process_path.keyword:(*\\\\Microsoft\\ Visual\\ Studio* OR *\\\\Microsoft\\ SDK* OR *\\\\Windows\\ Kit* OR *\\\\Windows\\ Resource\\ Kit\\\\*))))) OR (process_path.keyword:*\\\\rc.exe AND (NOT (process_path.keyword:(*\\\\Microsoft\\ Visual\\ Studio* OR *\\\\Microsoft\\ SDK* OR *\\\\Windows\\ Kit* OR *\\\\Windows\\ Resource\\ Kit\\\\* OR *\\\\Microsoft.NET\\\\*)))))')\n",
    "response = s.execute()\n",
    "if response.success():\n",
    "    df = pd.DataFrame((d.to_dict() for d in s.scan()))"
   ]
  },
  {
   "cell_type": "markdown",
   "metadata": {},
   "source": [
    "### Show Results"
   ]
  },
  {
   "cell_type": "code",
   "execution_count": null,
   "metadata": {},
   "outputs": [],
   "source": [
    "df.head()"
   ]
  }
 ],
 "metadata": {},
 "nbformat": 4,
 "nbformat_minor": 4
}
