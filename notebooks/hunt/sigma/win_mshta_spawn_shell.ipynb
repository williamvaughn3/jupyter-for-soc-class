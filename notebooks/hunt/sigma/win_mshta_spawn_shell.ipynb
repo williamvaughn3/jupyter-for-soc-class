{
 "cells": [
  {
   "cell_type": "markdown",
   "metadata": {},
   "source": [
    "# MSHTA Spawning Windows Shell\n",
    "Detects a Windows command line executable started from MSHTA."
   ]
  },
  {
   "cell_type": "markdown",
   "metadata": {},
   "source": [
    "## Rule Content\n",
    "```\n",
    "- title: MSHTA Spawning Windows Shell\n",
    "  id: 03cc0c25-389f-4bf8-b48d-11878079f1ca\n",
    "  status: experimental\n",
    "  description: Detects a Windows command line executable started from MSHTA.\n",
    "  references:\n",
    "  - https://www.trustedsec.com/july-2015/malicious-htas/\n",
    "  author: Michael Haag\n",
    "  logsource:\n",
    "    category: process_creation\n",
    "    product: windows\n",
    "    service: null\n",
    "  detection:\n",
    "    selection:\n",
    "      ParentImage: '*\\mshta.exe'\n",
    "      Image:\n",
    "      - '*\\cmd.exe'\n",
    "      - '*\\powershell.exe'\n",
    "      - '*\\wscript.exe'\n",
    "      - '*\\cscript.exe'\n",
    "      - '*\\sh.exe'\n",
    "      - '*\\bash.exe'\n",
    "      - '*\\reg.exe'\n",
    "      - '*\\regsvr32.exe'\n",
    "      - '*\\BITSADMIN*'\n",
    "    condition: selection\n",
    "  fields:\n",
    "  - CommandLine\n",
    "  - ParentCommandLine\n",
    "  tags:\n",
    "  - attack.defense_evasion\n",
    "  - attack.execution\n",
    "  - attack.t1170\n",
    "  - car.2013-02-003\n",
    "  - car.2013-03-001\n",
    "  - car.2014-04-003\n",
    "  falsepositives:\n",
    "  - Printer software / driver installations\n",
    "  - HP software\n",
    "  level: high\n",
    "\n",
    "```"
   ]
  },
  {
   "cell_type": "markdown",
   "metadata": {},
   "source": [
    "## Querying Elasticsearch"
   ]
  },
  {
   "cell_type": "markdown",
   "metadata": {},
   "source": [
    "### Import Libraries"
   ]
  },
  {
   "cell_type": "code",
   "execution_count": null,
   "metadata": {},
   "outputs": [],
   "source": [
    "from elasticsearch import Elasticsearch\n",
    "from elasticsearch_dsl import Search\n",
    "import pandas as pd"
   ]
  },
  {
   "cell_type": "markdown",
   "metadata": {},
   "source": [
    "### Initialize Elasticsearch client"
   ]
  },
  {
   "cell_type": "code",
   "execution_count": null,
   "metadata": {},
   "outputs": [],
   "source": [
    "es = Elasticsearch([http://ip_here:9200/])\n",
    "searchContext = Search(using=es, index='logs-*', doc_type='doc')"
   ]
  },
  {
   "cell_type": "markdown",
   "metadata": {},
   "source": [
    "### Run Elasticsearch Query"
   ]
  },
  {
   "cell_type": "code",
   "execution_count": null,
   "metadata": {},
   "outputs": [],
   "source": [
    "s = searchContext.query('query_string', query='(process_parent_path.keyword:*\\\\mshta.exe AND process_path.keyword:(*\\\\cmd.exe OR *\\\\powershell.exe OR *\\\\wscript.exe OR *\\\\cscript.exe OR *\\\\sh.exe OR *\\\\bash.exe OR *\\\\reg.exe OR *\\\\regsvr32.exe OR *\\\\BITSADMIN*))')\n",
    "response = s.execute()\n",
    "if response.success():\n",
    "    df = pd.DataFrame((d.to_dict() for d in s.scan()))"
   ]
  },
  {
   "cell_type": "markdown",
   "metadata": {},
   "source": [
    "### Show Results"
   ]
  },
  {
   "cell_type": "code",
   "execution_count": null,
   "metadata": {},
   "outputs": [],
   "source": [
    "df.head()"
   ]
  }
 ],
 "metadata": {},
 "nbformat": 4,
 "nbformat_minor": 4
}
