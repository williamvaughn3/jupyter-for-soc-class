{
 "cells": [
  {
   "cell_type": "markdown",
   "metadata": {},
   "source": [
    "# Suspicious access to sensitive file extensions\n",
    "Detects known sensitive file extensions"
   ]
  },
  {
   "cell_type": "markdown",
   "metadata": {},
   "source": [
    "## Rule Content\n",
    "```\n",
    "- title: Suspicious access to sensitive file extensions\n",
    "  id: 91c945bc-2ad1-4799-a591-4d00198a1215\n",
    "  description: Detects known sensitive file extensions\n",
    "  author: Samir Bousseaden\n",
    "  tags:\n",
    "  - attack.collection\n",
    "  logsource:\n",
    "    product: windows\n",
    "    service: security\n",
    "    category: null\n",
    "  detection:\n",
    "    selection:\n",
    "      EventID:\n",
    "      - 5145\n",
    "      RelativeTargetName:\n",
    "      - '*.pst'\n",
    "      - '*.ost'\n",
    "      - '*.msg'\n",
    "      - '*.nst'\n",
    "      - '*.oab'\n",
    "      - '*.edb'\n",
    "      - '*.nsf'\n",
    "      - '*.bak'\n",
    "      - '*.dmp'\n",
    "      - '*.kirbi'\n",
    "      - '*\\ntds.dit'\n",
    "      - '*\\groups.xml'\n",
    "      - '*.rdp'\n",
    "    condition: selection\n",
    "  falsepositives:\n",
    "  - Help Desk operator doing backup or re-imaging end user machine or pentest or backup\n",
    "    software\n",
    "  level: high\n",
    "\n",
    "```"
   ]
  },
  {
   "cell_type": "markdown",
   "metadata": {},
   "source": [
    "## Querying Elasticsearch"
   ]
  },
  {
   "cell_type": "markdown",
   "metadata": {},
   "source": [
    "### Import Libraries"
   ]
  },
  {
   "cell_type": "code",
   "execution_count": null,
   "metadata": {},
   "outputs": [],
   "source": [
    "from elasticsearch import Elasticsearch\n",
    "from elasticsearch_dsl import Search\n",
    "import pandas as pd"
   ]
  },
  {
   "cell_type": "markdown",
   "metadata": {},
   "source": [
    "### Initialize Elasticsearch client"
   ]
  },
  {
   "cell_type": "code",
   "execution_count": null,
   "metadata": {},
   "outputs": [],
   "source": [
    "es = Elasticsearch([http://ip_here:9200/])\n",
    "searchContext = Search(using=es, index='logs-endpoint-winevent-security-*', doc_type='doc')"
   ]
  },
  {
   "cell_type": "markdown",
   "metadata": {},
   "source": [
    "### Run Elasticsearch Query"
   ]
  },
  {
   "cell_type": "code",
   "execution_count": null,
   "metadata": {},
   "outputs": [],
   "source": [
    "s = searchContext.query('query_string', query='(event_id:(\"5145\") AND share_relative_target_name.keyword:(*.pst OR *.ost OR *.msg OR *.nst OR *.oab OR *.edb OR *.nsf OR *.bak OR *.dmp OR *.kirbi OR *\\\\ntds.dit OR *\\\\groups.xml OR *.rdp))')\n",
    "response = s.execute()\n",
    "if response.success():\n",
    "    df = pd.DataFrame((d.to_dict() for d in s.scan()))"
   ]
  },
  {
   "cell_type": "markdown",
   "metadata": {},
   "source": [
    "### Show Results"
   ]
  },
  {
   "cell_type": "code",
   "execution_count": null,
   "metadata": {},
   "outputs": [],
   "source": [
    "df.head()"
   ]
  }
 ],
 "metadata": {},
 "nbformat": 4,
 "nbformat_minor": 4
}
