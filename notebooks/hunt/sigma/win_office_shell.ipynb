{
 "cells": [
  {
   "cell_type": "markdown",
   "metadata": {},
   "source": [
    "# Microsoft Office Product Spawning Windows Shell\n",
    "Detects a Windows command line executable started from Microsoft Word, Excel, Powerpoint, Publisher and Visio."
   ]
  },
  {
   "cell_type": "markdown",
   "metadata": {},
   "source": [
    "## Rule Content\n",
    "```\n",
    "- title: Microsoft Office Product Spawning Windows Shell\n",
    "  id: 438025f9-5856-4663-83f7-52f878a70a50\n",
    "  status: experimental\n",
    "  description: Detects a Windows command line executable started from Microsoft Word,\n",
    "    Excel, Powerpoint, Publisher and Visio.\n",
    "  references:\n",
    "  - https://www.hybrid-analysis.com/sample/465aabe132ccb949e75b8ab9c5bda36d80cf2fd503d52b8bad54e295f28bbc21?environmentId=100\n",
    "  - https://mgreen27.github.io/posts/2018/04/02/DownloadCradle.html\n",
    "  tags:\n",
    "  - attack.execution\n",
    "  - attack.defense_evasion\n",
    "  - attack.t1059\n",
    "  - attack.t1202\n",
    "  - car.2013-02-003\n",
    "  - car.2014-04-003\n",
    "  author: Michael Haag, Florian Roth, Markus Neis\n",
    "  date: 2018/04/06\n",
    "  logsource:\n",
    "    category: process_creation\n",
    "    product: windows\n",
    "    service: null\n",
    "  detection:\n",
    "    selection:\n",
    "      ParentImage:\n",
    "      - '*\\WINWORD.EXE'\n",
    "      - '*\\EXCEL.EXE'\n",
    "      - '*\\POWERPNT.exe'\n",
    "      - '*\\MSPUB.exe'\n",
    "      - '*\\VISIO.exe'\n",
    "      - '*\\OUTLOOK.EXE'\n",
    "      Image:\n",
    "      - '*\\cmd.exe'\n",
    "      - '*\\powershell.exe'\n",
    "      - '*\\wscript.exe'\n",
    "      - '*\\cscript.exe'\n",
    "      - '*\\sh.exe'\n",
    "      - '*\\bash.exe'\n",
    "      - '*\\scrcons.exe'\n",
    "      - '*\\schtasks.exe'\n",
    "      - '*\\regsvr32.exe'\n",
    "      - '*\\hh.exe'\n",
    "      - '*\\wmic.exe'\n",
    "      - '*\\mshta.exe'\n",
    "      - '*\\rundll32.exe'\n",
    "      - '*\\msiexec.exe'\n",
    "      - '*\\forfiles.exe'\n",
    "      - '*\\scriptrunner.exe'\n",
    "      - '*\\mftrace.exe'\n",
    "      - '*\\AppVLP.exe'\n",
    "      - '*\\svchost.exe'\n",
    "    condition: selection\n",
    "  fields:\n",
    "  - CommandLine\n",
    "  - ParentCommandLine\n",
    "  falsepositives:\n",
    "  - unknown\n",
    "  level: high\n",
    "\n",
    "```"
   ]
  },
  {
   "cell_type": "markdown",
   "metadata": {},
   "source": [
    "## Querying Elasticsearch"
   ]
  },
  {
   "cell_type": "markdown",
   "metadata": {},
   "source": [
    "### Import Libraries"
   ]
  },
  {
   "cell_type": "code",
   "execution_count": null,
   "metadata": {},
   "outputs": [],
   "source": [
    "from elasticsearch import Elasticsearch\n",
    "from elasticsearch_dsl import Search\n",
    "import pandas as pd"
   ]
  },
  {
   "cell_type": "markdown",
   "metadata": {},
   "source": [
    "### Initialize Elasticsearch client"
   ]
  },
  {
   "cell_type": "code",
   "execution_count": null,
   "metadata": {},
   "outputs": [],
   "source": [
    "es = Elasticsearch([http://ip_here:9200/])\n",
    "searchContext = Search(using=es, index='logs-*', doc_type='doc')"
   ]
  },
  {
   "cell_type": "markdown",
   "metadata": {},
   "source": [
    "### Run Elasticsearch Query"
   ]
  },
  {
   "cell_type": "code",
   "execution_count": null,
   "metadata": {},
   "outputs": [],
   "source": [
    "s = searchContext.query('query_string', query='(process_parent_path.keyword:(*\\\\WINWORD.EXE OR *\\\\EXCEL.EXE OR *\\\\POWERPNT.exe OR *\\\\MSPUB.exe OR *\\\\VISIO.exe OR *\\\\OUTLOOK.EXE) AND process_path.keyword:(*\\\\cmd.exe OR *\\\\powershell.exe OR *\\\\wscript.exe OR *\\\\cscript.exe OR *\\\\sh.exe OR *\\\\bash.exe OR *\\\\scrcons.exe OR *\\\\schtasks.exe OR *\\\\regsvr32.exe OR *\\\\hh.exe OR *\\\\wmic.exe OR *\\\\mshta.exe OR *\\\\rundll32.exe OR *\\\\msiexec.exe OR *\\\\forfiles.exe OR *\\\\scriptrunner.exe OR *\\\\mftrace.exe OR *\\\\AppVLP.exe OR *\\\\svchost.exe))')\n",
    "response = s.execute()\n",
    "if response.success():\n",
    "    df = pd.DataFrame((d.to_dict() for d in s.scan()))"
   ]
  },
  {
   "cell_type": "markdown",
   "metadata": {},
   "source": [
    "### Show Results"
   ]
  },
  {
   "cell_type": "code",
   "execution_count": null,
   "metadata": {},
   "outputs": [],
   "source": [
    "df.head()"
   ]
  }
 ],
 "metadata": {},
 "nbformat": 4,
 "nbformat_minor": 4
}
