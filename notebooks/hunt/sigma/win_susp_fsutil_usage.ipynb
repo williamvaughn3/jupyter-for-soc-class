{
 "cells": [
  {
   "cell_type": "markdown",
   "metadata": {},
   "source": [
    "# Fsutil suspicious invocation\n",
    "Detects suspicious parameters of fsutil (deleting USN journal, configuring it with small size..). Might be used by ransomwares during the attack (seen by NotPetya and others)"
   ]
  },
  {
   "cell_type": "markdown",
   "metadata": {},
   "source": [
    "## Rule Content\n",
    "```\n",
    "- title: Fsutil suspicious invocation\n",
    "  id: add64136-62e5-48ea-807e-88638d02df1e\n",
    "  description: Detects suspicious parameters of fsutil (deleting USN journal, configuring\n",
    "    it with small size..). Might be used by ransomwares during the attack (seen by\n",
    "    NotPetya and others)\n",
    "  author: Ecco\n",
    "  date: 2019/09/26\n",
    "  level: high\n",
    "  references:\n",
    "  - https://docs.microsoft.com/en-us/windows-server/administration/windows-commands/fsutil-usn\n",
    "  logsource:\n",
    "    category: process_creation\n",
    "    product: windows\n",
    "    service: null\n",
    "  detection:\n",
    "    binary_1:\n",
    "      Image: '*\\fsutil.exe'\n",
    "    binary_2:\n",
    "      OriginalFileName: fsutil.exe\n",
    "    selection:\n",
    "      CommandLine:\n",
    "      - '* deletejournal *'\n",
    "      - '* createjournal *'\n",
    "    condition: (1 of binary_*) and selection\n",
    "  falsepositives:\n",
    "  - Admin activity\n",
    "  - Scripts and administrative tools used in the monitored environment\n",
    "\n",
    "```"
   ]
  },
  {
   "cell_type": "markdown",
   "metadata": {},
   "source": [
    "## Querying Elasticsearch"
   ]
  },
  {
   "cell_type": "markdown",
   "metadata": {},
   "source": [
    "### Import Libraries"
   ]
  },
  {
   "cell_type": "code",
   "execution_count": null,
   "metadata": {},
   "outputs": [],
   "source": [
    "from elasticsearch import Elasticsearch\n",
    "from elasticsearch_dsl import Search\n",
    "import pandas as pd"
   ]
  },
  {
   "cell_type": "markdown",
   "metadata": {},
   "source": [
    "### Initialize Elasticsearch client"
   ]
  },
  {
   "cell_type": "code",
   "execution_count": null,
   "metadata": {},
   "outputs": [],
   "source": [
    "es = Elasticsearch([http://ip_here:9200/])\n",
    "searchContext = Search(using=es, index='logs-*', doc_type='doc')"
   ]
  },
  {
   "cell_type": "markdown",
   "metadata": {},
   "source": [
    "### Run Elasticsearch Query"
   ]
  },
  {
   "cell_type": "code",
   "execution_count": null,
   "metadata": {},
   "outputs": [],
   "source": [
    "s = searchContext.query('query_string', query='((process_path.keyword:*\\\\fsutil.exe OR file_name_original:\"fsutil.exe\") AND process_command_line.keyword:(*\\ deletejournal\\ * OR *\\ createjournal\\ *))')\n",
    "response = s.execute()\n",
    "if response.success():\n",
    "    df = pd.DataFrame((d.to_dict() for d in s.scan()))"
   ]
  },
  {
   "cell_type": "markdown",
   "metadata": {},
   "source": [
    "### Show Results"
   ]
  },
  {
   "cell_type": "code",
   "execution_count": null,
   "metadata": {},
   "outputs": [],
   "source": [
    "df.head()"
   ]
  }
 ],
 "metadata": {},
 "nbformat": 4,
 "nbformat_minor": 4
}
