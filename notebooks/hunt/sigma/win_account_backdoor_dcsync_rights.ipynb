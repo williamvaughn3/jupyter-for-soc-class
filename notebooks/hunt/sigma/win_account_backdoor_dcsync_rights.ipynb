{
 "cells": [
  {
   "cell_type": "markdown",
   "metadata": {},
   "source": [
    "# Powerview Add-DomainObjectAcl DCSync AD Extend Right\n",
    "backdooring domain object to grant the rights associated with DCSync to a regular user or machine account using Powerview\\Add-DomainObjectAcl DCSync Extended Right cmdlet, will allow to re-obtain the pwd hashes of any user/computer"
   ]
  },
  {
   "cell_type": "markdown",
   "metadata": {},
   "source": [
    "## Rule Content\n",
    "```\n",
    "- title: Powerview Add-DomainObjectAcl DCSync AD Extend Right\n",
    "  id: 2c99737c-585d-4431-b61a-c911d86ff32f\n",
    "  description: backdooring domain object to grant the rights associated with DCSync\n",
    "    to a regular user or machine account using Powerview\\Add-DomainObjectAcl DCSync\n",
    "    Extended Right cmdlet, will allow to re-obtain the pwd hashes of any user/computer\n",
    "  status: experimental\n",
    "  date: 2019/04/03\n",
    "  author: Samir Bousseaden\n",
    "  references:\n",
    "  - https://twitter.com/menasec1/status/1111556090137903104\n",
    "  - https://www.specterops.io/assets/resources/an_ace_up_the_sleeve.pdf\n",
    "  tags:\n",
    "  - attack.credential_access\n",
    "  - attack.persistence\n",
    "  logsource:\n",
    "    product: windows\n",
    "    service: security\n",
    "    category: null\n",
    "  detection:\n",
    "    selection:\n",
    "      EventID: 5136\n",
    "      LDAPDisplayName: ntSecurityDescriptor\n",
    "      Value:\n",
    "      - '*1131f6ad-9c07-11d1-f79f-00c04fc2dcd2*'\n",
    "      - '*1131f6aa-9c07-11d1-f79f-00c04fc2dcd2*'\n",
    "    condition: selection\n",
    "  falsepositives:\n",
    "  - New Domain Controller computer account, check user SIDs witin the value attribute\n",
    "    of event 5136 and verify if it's a regular user or DC computer account.\n",
    "  level: critical\n",
    "\n",
    "```"
   ]
  },
  {
   "cell_type": "markdown",
   "metadata": {},
   "source": [
    "## Querying Elasticsearch"
   ]
  },
  {
   "cell_type": "markdown",
   "metadata": {},
   "source": [
    "### Import Libraries"
   ]
  },
  {
   "cell_type": "code",
   "execution_count": null,
   "metadata": {},
   "outputs": [],
   "source": [
    "from elasticsearch import Elasticsearch\n",
    "from elasticsearch_dsl import Search\n",
    "import pandas as pd"
   ]
  },
  {
   "cell_type": "markdown",
   "metadata": {},
   "source": [
    "### Initialize Elasticsearch client"
   ]
  },
  {
   "cell_type": "code",
   "execution_count": null,
   "metadata": {},
   "outputs": [],
   "source": [
    "es = Elasticsearch([http://ip_here:9200/])\n",
    "searchContext = Search(using=es, index='logs-endpoint-winevent-security-*', doc_type='doc')"
   ]
  },
  {
   "cell_type": "markdown",
   "metadata": {},
   "source": [
    "### Run Elasticsearch Query"
   ]
  },
  {
   "cell_type": "code",
   "execution_count": null,
   "metadata": {},
   "outputs": [],
   "source": [
    "s = searchContext.query('query_string', query='(event_id:\"5136\" AND LDAPDisplayName:\"ntSecurityDescriptor\" AND Value.keyword:(*1131f6ad\\-9c07\\-11d1\\-f79f\\-00c04fc2dcd2* OR *1131f6aa\\-9c07\\-11d1\\-f79f\\-00c04fc2dcd2*))')\n",
    "response = s.execute()\n",
    "if response.success():\n",
    "    df = pd.DataFrame((d.to_dict() for d in s.scan()))"
   ]
  },
  {
   "cell_type": "markdown",
   "metadata": {},
   "source": [
    "### Show Results"
   ]
  },
  {
   "cell_type": "code",
   "execution_count": null,
   "metadata": {},
   "outputs": [],
   "source": [
    "df.head()"
   ]
  }
 ],
 "metadata": {},
 "nbformat": 4,
 "nbformat_minor": 4
}
