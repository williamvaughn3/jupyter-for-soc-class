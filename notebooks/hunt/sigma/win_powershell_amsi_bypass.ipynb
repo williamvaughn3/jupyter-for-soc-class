{
 "cells": [
  {
   "cell_type": "markdown",
   "metadata": {},
   "source": [
    "# Powershell AMSI Bypass via .NET Reflection\n",
    "Detects Request to amsiInitFailed that can be used to disable AMSI Scanning"
   ]
  },
  {
   "cell_type": "markdown",
   "metadata": {},
   "source": [
    "## Rule Content\n",
    "```\n",
    "- title: Powershell AMSI Bypass via .NET Reflection\n",
    "  id: 30edb182-aa75-42c0-b0a9-e998bb29067c\n",
    "  status: experimental\n",
    "  description: Detects Request to amsiInitFailed that can be used to disable AMSI\n",
    "    Scanning\n",
    "  references:\n",
    "  - https://twitter.com/mattifestation/status/735261176745988096\n",
    "  - https://www.hybrid-analysis.com/sample/0ced17419e01663a0cd836c9c2eb925e3031ffb5b18ccf35f4dea5d586d0203e?environmentId=120\n",
    "  tags:\n",
    "  - attack.execution\n",
    "  - attack.defense_evasion\n",
    "  - attack.t1086\n",
    "  author: Markus Neis\n",
    "  date: 2018/08/17\n",
    "  logsource:\n",
    "    category: process_creation\n",
    "    product: windows\n",
    "    service: null\n",
    "  detection:\n",
    "    selection1:\n",
    "      CommandLine:\n",
    "      - '*System.Management.Automation.AmsiUtils*'\n",
    "    selection2:\n",
    "      CommandLine:\n",
    "      - '*amsiInitFailed*'\n",
    "    condition: selection1 and selection2\n",
    "    falsepositives:\n",
    "    - Potential Admin Activity\n",
    "  level: high\n",
    "\n",
    "```"
   ]
  },
  {
   "cell_type": "markdown",
   "metadata": {},
   "source": [
    "## Querying Elasticsearch"
   ]
  },
  {
   "cell_type": "markdown",
   "metadata": {},
   "source": [
    "### Import Libraries"
   ]
  },
  {
   "cell_type": "code",
   "execution_count": null,
   "metadata": {},
   "outputs": [],
   "source": [
    "from elasticsearch import Elasticsearch\n",
    "from elasticsearch_dsl import Search\n",
    "import pandas as pd"
   ]
  },
  {
   "cell_type": "markdown",
   "metadata": {},
   "source": [
    "### Initialize Elasticsearch client"
   ]
  },
  {
   "cell_type": "code",
   "execution_count": null,
   "metadata": {},
   "outputs": [],
   "source": [
    "es = Elasticsearch([http://ip_here:9200/])\n",
    "searchContext = Search(using=es, index='logs-*', doc_type='doc')"
   ]
  },
  {
   "cell_type": "markdown",
   "metadata": {},
   "source": [
    "### Run Elasticsearch Query"
   ]
  },
  {
   "cell_type": "code",
   "execution_count": null,
   "metadata": {},
   "outputs": [],
   "source": [
    "s = searchContext.query('query_string', query='(process_command_line.keyword:(*System.Management.Automation.AmsiUtils*) AND process_command_line.keyword:(*amsiInitFailed*))')\n",
    "response = s.execute()\n",
    "if response.success():\n",
    "    df = pd.DataFrame((d.to_dict() for d in s.scan()))"
   ]
  },
  {
   "cell_type": "markdown",
   "metadata": {},
   "source": [
    "### Show Results"
   ]
  },
  {
   "cell_type": "code",
   "execution_count": null,
   "metadata": {},
   "outputs": [],
   "source": [
    "df.head()"
   ]
  }
 ],
 "metadata": {},
 "nbformat": 4,
 "nbformat_minor": 4
}
