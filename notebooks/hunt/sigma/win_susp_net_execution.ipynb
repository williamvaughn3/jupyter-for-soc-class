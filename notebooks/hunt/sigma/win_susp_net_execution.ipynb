{
 "cells": [
  {
   "cell_type": "markdown",
   "metadata": {},
   "source": [
    "# Net.exe Execution\n",
    "Detects execution of Net.exe, whether suspicious or benign."
   ]
  },
  {
   "cell_type": "markdown",
   "metadata": {},
   "source": [
    "## Rule Content\n",
    "```\n",
    "- title: Net.exe Execution\n",
    "  id: 183e7ea8-ac4b-4c23-9aec-b3dac4e401ac\n",
    "  status: experimental\n",
    "  description: Detects execution of Net.exe, whether suspicious or benign.\n",
    "  references:\n",
    "  - https://pentest.blog/windows-privilege-escalation-methods-for-pentesters/\n",
    "  author: Michael Haag, Mark Woan (improvements)\n",
    "  tags:\n",
    "  - attack.s0039\n",
    "  - attack.lateral_movement\n",
    "  - attack.discovery\n",
    "  logsource:\n",
    "    category: process_creation\n",
    "    product: windows\n",
    "    service: null\n",
    "  detection:\n",
    "    selection:\n",
    "      Image:\n",
    "      - '*\\net.exe'\n",
    "      - '*\\net1.exe'\n",
    "      CommandLine:\n",
    "      - '* group*'\n",
    "      - '* localgroup*'\n",
    "      - '* user*'\n",
    "      - '* view*'\n",
    "      - '* share'\n",
    "      - '* accounts*'\n",
    "      - '* use*'\n",
    "      - '* stop *'\n",
    "    condition: selection\n",
    "  fields:\n",
    "  - CommandLine\n",
    "  - ParentCommandLine\n",
    "  falsepositives:\n",
    "  - Will need to be tuned. If using Splunk, I recommend | stats count by Computer,CommandLine\n",
    "    following the search for easy hunting by computer/CommandLine.\n",
    "  level: low\n",
    "\n",
    "```"
   ]
  },
  {
   "cell_type": "markdown",
   "metadata": {},
   "source": [
    "## Querying Elasticsearch"
   ]
  },
  {
   "cell_type": "markdown",
   "metadata": {},
   "source": [
    "### Import Libraries"
   ]
  },
  {
   "cell_type": "code",
   "execution_count": null,
   "metadata": {},
   "outputs": [],
   "source": [
    "from elasticsearch import Elasticsearch\n",
    "from elasticsearch_dsl import Search\n",
    "import pandas as pd"
   ]
  },
  {
   "cell_type": "markdown",
   "metadata": {},
   "source": [
    "### Initialize Elasticsearch client"
   ]
  },
  {
   "cell_type": "code",
   "execution_count": null,
   "metadata": {},
   "outputs": [],
   "source": [
    "es = Elasticsearch([http://ip_here:9200/])\n",
    "searchContext = Search(using=es, index='logs-*', doc_type='doc')"
   ]
  },
  {
   "cell_type": "markdown",
   "metadata": {},
   "source": [
    "### Run Elasticsearch Query"
   ]
  },
  {
   "cell_type": "code",
   "execution_count": null,
   "metadata": {},
   "outputs": [],
   "source": [
    "s = searchContext.query('query_string', query='(process_path.keyword:(*\\\\net.exe OR *\\\\net1.exe) AND process_command_line.keyword:(*\\ group* OR *\\ localgroup* OR *\\ user* OR *\\ view* OR *\\ share OR *\\ accounts* OR *\\ use* OR *\\ stop\\ *))')\n",
    "response = s.execute()\n",
    "if response.success():\n",
    "    df = pd.DataFrame((d.to_dict() for d in s.scan()))"
   ]
  },
  {
   "cell_type": "markdown",
   "metadata": {},
   "source": [
    "### Show Results"
   ]
  },
  {
   "cell_type": "code",
   "execution_count": null,
   "metadata": {},
   "outputs": [],
   "source": [
    "df.head()"
   ]
  }
 ],
 "metadata": {},
 "nbformat": 4,
 "nbformat_minor": 4
}
