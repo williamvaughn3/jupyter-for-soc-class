{
 "cells": [
  {
   "cell_type": "markdown",
   "metadata": {},
   "source": [
    "# Local Accounts Discovery\n",
    "Local accounts, System Owner/User discovery using operating systems utilities"
   ]
  },
  {
   "cell_type": "markdown",
   "metadata": {},
   "source": [
    "## Rule Content\n",
    "```\n",
    "- title: Local Accounts Discovery\n",
    "  id: 502b42de-4306-40b4-9596-6f590c81f073\n",
    "  status: experimental\n",
    "  description: Local accounts, System Owner/User discovery using operating systems\n",
    "    utilities\n",
    "  author: Timur Zinniatullin, Daniil Yugoslavskiy, oscd.community\n",
    "  date: 2019/10/21\n",
    "  modified: 2019/11/04\n",
    "  references:\n",
    "  - https://github.com/redcanaryco/atomic-red-team/blob/master/atomics/T1033/T1033.yaml\n",
    "  logsource:\n",
    "    category: process_creation\n",
    "    product: windows\n",
    "    service: null\n",
    "  detection:\n",
    "    selection_1:\n",
    "    - Image|endswith: \\whoami.exe\n",
    "    - Image|endswith: \\wmic.exe\n",
    "      CommandLine|contains|all:\n",
    "      - useraccount\n",
    "      - get\n",
    "    - Image|endswith:\n",
    "      - \\quser.exe\n",
    "      - \\qwinsta.exe\n",
    "    - Image|endswith: \\cmdkey.exe\n",
    "      CommandLine|contains: /list\n",
    "    - Image|endswith: \\cmd.exe\n",
    "      CommandLine|contains|all:\n",
    "      - /c\n",
    "      - dir\n",
    "      - \\Users\\\n",
    "    selection_2:\n",
    "      Image|endswith:\n",
    "      - \\net.exe\n",
    "      - \\net1.exe\n",
    "      CommandLine|contains: user\n",
    "    filter:\n",
    "      CommandLine|contains:\n",
    "      - /domain\n",
    "      - /add\n",
    "      - /delete\n",
    "      - /active\n",
    "      - /expires\n",
    "      - /passwordreq\n",
    "      - /scriptpath\n",
    "      - /times\n",
    "      - /workstations\n",
    "    condition: selection_1 or ( selection_2 and not filter )\n",
    "  fields:\n",
    "  - Image\n",
    "  - CommandLine\n",
    "  - User\n",
    "  - LogonGuid\n",
    "  - Hashes\n",
    "  - ParentProcessGuid\n",
    "  - ParentCommandLine\n",
    "  falsepositives:\n",
    "  - Legitimate administrator or user enumerates local users for legitimate reason\n",
    "  level: low\n",
    "  tags:\n",
    "  - attack.discovery\n",
    "  - attack.t1033\n",
    "  - attack.t1087\n",
    "\n",
    "```"
   ]
  },
  {
   "cell_type": "markdown",
   "metadata": {},
   "source": [
    "## Querying Elasticsearch"
   ]
  },
  {
   "cell_type": "markdown",
   "metadata": {},
   "source": [
    "### Import Libraries"
   ]
  },
  {
   "cell_type": "code",
   "execution_count": null,
   "metadata": {},
   "outputs": [],
   "source": [
    "from elasticsearch import Elasticsearch\n",
    "from elasticsearch_dsl import Search\n",
    "import pandas as pd"
   ]
  },
  {
   "cell_type": "markdown",
   "metadata": {},
   "source": [
    "### Initialize Elasticsearch client"
   ]
  },
  {
   "cell_type": "code",
   "execution_count": null,
   "metadata": {},
   "outputs": [],
   "source": [
    "es = Elasticsearch([http://ip_here:9200/])\n",
    "searchContext = Search(using=es, index='logs-*', doc_type='doc')"
   ]
  },
  {
   "cell_type": "markdown",
   "metadata": {},
   "source": [
    "### Run Elasticsearch Query"
   ]
  },
  {
   "cell_type": "code",
   "execution_count": null,
   "metadata": {},
   "outputs": [],
   "source": [
    "s = searchContext.query('query_string', query='((process_path.keyword:*\\\\whoami.exe OR (process_path.keyword:*\\\\wmic.exe AND process_command_line.keyword:*useraccount* AND process_command_line.keyword:*get*) OR process_path.keyword:(*\\\\quser.exe OR *\\\\qwinsta.exe) OR (process_path.keyword:*\\\\cmdkey.exe AND process_command_line.keyword:*\\/list*) OR (process_path.keyword:*\\\\cmd.exe AND process_command_line.keyword:*\\/c* AND process_command_line.keyword:*dir* AND process_command_line.keyword:*\\\\Users\\*)) OR ((process_path.keyword:(*\\\\net.exe OR *\\\\net1.exe) AND process_command_line.keyword:*user*) AND (NOT (process_command_line.keyword:(*\\/domain* OR *\\/add* OR *\\/delete* OR *\\/active* OR *\\/expires* OR *\\/passwordreq* OR *\\/scriptpath* OR *\\/times* OR *\\/workstations*)))))')\n",
    "response = s.execute()\n",
    "if response.success():\n",
    "    df = pd.DataFrame((d.to_dict() for d in s.scan()))"
   ]
  },
  {
   "cell_type": "markdown",
   "metadata": {},
   "source": [
    "### Show Results"
   ]
  },
  {
   "cell_type": "code",
   "execution_count": null,
   "metadata": {},
   "outputs": [],
   "source": [
    "df.head()"
   ]
  }
 ],
 "metadata": {},
 "nbformat": 4,
 "nbformat_minor": 4
}
