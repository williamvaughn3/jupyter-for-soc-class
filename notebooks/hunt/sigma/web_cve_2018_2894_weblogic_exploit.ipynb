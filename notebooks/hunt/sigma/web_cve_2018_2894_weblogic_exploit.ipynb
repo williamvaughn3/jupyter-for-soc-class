{
 "cells": [
  {
   "cell_type": "markdown",
   "metadata": {},
   "source": [
    "# Oracle WebLogic Exploit\n",
    "Detects access to a webshell droped into a keytore folder on the WebLogic server"
   ]
  },
  {
   "cell_type": "markdown",
   "metadata": {},
   "source": [
    "## Rule Content\n",
    "```\n",
    "- title: Oracle WebLogic Exploit\n",
    "  id: 37e8369b-43bb-4bf8-83b6-6dd43bda2000\n",
    "  description: Detects access to a webshell droped into a keytore folder on the WebLogic\n",
    "    server\n",
    "  author: Florian Roth\n",
    "  date: 2018/07/22\n",
    "  status: experimental\n",
    "  references:\n",
    "  - https://cve.mitre.org/cgi-bin/cvename.cgi?name=CVE-2018-2894\n",
    "  - https://twitter.com/pyn3rd/status/1020620932967223296\n",
    "  - https://github.com/LandGrey/CVE-2018-2894\n",
    "  logsource:\n",
    "    category: webserver\n",
    "    product: null\n",
    "    service: null\n",
    "  detection:\n",
    "    selection:\n",
    "      c-uri-path:\n",
    "      - '*/config/keystore/*.js*'\n",
    "    condition: selection\n",
    "  fields:\n",
    "  - c-ip\n",
    "  - c-dns\n",
    "  falsepositives:\n",
    "  - Unknown\n",
    "  tags:\n",
    "  - attack.t1100\n",
    "  - attack.t1190\n",
    "  - attack.initial_access\n",
    "  - attack.persistence\n",
    "  - attack.privilege_escalation\n",
    "  - cve.2018-2894\n",
    "  level: critical\n",
    "\n",
    "```"
   ]
  },
  {
   "cell_type": "markdown",
   "metadata": {},
   "source": [
    "## Querying Elasticsearch"
   ]
  },
  {
   "cell_type": "markdown",
   "metadata": {},
   "source": [
    "### Import Libraries"
   ]
  },
  {
   "cell_type": "code",
   "execution_count": null,
   "metadata": {},
   "outputs": [],
   "source": [
    "from elasticsearch import Elasticsearch\n",
    "from elasticsearch_dsl import Search\n",
    "import pandas as pd"
   ]
  },
  {
   "cell_type": "markdown",
   "metadata": {},
   "source": [
    "### Initialize Elasticsearch client"
   ]
  },
  {
   "cell_type": "code",
   "execution_count": null,
   "metadata": {},
   "outputs": [],
   "source": [
    "es = Elasticsearch([http://ip_here:9200/])\n",
    "searchContext = Search(using=es, index='logs-*', doc_type='doc')"
   ]
  },
  {
   "cell_type": "markdown",
   "metadata": {},
   "source": [
    "### Run Elasticsearch Query"
   ]
  },
  {
   "cell_type": "code",
   "execution_count": null,
   "metadata": {},
   "outputs": [],
   "source": [
    "s = searchContext.query('query_string', query='c-uri-path.keyword:(*\\/config\\/keystore\\/*.js*)')\n",
    "response = s.execute()\n",
    "if response.success():\n",
    "    df = pd.DataFrame((d.to_dict() for d in s.scan()))"
   ]
  },
  {
   "cell_type": "markdown",
   "metadata": {},
   "source": [
    "### Show Results"
   ]
  },
  {
   "cell_type": "code",
   "execution_count": null,
   "metadata": {},
   "outputs": [],
   "source": [
    "df.head()"
   ]
  }
 ],
 "metadata": {},
 "nbformat": 4,
 "nbformat_minor": 4
}
