{
 "cells": [
  {
   "cell_type": "markdown",
   "metadata": {},
   "source": [
    "# Renamed PowerShell\n",
    "Detects the execution of a renamed PowerShell often used by attackers or malware"
   ]
  },
  {
   "cell_type": "markdown",
   "metadata": {},
   "source": [
    "## Rule Content\n",
    "```\n",
    "- title: Renamed PowerShell\n",
    "  id: d178a2d7-129a-4ba4-8ee6-d6e1fecd5d20\n",
    "  status: experimental\n",
    "  description: Detects the execution of a renamed PowerShell often used by attackers\n",
    "    or malware\n",
    "  references:\n",
    "  - https://twitter.com/christophetd/status/1164506034720952320\n",
    "  author: Florian Roth\n",
    "  date: 2019/08/22\n",
    "  tags:\n",
    "  - car.2013-05-009\n",
    "  logsource:\n",
    "    product: windows\n",
    "    service: sysmon\n",
    "    category: null\n",
    "  detection:\n",
    "    selection:\n",
    "      Description: Windows PowerShell\n",
    "      Company: Microsoft Corporation\n",
    "    filter:\n",
    "      Image:\n",
    "      - '*\\powershell.exe'\n",
    "      - '*\\powershell_ise.exe'\n",
    "    condition: selection and not filter\n",
    "  falsepositives:\n",
    "  - Unknown\n",
    "  level: critical\n",
    "\n",
    "```"
   ]
  },
  {
   "cell_type": "markdown",
   "metadata": {},
   "source": [
    "## Querying Elasticsearch"
   ]
  },
  {
   "cell_type": "markdown",
   "metadata": {},
   "source": [
    "### Import Libraries"
   ]
  },
  {
   "cell_type": "code",
   "execution_count": null,
   "metadata": {},
   "outputs": [],
   "source": [
    "from elasticsearch import Elasticsearch\n",
    "from elasticsearch_dsl import Search\n",
    "import pandas as pd"
   ]
  },
  {
   "cell_type": "markdown",
   "metadata": {},
   "source": [
    "### Initialize Elasticsearch client"
   ]
  },
  {
   "cell_type": "code",
   "execution_count": null,
   "metadata": {},
   "outputs": [],
   "source": [
    "es = Elasticsearch([http://ip_here:9200/])\n",
    "searchContext = Search(using=es, index='logs-endpoint-winevent-sysmon-*', doc_type='doc')"
   ]
  },
  {
   "cell_type": "markdown",
   "metadata": {},
   "source": [
    "### Run Elasticsearch Query"
   ]
  },
  {
   "cell_type": "code",
   "execution_count": null,
   "metadata": {},
   "outputs": [],
   "source": [
    "s = searchContext.query('query_string', query='((file_description:\"Windows\\ PowerShell\" AND file_company:\"Microsoft\\ Corporation\") AND (NOT (process_path.keyword:(*\\\\powershell.exe OR *\\\\powershell_ise.exe))))')\n",
    "response = s.execute()\n",
    "if response.success():\n",
    "    df = pd.DataFrame((d.to_dict() for d in s.scan()))"
   ]
  },
  {
   "cell_type": "markdown",
   "metadata": {},
   "source": [
    "### Show Results"
   ]
  },
  {
   "cell_type": "code",
   "execution_count": null,
   "metadata": {},
   "outputs": [],
   "source": [
    "df.head()"
   ]
  }
 ],
 "metadata": {},
 "nbformat": 4,
 "nbformat_minor": 4
}
