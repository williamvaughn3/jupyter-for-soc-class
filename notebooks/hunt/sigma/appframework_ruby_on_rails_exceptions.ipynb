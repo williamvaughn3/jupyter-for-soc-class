{
 "cells": [
  {
   "cell_type": "markdown",
   "metadata": {},
   "source": [
    "# Ruby on Rails framework exceptions\n",
    "Detects suspicious Ruby on Rails exceptions that could indicate exploitation attempts"
   ]
  },
  {
   "cell_type": "markdown",
   "metadata": {},
   "source": [
    "## Rule Content\n",
    "```\n",
    "- title: Ruby on Rails framework exceptions\n",
    "  id: 0d2c3d4c-4b48-4ac3-8f23-ea845746bb1a\n",
    "  description: Detects suspicious Ruby on Rails exceptions that could indicate exploitation\n",
    "    attempts\n",
    "  author: Thomas Patzke\n",
    "  references:\n",
    "  - http://edgeguides.rubyonrails.org/security.html\n",
    "  - http://guides.rubyonrails.org/action_controller_overview.html\n",
    "  - https://stackoverflow.com/questions/25892194/does-rails-come-with-a-not-authorized-exception\n",
    "  - https://github.com/rails/rails/blob/master/actionpack/lib/action_dispatch/middleware/exception_wrapper.rb\n",
    "  logsource:\n",
    "    category: application\n",
    "    product: ruby_on_rails\n",
    "    service: null\n",
    "  detection:\n",
    "    keywords:\n",
    "    - ActionController::InvalidAuthenticityToken\n",
    "    - ActionController::InvalidCrossOriginRequest\n",
    "    - ActionController::MethodNotAllowed\n",
    "    - ActionController::BadRequest\n",
    "    - ActionController::ParameterMissing\n",
    "    condition: keywords\n",
    "  falsepositives:\n",
    "  - Application bugs\n",
    "  - Penetration testing\n",
    "  level: medium\n",
    "\n",
    "```"
   ]
  },
  {
   "cell_type": "markdown",
   "metadata": {},
   "source": [
    "## Querying Elasticsearch"
   ]
  },
  {
   "cell_type": "markdown",
   "metadata": {},
   "source": [
    "### Import Libraries"
   ]
  },
  {
   "cell_type": "code",
   "execution_count": null,
   "metadata": {},
   "outputs": [],
   "source": [
    "from elasticsearch import Elasticsearch\n",
    "from elasticsearch_dsl import Search\n",
    "import pandas as pd"
   ]
  },
  {
   "cell_type": "markdown",
   "metadata": {},
   "source": [
    "### Initialize Elasticsearch client"
   ]
  },
  {
   "cell_type": "code",
   "execution_count": null,
   "metadata": {},
   "outputs": [],
   "source": [
    "es = Elasticsearch([http://ip_here:9200/])\n",
    "searchContext = Search(using=es, index='logs-*', doc_type='doc')"
   ]
  },
  {
   "cell_type": "markdown",
   "metadata": {},
   "source": [
    "### Run Elasticsearch Query"
   ]
  },
  {
   "cell_type": "code",
   "execution_count": null,
   "metadata": {},
   "outputs": [],
   "source": [
    "s = searchContext.query('query_string', query='\\*.keyword:(*ActionController\\:\\:InvalidAuthenticityToken* OR *ActionController\\:\\:InvalidCrossOriginRequest* OR *ActionController\\:\\:MethodNotAllowed* OR *ActionController\\:\\:BadRequest* OR *ActionController\\:\\:ParameterMissing*)')\n",
    "response = s.execute()\n",
    "if response.success():\n",
    "    df = pd.DataFrame((d.to_dict() for d in s.scan()))"
   ]
  },
  {
   "cell_type": "markdown",
   "metadata": {},
   "source": [
    "### Show Results"
   ]
  },
  {
   "cell_type": "code",
   "execution_count": null,
   "metadata": {},
   "outputs": [],
   "source": [
    "df.head()"
   ]
  }
 ],
 "metadata": {},
 "nbformat": 4,
 "nbformat_minor": 4
}
