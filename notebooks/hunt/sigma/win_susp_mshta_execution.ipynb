{
 "cells": [
  {
   "cell_type": "markdown",
   "metadata": {},
   "source": [
    "# MSHTA Suspicious Execution 01\n",
    "Detection for mshta.exe suspicious execution patterns sometimes involving file polyglotism"
   ]
  },
  {
   "cell_type": "markdown",
   "metadata": {},
   "source": [
    "## Rule Content\n",
    "```\n",
    "- title: MSHTA Suspicious Execution 01\n",
    "  id: cc7abbd0-762b-41e3-8a26-57ad50d2eea3\n",
    "  status: experimental\n",
    "  description: Detection for mshta.exe suspicious execution patterns sometimes involving\n",
    "    file polyglotism\n",
    "  date: 22/02/2019\n",
    "  modified: 22/02/2019\n",
    "  author: Diego Perez (@darkquassar)\n",
    "  references:\n",
    "  - http://blog.sevagas.com/?Hacking-around-HTA-files\n",
    "  - https://0x00sec.org/t/clientside-exploitation-in-2018-how-pentesting-has-changed/7356\n",
    "  - https://docs.microsoft.com/en-us/dotnet/standard/data/xml/xslt-stylesheet-scripting-using-msxsl-script\n",
    "  - https://medium.com/tsscyber/pentesting-and-hta-bypassing-powershell-constrained-language-mode-53a42856c997\n",
    "  tags:\n",
    "  - attack.defense_evasion\n",
    "  - attack.t1140\n",
    "  logsource:\n",
    "    category: process_creation\n",
    "    product: windows\n",
    "    service: null\n",
    "  falsepositives:\n",
    "  - False positives depend on scripts and administrative tools used in the monitored\n",
    "    environment\n",
    "  level: high\n",
    "  detection:\n",
    "    selection1:\n",
    "      CommandLine:\n",
    "      - '*mshta vbscript:CreateObject(\"Wscript.Shell\")*'\n",
    "      - '*mshta vbscript:Execute(\"Execute*'\n",
    "      - '*mshta vbscript:CreateObject(\"Wscript.Shell\").Run(\"mshta.exe*'\n",
    "    selection2:\n",
    "      Image:\n",
    "      - C:\\Windows\\system32\\mshta.exe\n",
    "      CommandLine:\n",
    "      - '*.jpg*'\n",
    "      - '*.png*'\n",
    "      - '*.lnk*'\n",
    "      - '*.xls*'\n",
    "      - '*.doc*'\n",
    "      - '*.zip*'\n",
    "    condition: selection1 or selection2\n",
    "\n",
    "```"
   ]
  },
  {
   "cell_type": "markdown",
   "metadata": {},
   "source": [
    "## Querying Elasticsearch"
   ]
  },
  {
   "cell_type": "markdown",
   "metadata": {},
   "source": [
    "### Import Libraries"
   ]
  },
  {
   "cell_type": "code",
   "execution_count": null,
   "metadata": {},
   "outputs": [],
   "source": [
    "from elasticsearch import Elasticsearch\n",
    "from elasticsearch_dsl import Search\n",
    "import pandas as pd"
   ]
  },
  {
   "cell_type": "markdown",
   "metadata": {},
   "source": [
    "### Initialize Elasticsearch client"
   ]
  },
  {
   "cell_type": "code",
   "execution_count": null,
   "metadata": {},
   "outputs": [],
   "source": [
    "es = Elasticsearch([http://ip_here:9200/])\n",
    "searchContext = Search(using=es, index='logs-*', doc_type='doc')"
   ]
  },
  {
   "cell_type": "markdown",
   "metadata": {},
   "source": [
    "### Run Elasticsearch Query"
   ]
  },
  {
   "cell_type": "code",
   "execution_count": null,
   "metadata": {},
   "outputs": [],
   "source": [
    "s = searchContext.query('query_string', query='(process_command_line.keyword:(*mshta\\ vbscript\\:CreateObject\\(\\\"Wscript.Shell\\\"\\)* OR *mshta\\ vbscript\\:Execute\\(\\\"Execute* OR *mshta\\ vbscript\\:CreateObject\\(\\\"Wscript.Shell\\\"\\).Run\\(\\\"mshta.exe*) OR (process_path:(\"C\\:\\\\Windows\\\\system32\\\\mshta.exe\") AND process_command_line.keyword:(*.jpg* OR *.png* OR *.lnk* OR *.xls* OR *.doc* OR *.zip*)))')\n",
    "response = s.execute()\n",
    "if response.success():\n",
    "    df = pd.DataFrame((d.to_dict() for d in s.scan()))"
   ]
  },
  {
   "cell_type": "markdown",
   "metadata": {},
   "source": [
    "### Show Results"
   ]
  },
  {
   "cell_type": "code",
   "execution_count": null,
   "metadata": {},
   "outputs": [],
   "source": [
    "df.head()"
   ]
  }
 ],
 "metadata": {},
 "nbformat": 4,
 "nbformat_minor": 4
}
