{
 "cells": [
  {
   "cell_type": "markdown",
   "metadata": {},
   "source": [
    "# Suspicious Execution from Outlook\n",
    "Detects EnableUnsafeClientMailRules used for Script Execution from Outlook"
   ]
  },
  {
   "cell_type": "markdown",
   "metadata": {},
   "source": [
    "## Rule Content\n",
    "```\n",
    "- title: Suspicious Execution from Outlook\n",
    "  id: e212d415-0e93-435f-9e1a-f29005bb4723\n",
    "  status: experimental\n",
    "  description: Detects EnableUnsafeClientMailRules used for Script Execution from\n",
    "    Outlook\n",
    "  references:\n",
    "  - https://github.com/sensepost/ruler\n",
    "  - https://www.fireeye.com/blog/threat-research/2018/12/overruled-containing-a-potentially-destructive-adversary.html\n",
    "  tags:\n",
    "  - attack.execution\n",
    "  - attack.t1059\n",
    "  - attack.t1202\n",
    "  author: Markus Neis\n",
    "  date: 2018/12/27\n",
    "  logsource:\n",
    "    category: process_creation\n",
    "    product: windows\n",
    "    service: null\n",
    "  detection:\n",
    "    clientMailRules:\n",
    "      CommandLine: '*EnableUnsafeClientMailRules*'\n",
    "    outlookExec:\n",
    "      ParentImage: '*\\outlook.exe'\n",
    "      CommandLine: \\\\\\\\*\\\\*.exe\n",
    "    condition: clientMailRules or outlookExec\n",
    "  falsepositives:\n",
    "  - unknown\n",
    "  level: high\n",
    "\n",
    "```"
   ]
  },
  {
   "cell_type": "markdown",
   "metadata": {},
   "source": [
    "## Querying Elasticsearch"
   ]
  },
  {
   "cell_type": "markdown",
   "metadata": {},
   "source": [
    "### Import Libraries"
   ]
  },
  {
   "cell_type": "code",
   "execution_count": null,
   "metadata": {},
   "outputs": [],
   "source": [
    "from elasticsearch import Elasticsearch\n",
    "from elasticsearch_dsl import Search\n",
    "import pandas as pd"
   ]
  },
  {
   "cell_type": "markdown",
   "metadata": {},
   "source": [
    "### Initialize Elasticsearch client"
   ]
  },
  {
   "cell_type": "code",
   "execution_count": null,
   "metadata": {},
   "outputs": [],
   "source": [
    "es = Elasticsearch([http://ip_here:9200/])\n",
    "searchContext = Search(using=es, index='logs-*', doc_type='doc')"
   ]
  },
  {
   "cell_type": "markdown",
   "metadata": {},
   "source": [
    "### Run Elasticsearch Query"
   ]
  },
  {
   "cell_type": "code",
   "execution_count": null,
   "metadata": {},
   "outputs": [],
   "source": [
    "s = searchContext.query('query_string', query='(process_command_line.keyword:*EnableUnsafeClientMailRules* OR (process_parent_path.keyword:*\\\\outlook.exe AND process_command_line.keyword:\\\\\\\\*\\\\*.exe))')\n",
    "response = s.execute()\n",
    "if response.success():\n",
    "    df = pd.DataFrame((d.to_dict() for d in s.scan()))"
   ]
  },
  {
   "cell_type": "markdown",
   "metadata": {},
   "source": [
    "### Show Results"
   ]
  },
  {
   "cell_type": "code",
   "execution_count": null,
   "metadata": {},
   "outputs": [],
   "source": [
    "df.head()"
   ]
  }
 ],
 "metadata": {},
 "nbformat": 4,
 "nbformat_minor": 4
}
