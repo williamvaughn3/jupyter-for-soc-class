{
 "cells": [
  {
   "cell_type": "markdown",
   "metadata": {},
   "source": [
    "# New RUN Key Pointing to Suspicious Folder\n",
    "Detects suspicious new RUN key element pointing to an executable in a suspicious folder"
   ]
  },
  {
   "cell_type": "markdown",
   "metadata": {},
   "source": [
    "## Rule Content\n",
    "```\n",
    "- title: New RUN Key Pointing to Suspicious Folder\n",
    "  id: 02ee49e2-e294-4d0f-9278-f5b3212fc588\n",
    "  status: experimental\n",
    "  description: Detects suspicious new RUN key element pointing to an executable in\n",
    "    a suspicious folder\n",
    "  references:\n",
    "  - https://www.fireeye.com/blog/threat-research/2018/08/fin7-pursuing-an-enigmatic-and-evasive-global-criminal-operation.html\n",
    "  author: Florian Roth, Markus Neis\n",
    "  tags:\n",
    "  - attack.persistence\n",
    "  - attack.t1060\n",
    "  date: 2018/25/08\n",
    "  modified: 2019/10/01\n",
    "  logsource:\n",
    "    product: windows\n",
    "    service: sysmon\n",
    "    category: null\n",
    "  detection:\n",
    "    selection:\n",
    "      EventID: 13\n",
    "      TargetObject:\n",
    "      - '*\\SOFTWARE\\Microsoft\\Windows\\CurrentVersion\\Run\\\\*'\n",
    "      - '*\\SOFTWARE\\Microsoft\\Windows\\CurrentVersion\\RunOnce\\\\*'\n",
    "      Details:\n",
    "      - '*C:\\Windows\\Temp\\\\*'\n",
    "      - '*\\AppData\\\\*'\n",
    "      - '%AppData%\\\\*'\n",
    "      - '*C:\\$Recycle.bin\\\\*'\n",
    "      - '*C:\\Temp\\\\*'\n",
    "      - '*C:\\Users\\Public\\\\*'\n",
    "      - '%Public%\\\\*'\n",
    "      - '*C:\\Users\\Default\\\\*'\n",
    "      - '*C:\\Users\\Desktop\\\\*'\n",
    "      - wscript*\n",
    "      - cscript*\n",
    "    condition: selection\n",
    "  fields:\n",
    "  - Image\n",
    "  falsepositives:\n",
    "  - Software with rare behaviour\n",
    "  level: high\n",
    "\n",
    "```"
   ]
  },
  {
   "cell_type": "markdown",
   "metadata": {},
   "source": [
    "## Querying Elasticsearch"
   ]
  },
  {
   "cell_type": "markdown",
   "metadata": {},
   "source": [
    "### Import Libraries"
   ]
  },
  {
   "cell_type": "code",
   "execution_count": null,
   "metadata": {},
   "outputs": [],
   "source": [
    "from elasticsearch import Elasticsearch\n",
    "from elasticsearch_dsl import Search\n",
    "import pandas as pd"
   ]
  },
  {
   "cell_type": "markdown",
   "metadata": {},
   "source": [
    "### Initialize Elasticsearch client"
   ]
  },
  {
   "cell_type": "code",
   "execution_count": null,
   "metadata": {},
   "outputs": [],
   "source": [
    "es = Elasticsearch([http://ip_here:9200/])\n",
    "searchContext = Search(using=es, index='logs-endpoint-winevent-sysmon-*', doc_type='doc')"
   ]
  },
  {
   "cell_type": "markdown",
   "metadata": {},
   "source": [
    "### Run Elasticsearch Query"
   ]
  },
  {
   "cell_type": "code",
   "execution_count": null,
   "metadata": {},
   "outputs": [],
   "source": [
    "s = searchContext.query('query_string', query='(event_id:\"13\" AND registry_key_path.keyword:(*\\\\SOFTWARE\\\\Microsoft\\\\Windows\\\\CurrentVersion\\\\Run\\\\* OR *\\\\SOFTWARE\\\\Microsoft\\\\Windows\\\\CurrentVersion\\\\RunOnce\\\\*) AND registry_key_value.keyword:(*C\\:\\\\Windows\\\\Temp\\\\* OR *\\\\AppData\\\\* OR %AppData%\\\\* OR *C\\:\\\\$Recycle.bin\\\\* OR *C\\:\\\\Temp\\\\* OR *C\\:\\\\Users\\\\Public\\\\* OR %Public%\\\\* OR *C\\:\\\\Users\\\\Default\\\\* OR *C\\:\\\\Users\\\\Desktop\\\\* OR wscript* OR cscript*))')\n",
    "response = s.execute()\n",
    "if response.success():\n",
    "    df = pd.DataFrame((d.to_dict() for d in s.scan()))"
   ]
  },
  {
   "cell_type": "markdown",
   "metadata": {},
   "source": [
    "### Show Results"
   ]
  },
  {
   "cell_type": "code",
   "execution_count": null,
   "metadata": {},
   "outputs": [],
   "source": [
    "df.head()"
   ]
  }
 ],
 "metadata": {},
 "nbformat": 4,
 "nbformat_minor": 4
}
