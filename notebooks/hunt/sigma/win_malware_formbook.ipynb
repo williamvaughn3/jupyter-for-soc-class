{
 "cells": [
  {
   "cell_type": "markdown",
   "metadata": {},
   "source": [
    "# Formbook Process Creation\n",
    "Detects Formbook like process executions that inject code into a set of files in the System32 folder, which executes a special command command line to delete the dropper from the AppData Temp folder. We avoid false positives by excluding all parent process with command line parameters."
   ]
  },
  {
   "cell_type": "markdown",
   "metadata": {},
   "source": [
    "## Rule Content\n",
    "```\n",
    "- title: Formbook Process Creation\n",
    "  id: 032f5fb3-d959-41a5-9263-4173c802dc2b\n",
    "  status: experimental\n",
    "  description: Detects Formbook like process executions that inject code into a set\n",
    "    of files in the System32 folder, which executes a special command command line\n",
    "    to delete the dropper from the AppData Temp folder. We avoid false positives by\n",
    "    excluding all parent process with command line parameters.\n",
    "  author: Florian Roth\n",
    "  date: 2019/09/30\n",
    "  modified: 2019/10/31\n",
    "  references:\n",
    "  - https://inquest.net/blog/2018/06/22/a-look-at-formbook-stealer\n",
    "  - https://app.any.run/tasks/388d5802-aa48-4826-b069-250420504758/\n",
    "  - https://app.any.run/tasks/8e22486b-5edc-4cef-821c-373e945f296c/\n",
    "  - https://app.any.run/tasks/62bb01ae-25a4-4180-b278-8e464a90b8d7/\n",
    "  logsource:\n",
    "    category: process_creation\n",
    "    product: windows\n",
    "    service: null\n",
    "  detection:\n",
    "    selection:\n",
    "      ParentCommandLine:\n",
    "      - C:\\Windows\\System32\\\\*.exe\n",
    "      - C:\\Windows\\SysWOW64\\\\*.exe\n",
    "      CommandLine:\n",
    "      - '* /c del \"C:\\Users\\\\*\\AppData\\Local\\Temp\\\\*.exe'\n",
    "      - '* /c del \"C:\\Users\\\\*\\Desktop\\\\*.exe'\n",
    "      - '* /C type nul > \"C:\\Users\\\\*\\Desktop\\\\*.exe'\n",
    "    condition: selection\n",
    "  fields:\n",
    "  - CommandLine\n",
    "  - ParentCommandLine\n",
    "  falsepositives:\n",
    "  - Unknown\n",
    "  level: critical\n",
    "\n",
    "```"
   ]
  },
  {
   "cell_type": "markdown",
   "metadata": {},
   "source": [
    "## Querying Elasticsearch"
   ]
  },
  {
   "cell_type": "markdown",
   "metadata": {},
   "source": [
    "### Import Libraries"
   ]
  },
  {
   "cell_type": "code",
   "execution_count": null,
   "metadata": {},
   "outputs": [],
   "source": [
    "from elasticsearch import Elasticsearch\n",
    "from elasticsearch_dsl import Search\n",
    "import pandas as pd"
   ]
  },
  {
   "cell_type": "markdown",
   "metadata": {},
   "source": [
    "### Initialize Elasticsearch client"
   ]
  },
  {
   "cell_type": "code",
   "execution_count": null,
   "metadata": {},
   "outputs": [],
   "source": [
    "es = Elasticsearch([http://ip_here:9200/])\n",
    "searchContext = Search(using=es, index='logs-*', doc_type='doc')"
   ]
  },
  {
   "cell_type": "markdown",
   "metadata": {},
   "source": [
    "### Run Elasticsearch Query"
   ]
  },
  {
   "cell_type": "code",
   "execution_count": null,
   "metadata": {},
   "outputs": [],
   "source": [
    "s = searchContext.query('query_string', query='(process_parent_command_line.keyword:(C\\:\\\\Windows\\\\System32\\\\*.exe OR C\\:\\\\Windows\\\\SysWOW64\\\\*.exe) AND process_command_line.keyword:(*\\ \\/c\\ del\\ \\\"C\\:\\\\Users\\\\*\\\\AppData\\\\Local\\\\Temp\\\\*.exe OR *\\ \\/c\\ del\\ \\\"C\\:\\\\Users\\\\*\\\\Desktop\\\\*.exe OR *\\ \\/C\\ type\\ nul\\ \\ \\\"C\\:\\\\Users\\\\*\\\\Desktop\\\\*.exe))')\n",
    "response = s.execute()\n",
    "if response.success():\n",
    "    df = pd.DataFrame((d.to_dict() for d in s.scan()))"
   ]
  },
  {
   "cell_type": "markdown",
   "metadata": {},
   "source": [
    "### Show Results"
   ]
  },
  {
   "cell_type": "code",
   "execution_count": null,
   "metadata": {},
   "outputs": [],
   "source": [
    "df.head()"
   ]
  }
 ],
 "metadata": {},
 "nbformat": 4,
 "nbformat_minor": 4
}
