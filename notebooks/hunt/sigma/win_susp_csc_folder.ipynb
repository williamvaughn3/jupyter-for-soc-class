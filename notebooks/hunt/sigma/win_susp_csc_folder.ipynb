{
 "cells": [
  {
   "cell_type": "markdown",
   "metadata": {},
   "source": [
    "# Suspicious Csc.exe Source File Folder\n",
    "Detects a suspicious execution of csc.exe, which uses a source in a suspicious folder (e.g. AppData)"
   ]
  },
  {
   "cell_type": "markdown",
   "metadata": {},
   "source": [
    "## Rule Content\n",
    "```\n",
    "- title: Suspicious Csc.exe Source File Folder\n",
    "  id: dcaa3f04-70c3-427a-80b4-b870d73c94c4\n",
    "  description: Detects a suspicious execution of csc.exe, which uses a source in a\n",
    "    suspicious folder (e.g. AppData)\n",
    "  status: experimental\n",
    "  references:\n",
    "  - https://securityboulevard.com/2019/08/agent-tesla-evading-edr-by-removing-api-hooks/\n",
    "  - https://www.clearskysec.com/wp-content/uploads/2018/11/MuddyWater-Operations-in-Lebanon-and-Oman.pdf\n",
    "  - https://app.any.run/tasks/c6993447-d1d8-414e-b856-675325e5aa09/\n",
    "  - https://twitter.com/gN3mes1s/status/1206874118282448897\n",
    "  author: Florian Roth\n",
    "  date: 2019/08/24\n",
    "  modified: 2019/12/17\n",
    "  tags:\n",
    "  - attack.defense_evasion\n",
    "  - attack.t1500\n",
    "  logsource:\n",
    "    category: process_creation\n",
    "    product: windows\n",
    "    service: null\n",
    "  detection:\n",
    "    selection:\n",
    "      Image: '*\\csc.exe'\n",
    "      CommandLine:\n",
    "      - '*\\AppData\\\\*'\n",
    "      - '*\\Windows\\Temp\\\\*'\n",
    "    filter:\n",
    "      ParentImage:\n",
    "      - C:\\Program Files*\n",
    "      - '*\\sdiagnhost.exe'\n",
    "      - '*\\w3wp.exe'\n",
    "    condition: selection and not filter\n",
    "  falsepositives:\n",
    "  - https://twitter.com/gN3mes1s/status/1206874118282448897\n",
    "  - https://twitter.com/gabriele_pippi/status/1206907900268072962\n",
    "  level: high\n",
    "\n",
    "```"
   ]
  },
  {
   "cell_type": "markdown",
   "metadata": {},
   "source": [
    "## Querying Elasticsearch"
   ]
  },
  {
   "cell_type": "markdown",
   "metadata": {},
   "source": [
    "### Import Libraries"
   ]
  },
  {
   "cell_type": "code",
   "execution_count": null,
   "metadata": {},
   "outputs": [],
   "source": [
    "from elasticsearch import Elasticsearch\n",
    "from elasticsearch_dsl import Search\n",
    "import pandas as pd"
   ]
  },
  {
   "cell_type": "markdown",
   "metadata": {},
   "source": [
    "### Initialize Elasticsearch client"
   ]
  },
  {
   "cell_type": "code",
   "execution_count": null,
   "metadata": {},
   "outputs": [],
   "source": [
    "es = Elasticsearch([http://ip_here:9200/])\n",
    "searchContext = Search(using=es, index='logs-*', doc_type='doc')"
   ]
  },
  {
   "cell_type": "markdown",
   "metadata": {},
   "source": [
    "### Run Elasticsearch Query"
   ]
  },
  {
   "cell_type": "code",
   "execution_count": null,
   "metadata": {},
   "outputs": [],
   "source": [
    "s = searchContext.query('query_string', query='((process_path.keyword:*\\\\csc.exe AND process_command_line.keyword:(*\\\\AppData\\\\* OR *\\\\Windows\\\\Temp\\\\*)) AND (NOT (process_parent_path.keyword:(C\\:\\\\Program\\ Files* OR *\\\\sdiagnhost.exe OR *\\\\w3wp.exe))))')\n",
    "response = s.execute()\n",
    "if response.success():\n",
    "    df = pd.DataFrame((d.to_dict() for d in s.scan()))"
   ]
  },
  {
   "cell_type": "markdown",
   "metadata": {},
   "source": [
    "### Show Results"
   ]
  },
  {
   "cell_type": "code",
   "execution_count": null,
   "metadata": {},
   "outputs": [],
   "source": [
    "df.head()"
   ]
  }
 ],
 "metadata": {},
 "nbformat": 4,
 "nbformat_minor": 4
}
