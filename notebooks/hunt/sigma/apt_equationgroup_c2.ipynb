{
 "cells": [
  {
   "cell_type": "markdown",
   "metadata": {},
   "source": [
    "# Equation Group C2 Communication\n",
    "Detects communication to C2 servers mentioned in the operational notes of the ShadowBroker leak of EquationGroup C2 tools"
   ]
  },
  {
   "cell_type": "markdown",
   "metadata": {},
   "source": [
    "## Rule Content\n",
    "```\n",
    "- title: Equation Group C2 Communication\n",
    "  id: 881834a4-6659-4773-821e-1c151789d873\n",
    "  description: Detects communication to C2 servers mentioned in the operational notes\n",
    "    of the ShadowBroker leak of EquationGroup C2 tools\n",
    "  references:\n",
    "  - https://steemit.com/shadowbrokers/@theshadowbrokers/lost-in-translation\n",
    "  - https://medium.com/@msuiche/the-nsa-compromised-swift-network-50ec3000b195\n",
    "  tags:\n",
    "  - attack.command_and_control\n",
    "  - attack.g0020\n",
    "  author: Florian Roth\n",
    "  logsource:\n",
    "    category: firewall\n",
    "    product: null\n",
    "    service: null\n",
    "  detection:\n",
    "    outgoing:\n",
    "      dst_ip:\n",
    "      - 69.42.98.86\n",
    "      - 89.185.234.145\n",
    "    incoming:\n",
    "      src_ip:\n",
    "      - 69.42.98.86\n",
    "      - 89.185.234.145\n",
    "    condition: 1 of them\n",
    "  falsepositives:\n",
    "  - Unknown\n",
    "  level: high\n",
    "\n",
    "```"
   ]
  },
  {
   "cell_type": "markdown",
   "metadata": {},
   "source": [
    "## Querying Elasticsearch"
   ]
  },
  {
   "cell_type": "markdown",
   "metadata": {},
   "source": [
    "### Import Libraries"
   ]
  },
  {
   "cell_type": "code",
   "execution_count": null,
   "metadata": {},
   "outputs": [],
   "source": [
    "from elasticsearch import Elasticsearch\n",
    "from elasticsearch_dsl import Search\n",
    "import pandas as pd"
   ]
  },
  {
   "cell_type": "markdown",
   "metadata": {},
   "source": [
    "### Initialize Elasticsearch client"
   ]
  },
  {
   "cell_type": "code",
   "execution_count": null,
   "metadata": {},
   "outputs": [],
   "source": [
    "es = Elasticsearch([http://ip_here:9200/])\n",
    "searchContext = Search(using=es, index='logs-*', doc_type='doc')"
   ]
  },
  {
   "cell_type": "markdown",
   "metadata": {},
   "source": [
    "### Run Elasticsearch Query"
   ]
  },
  {
   "cell_type": "code",
   "execution_count": null,
   "metadata": {},
   "outputs": [],
   "source": [
    "s = searchContext.query('query_string', query='(dst_ip:(\"69.42.98.86\" OR \"89.185.234.145\") OR src_ip:(\"69.42.98.86\" OR \"89.185.234.145\"))')\n",
    "response = s.execute()\n",
    "if response.success():\n",
    "    df = pd.DataFrame((d.to_dict() for d in s.scan()))"
   ]
  },
  {
   "cell_type": "markdown",
   "metadata": {},
   "source": [
    "### Show Results"
   ]
  },
  {
   "cell_type": "code",
   "execution_count": null,
   "metadata": {},
   "outputs": [],
   "source": [
    "df.head()"
   ]
  }
 ],
 "metadata": {},
 "nbformat": 4,
 "nbformat_minor": 4
}
