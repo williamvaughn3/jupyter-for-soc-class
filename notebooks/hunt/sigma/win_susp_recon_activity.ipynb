{
 "cells": [
  {
   "cell_type": "markdown",
   "metadata": {},
   "source": [
    "# Suspicious Reconnaissance Activity\n",
    "Detects suspicious command line activity on Windows systems"
   ]
  },
  {
   "cell_type": "markdown",
   "metadata": {},
   "source": [
    "## Rule Content\n",
    "```\n",
    "- title: Suspicious Reconnaissance Activity\n",
    "  id: d95de845-b83c-4a9a-8a6a-4fc802ebf6c0\n",
    "  status: experimental\n",
    "  description: Detects suspicious command line activity on Windows systems\n",
    "  author: Florian Roth\n",
    "  tags:\n",
    "  - attack.discovery\n",
    "  - attack.t1087\n",
    "  logsource:\n",
    "    category: process_creation\n",
    "    product: windows\n",
    "    service: null\n",
    "  detection:\n",
    "    selection:\n",
    "      CommandLine:\n",
    "      - net group \"domain admins\" /domain\n",
    "      - net localgroup administrators\n",
    "    condition: selection\n",
    "  fields:\n",
    "  - CommandLine\n",
    "  - ParentCommandLine\n",
    "  falsepositives:\n",
    "  - Inventory tool runs\n",
    "  - Penetration tests\n",
    "  - Administrative activity\n",
    "  analysis:\n",
    "    recommendation: Check if the user that executed the commands is suspicious (e.g.\n",
    "      service accounts, LOCAL_SYSTEM)\n",
    "  level: medium\n",
    "\n",
    "```"
   ]
  },
  {
   "cell_type": "markdown",
   "metadata": {},
   "source": [
    "## Querying Elasticsearch"
   ]
  },
  {
   "cell_type": "markdown",
   "metadata": {},
   "source": [
    "### Import Libraries"
   ]
  },
  {
   "cell_type": "code",
   "execution_count": null,
   "metadata": {},
   "outputs": [],
   "source": [
    "from elasticsearch import Elasticsearch\n",
    "from elasticsearch_dsl import Search\n",
    "import pandas as pd"
   ]
  },
  {
   "cell_type": "markdown",
   "metadata": {},
   "source": [
    "### Initialize Elasticsearch client"
   ]
  },
  {
   "cell_type": "code",
   "execution_count": null,
   "metadata": {},
   "outputs": [],
   "source": [
    "es = Elasticsearch([http://ip_here:9200/])\n",
    "searchContext = Search(using=es, index='logs-*', doc_type='doc')"
   ]
  },
  {
   "cell_type": "markdown",
   "metadata": {},
   "source": [
    "### Run Elasticsearch Query"
   ]
  },
  {
   "cell_type": "code",
   "execution_count": null,
   "metadata": {},
   "outputs": [],
   "source": [
    "s = searchContext.query('query_string', query='process_command_line:(\"net\\ group\\ \\\"domain\\ admins\\\"\\ \\/domain\" OR \"net\\ localgroup\\ administrators\")')\n",
    "response = s.execute()\n",
    "if response.success():\n",
    "    df = pd.DataFrame((d.to_dict() for d in s.scan()))"
   ]
  },
  {
   "cell_type": "markdown",
   "metadata": {},
   "source": [
    "### Show Results"
   ]
  },
  {
   "cell_type": "code",
   "execution_count": null,
   "metadata": {},
   "outputs": [],
   "source": [
    "df.head()"
   ]
  }
 ],
 "metadata": {},
 "nbformat": 4,
 "nbformat_minor": 4
}
