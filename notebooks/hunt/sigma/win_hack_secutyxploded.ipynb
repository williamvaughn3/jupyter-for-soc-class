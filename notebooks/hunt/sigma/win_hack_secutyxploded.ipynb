{
 "cells": [
  {
   "cell_type": "markdown",
   "metadata": {},
   "source": [
    "# SecurityXploded Tool\n",
    "Detects the execution of SecurityXploded Tools"
   ]
  },
  {
   "cell_type": "markdown",
   "metadata": {},
   "source": [
    "## Rule Content\n",
    "```\n",
    "- title: SecurityXploded Tool\n",
    "  id: 7679d464-4f74-45e2-9e01-ac66c5eb041a\n",
    "  description: Detects the execution of SecurityXploded Tools\n",
    "  author: Florian Roth\n",
    "  references:\n",
    "  - https://securityxploded.com/\n",
    "  - https://cyberx-labs.com/blog/gangnam-industrial-style-apt-campaign-targets-korean-industrial-companies/\n",
    "  date: 2018/12/19\n",
    "  tags:\n",
    "  - attack.credential_access\n",
    "  - attack.t1003\n",
    "  - attack.s0005\n",
    "  logsource:\n",
    "    category: process_creation\n",
    "    product: windows\n",
    "    service: null\n",
    "  detection:\n",
    "    selection1:\n",
    "      Company: SecurityXploded\n",
    "    selection2:\n",
    "      Image|endswith: PasswordDump.exe\n",
    "    selection3:\n",
    "      OriginalFilename|endswith: PasswordDump.exe\n",
    "    condition: 1 of them\n",
    "  falsepositives:\n",
    "  - unlikely\n",
    "  level: critical\n",
    "\n",
    "```"
   ]
  },
  {
   "cell_type": "markdown",
   "metadata": {},
   "source": [
    "## Querying Elasticsearch"
   ]
  },
  {
   "cell_type": "markdown",
   "metadata": {},
   "source": [
    "### Import Libraries"
   ]
  },
  {
   "cell_type": "code",
   "execution_count": null,
   "metadata": {},
   "outputs": [],
   "source": [
    "from elasticsearch import Elasticsearch\n",
    "from elasticsearch_dsl import Search\n",
    "import pandas as pd"
   ]
  },
  {
   "cell_type": "markdown",
   "metadata": {},
   "source": [
    "### Initialize Elasticsearch client"
   ]
  },
  {
   "cell_type": "code",
   "execution_count": null,
   "metadata": {},
   "outputs": [],
   "source": [
    "es = Elasticsearch([http://ip_here:9200/])\n",
    "searchContext = Search(using=es, index='logs-*', doc_type='doc')"
   ]
  },
  {
   "cell_type": "markdown",
   "metadata": {},
   "source": [
    "### Run Elasticsearch Query"
   ]
  },
  {
   "cell_type": "code",
   "execution_count": null,
   "metadata": {},
   "outputs": [],
   "source": [
    "s = searchContext.query('query_string', query='(file_company:\"SecurityXploded\" OR process_path.keyword:*PasswordDump.exe OR OriginalFilename.keyword:*PasswordDump.exe)')\n",
    "response = s.execute()\n",
    "if response.success():\n",
    "    df = pd.DataFrame((d.to_dict() for d in s.scan()))"
   ]
  },
  {
   "cell_type": "markdown",
   "metadata": {},
   "source": [
    "### Show Results"
   ]
  },
  {
   "cell_type": "code",
   "execution_count": null,
   "metadata": {},
   "outputs": [],
   "source": [
    "df.head()"
   ]
  }
 ],
 "metadata": {},
 "nbformat": 4,
 "nbformat_minor": 4
}
