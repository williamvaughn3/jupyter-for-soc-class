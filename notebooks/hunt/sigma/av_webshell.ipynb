{
 "cells": [
  {
   "cell_type": "markdown",
   "metadata": {},
   "source": [
    "# Antivirus Web Shell Detection\n",
    "Detects a highly relevant Antivirus alert that reports a web shell"
   ]
  },
  {
   "cell_type": "markdown",
   "metadata": {},
   "source": [
    "## Rule Content\n",
    "```\n",
    "- title: Antivirus Web Shell Detection\n",
    "  id: fdf135a2-9241-4f96-a114-bb404948f736\n",
    "  description: Detects a highly relevant Antivirus alert that reports a web shell\n",
    "  date: 2018/09/09\n",
    "  modified: 2019/10/04\n",
    "  author: Florian Roth\n",
    "  references:\n",
    "  - https://www.nextron-systems.com/2018/09/08/antivirus-event-analysis-cheat-sheet-v1-4/\n",
    "  tags:\n",
    "  - attack.persistence\n",
    "  - attack.t1100\n",
    "  logsource:\n",
    "    product: antivirus\n",
    "    service: null\n",
    "    category: null\n",
    "  detection:\n",
    "    selection:\n",
    "      Signature:\n",
    "      - PHP/Backdoor*\n",
    "      - JSP/Backdoor*\n",
    "      - ASP/Backdoor*\n",
    "      - Backdoor.PHP*\n",
    "      - Backdoor.JSP*\n",
    "      - Backdoor.ASP*\n",
    "      - '*Webshell*'\n",
    "    condition: selection\n",
    "  fields:\n",
    "  - FileName\n",
    "  - User\n",
    "  falsepositives:\n",
    "  - Unlikely\n",
    "  level: critical\n",
    "\n",
    "```"
   ]
  },
  {
   "cell_type": "markdown",
   "metadata": {},
   "source": [
    "## Querying Elasticsearch"
   ]
  },
  {
   "cell_type": "markdown",
   "metadata": {},
   "source": [
    "### Import Libraries"
   ]
  },
  {
   "cell_type": "code",
   "execution_count": null,
   "metadata": {},
   "outputs": [],
   "source": [
    "from elasticsearch import Elasticsearch\n",
    "from elasticsearch_dsl import Search\n",
    "import pandas as pd"
   ]
  },
  {
   "cell_type": "markdown",
   "metadata": {},
   "source": [
    "### Initialize Elasticsearch client"
   ]
  },
  {
   "cell_type": "code",
   "execution_count": null,
   "metadata": {},
   "outputs": [],
   "source": [
    "es = Elasticsearch([http://ip_here:9200/])\n",
    "searchContext = Search(using=es, index='logs-*', doc_type='doc')"
   ]
  },
  {
   "cell_type": "markdown",
   "metadata": {},
   "source": [
    "### Run Elasticsearch Query"
   ]
  },
  {
   "cell_type": "code",
   "execution_count": null,
   "metadata": {},
   "outputs": [],
   "source": [
    "s = searchContext.query('query_string', query='signature.keyword:(PHP\\/Backdoor* OR JSP\\/Backdoor* OR ASP\\/Backdoor* OR Backdoor.PHP* OR Backdoor.JSP* OR Backdoor.ASP* OR *Webshell*)')\n",
    "response = s.execute()\n",
    "if response.success():\n",
    "    df = pd.DataFrame((d.to_dict() for d in s.scan()))"
   ]
  },
  {
   "cell_type": "markdown",
   "metadata": {},
   "source": [
    "### Show Results"
   ]
  },
  {
   "cell_type": "code",
   "execution_count": null,
   "metadata": {},
   "outputs": [],
   "source": [
    "df.head()"
   ]
  }
 ],
 "metadata": {},
 "nbformat": 4,
 "nbformat_minor": 4
}
