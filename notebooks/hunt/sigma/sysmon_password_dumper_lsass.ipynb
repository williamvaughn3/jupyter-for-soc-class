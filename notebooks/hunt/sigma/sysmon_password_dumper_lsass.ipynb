{
 "cells": [
  {
   "cell_type": "markdown",
   "metadata": {},
   "source": [
    "# Password Dumper Remote Thread in LSASS\n",
    "Detects password dumper activity by monitoring remote thread creation EventID 8 in combination with the lsass.exe process as TargetImage. The process in field Process is the malicious program. A single execution can lead to hundreds of events."
   ]
  },
  {
   "cell_type": "markdown",
   "metadata": {},
   "source": [
    "## Rule Content\n",
    "```\n",
    "- title: Password Dumper Remote Thread in LSASS\n",
    "  id: f239b326-2f41-4d6b-9dfa-c846a60ef505\n",
    "  description: Detects password dumper activity by monitoring remote thread creation\n",
    "    EventID 8 in combination with the lsass.exe process as TargetImage. The process\n",
    "    in field Process is the malicious program. A single execution can lead to hundreds\n",
    "    of events.\n",
    "  references:\n",
    "  - https://jpcertcc.github.io/ToolAnalysisResultSheet/details/WCE.htm\n",
    "  status: stable\n",
    "  author: Thomas Patzke\n",
    "  logsource:\n",
    "    product: windows\n",
    "    service: sysmon\n",
    "    category: null\n",
    "  detection:\n",
    "    selection:\n",
    "      EventID: 8\n",
    "      TargetImage: C:\\Windows\\System32\\lsass.exe\n",
    "      StartModule: null\n",
    "    condition: selection\n",
    "  tags:\n",
    "  - attack.credential_access\n",
    "  - attack.t1003\n",
    "  - attack.s0005\n",
    "  falsepositives:\n",
    "  - unknown\n",
    "  level: high\n",
    "\n",
    "```"
   ]
  },
  {
   "cell_type": "markdown",
   "metadata": {},
   "source": [
    "## Querying Elasticsearch"
   ]
  },
  {
   "cell_type": "markdown",
   "metadata": {},
   "source": [
    "### Import Libraries"
   ]
  },
  {
   "cell_type": "code",
   "execution_count": null,
   "metadata": {},
   "outputs": [],
   "source": [
    "from elasticsearch import Elasticsearch\n",
    "from elasticsearch_dsl import Search\n",
    "import pandas as pd"
   ]
  },
  {
   "cell_type": "markdown",
   "metadata": {},
   "source": [
    "### Initialize Elasticsearch client"
   ]
  },
  {
   "cell_type": "code",
   "execution_count": null,
   "metadata": {},
   "outputs": [],
   "source": [
    "es = Elasticsearch([http://ip_here:9200/])\n",
    "searchContext = Search(using=es, index='logs-endpoint-winevent-sysmon-*', doc_type='doc')"
   ]
  },
  {
   "cell_type": "markdown",
   "metadata": {},
   "source": [
    "### Run Elasticsearch Query"
   ]
  },
  {
   "cell_type": "code",
   "execution_count": null,
   "metadata": {},
   "outputs": [],
   "source": [
    "s = searchContext.query('query_string', query='(event_id:\"8\" AND target_process_path:\"C\\:\\\\Windows\\\\System32\\\\lsass.exe\" AND NOT _exists_:thread_start_module)')\n",
    "response = s.execute()\n",
    "if response.success():\n",
    "    df = pd.DataFrame((d.to_dict() for d in s.scan()))"
   ]
  },
  {
   "cell_type": "markdown",
   "metadata": {},
   "source": [
    "### Show Results"
   ]
  },
  {
   "cell_type": "code",
   "execution_count": null,
   "metadata": {},
   "outputs": [],
   "source": [
    "df.head()"
   ]
  }
 ],
 "metadata": {},
 "nbformat": 4,
 "nbformat_minor": 4
}
