{
 "cells": [
  {
   "cell_type": "markdown",
   "metadata": {},
   "source": [
    "# Sudo Privilege Escalation CVE-2019-14287\n",
    "Detects users trying to exploit sudo vulnerability reported in CVE-2019-14287"
   ]
  },
  {
   "cell_type": "markdown",
   "metadata": {},
   "source": [
    "## Rule Content\n",
    "```\n",
    "- action: global\n",
    "  title: Sudo Privilege Escalation CVE-2019-14287\n",
    "  id: f74107df-b6c6-4e80-bf00-4170b658162b\n",
    "  status: experimental\n",
    "  description: Detects users trying to exploit sudo vulnerability reported in CVE-2019-14287\n",
    "  references:\n",
    "  - https://www.openwall.com/lists/oss-security/2019/10/14/1\n",
    "  - https://access.redhat.com/security/cve/cve-2019-14287\n",
    "  - https://twitter.com/matthieugarin/status/1183970598210412546\n",
    "  author: Florian Roth\n",
    "  date: 2019/10/15\n",
    "  modified: 2019/10/20\n",
    "  tags:\n",
    "  - attack.privilege_escalation\n",
    "  - attack.t1068\n",
    "  - attack.t1169\n",
    "  logsource:\n",
    "    product: linux\n",
    "    service: null\n",
    "    category: null\n",
    "  falsepositives:\n",
    "  - Unlikely\n",
    "  level: critical\n",
    "- detection:\n",
    "    selection_keywords:\n",
    "    - '* -u#*'\n",
    "    condition: selection_keywords\n",
    "- detection:\n",
    "    selection_user:\n",
    "      USER:\n",
    "      - '#-*'\n",
    "      - '#*4294967295'\n",
    "    condition: selection_user\n",
    "\n",
    "```"
   ]
  },
  {
   "cell_type": "markdown",
   "metadata": {},
   "source": [
    "## Querying Elasticsearch"
   ]
  },
  {
   "cell_type": "markdown",
   "metadata": {},
   "source": [
    "### Import Libraries"
   ]
  },
  {
   "cell_type": "code",
   "execution_count": null,
   "metadata": {},
   "outputs": [],
   "source": [
    "from elasticsearch import Elasticsearch\n",
    "from elasticsearch_dsl import Search\n",
    "import pandas as pd"
   ]
  },
  {
   "cell_type": "markdown",
   "metadata": {},
   "source": [
    "### Initialize Elasticsearch client"
   ]
  },
  {
   "cell_type": "code",
   "execution_count": null,
   "metadata": {},
   "outputs": [],
   "source": [
    "es = Elasticsearch([http://ip_here:9200/])\n",
    "searchContext = Search(using=es, index='logs-*', doc_type='doc')"
   ]
  },
  {
   "cell_type": "markdown",
   "metadata": {},
   "source": [
    "### Run Elasticsearch Query"
   ]
  },
  {
   "cell_type": "code",
   "execution_count": null,
   "metadata": {},
   "outputs": [],
   "source": [
    "s = searchContext.query('query_string', query='*\\ \\-u#*')\n",
    "response = s.execute()\n",
    "if response.success():\n",
    "    df = pd.DataFrame((d.to_dict() for d in s.scan()))"
   ]
  },
  {
   "cell_type": "code",
   "execution_count": null,
   "metadata": {},
   "outputs": [],
   "source": [
    "s = searchContext.query('query_string', query='USER.keyword:(#\\-* OR #*4294967295)')\n",
    "response = s.execute()\n",
    "if response.success():\n",
    "    df = pd.DataFrame((d.to_dict() for d in s.scan()))"
   ]
  },
  {
   "cell_type": "markdown",
   "metadata": {},
   "source": [
    "### Show Results"
   ]
  },
  {
   "cell_type": "code",
   "execution_count": null,
   "metadata": {},
   "outputs": [],
   "source": [
    "df.head()"
   ]
  }
 ],
 "metadata": {},
 "nbformat": 4,
 "nbformat_minor": 4
}
