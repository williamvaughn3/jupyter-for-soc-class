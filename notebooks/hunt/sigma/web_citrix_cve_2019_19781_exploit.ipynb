{
 "cells": [
  {
   "cell_type": "markdown",
   "metadata": {},
   "source": [
    "# Citrix Netscaler, Application Delivery Controller and Citrix Gateway Attack CVE-2019-19781\n",
    "Detects CVE-2019-19781 exploitation attempt - URI contains /vpn/../vpns/"
   ]
  },
  {
   "cell_type": "markdown",
   "metadata": {},
   "source": [
    "## Rule Content\n",
    "```\n",
    "- title: Citrix Netscaler, Application Delivery Controller and Citrix Gateway Attack\n",
    "    CVE-2019-19781\n",
    "  description: Detects CVE-2019-19781 exploitation attempt - URI contains /vpn/../vpns/\n",
    "  id: ac5a6409-8c89-44c2-8d64-668c29a2d756\n",
    "  references:\n",
    "  - https://support.citrix.com/article/CTX267679\n",
    "  - https://support.citrix.com/article/CTX267027\n",
    "  author: Arnim Rupp\n",
    "  status: experimental\n",
    "  date: 2020/01/02\n",
    "  logsource:\n",
    "    category: webserver\n",
    "    product: null\n",
    "    service: null\n",
    "  detection:\n",
    "    selection:\n",
    "      c-uri-path: '*/vpn/../vpns/*'\n",
    "    condition: selection\n",
    "  fields:\n",
    "  - client_ip\n",
    "  - vhost\n",
    "  - url\n",
    "  - response\n",
    "  falsepositives:\n",
    "  - Unknown\n",
    "  level: critical\n",
    "\n",
    "```"
   ]
  },
  {
   "cell_type": "markdown",
   "metadata": {},
   "source": [
    "## Querying Elasticsearch"
   ]
  },
  {
   "cell_type": "markdown",
   "metadata": {},
   "source": [
    "### Import Libraries"
   ]
  },
  {
   "cell_type": "code",
   "execution_count": null,
   "metadata": {},
   "outputs": [],
   "source": [
    "from elasticsearch import Elasticsearch\n",
    "from elasticsearch_dsl import Search\n",
    "import pandas as pd"
   ]
  },
  {
   "cell_type": "markdown",
   "metadata": {},
   "source": [
    "### Initialize Elasticsearch client"
   ]
  },
  {
   "cell_type": "code",
   "execution_count": null,
   "metadata": {},
   "outputs": [],
   "source": [
    "es = Elasticsearch([http://ip_here:9200/])\n",
    "searchContext = Search(using=es, index='logs-*', doc_type='doc')"
   ]
  },
  {
   "cell_type": "markdown",
   "metadata": {},
   "source": [
    "### Run Elasticsearch Query"
   ]
  },
  {
   "cell_type": "code",
   "execution_count": null,
   "metadata": {},
   "outputs": [],
   "source": [
    "s = searchContext.query('query_string', query='c-uri-path.keyword:*\\/vpn\\/..\\/vpns\\/*')\n",
    "response = s.execute()\n",
    "if response.success():\n",
    "    df = pd.DataFrame((d.to_dict() for d in s.scan()))"
   ]
  },
  {
   "cell_type": "markdown",
   "metadata": {},
   "source": [
    "### Show Results"
   ]
  },
  {
   "cell_type": "code",
   "execution_count": null,
   "metadata": {},
   "outputs": [],
   "source": [
    "df.head()"
   ]
  }
 ],
 "metadata": {},
 "nbformat": 4,
 "nbformat_minor": 4
}
