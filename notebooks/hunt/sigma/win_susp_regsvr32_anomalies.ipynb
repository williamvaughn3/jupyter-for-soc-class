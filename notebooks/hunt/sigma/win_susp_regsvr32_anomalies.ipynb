{
 "cells": [
  {
   "cell_type": "markdown",
   "metadata": {},
   "source": [
    "# Regsvr32 Anomaly\n",
    "Detects various anomalies in relation to regsvr32.exe"
   ]
  },
  {
   "cell_type": "markdown",
   "metadata": {},
   "source": [
    "## Rule Content\n",
    "```\n",
    "- title: Regsvr32 Anomaly\n",
    "  id: 8e2b24c9-4add-46a0-b4bb-0057b4e6187d\n",
    "  status: experimental\n",
    "  description: Detects various anomalies in relation to regsvr32.exe\n",
    "  author: Florian Roth\n",
    "  references:\n",
    "  - https://subt0x10.blogspot.de/2017/04/bypass-application-whitelisting-script.html\n",
    "  tags:\n",
    "  - attack.t1117\n",
    "  - attack.defense_evasion\n",
    "  - attack.execution\n",
    "  - car.2019-04-002\n",
    "  - car.2019-04-003\n",
    "  logsource:\n",
    "    category: process_creation\n",
    "    product: windows\n",
    "    service: null\n",
    "  detection:\n",
    "    selection1:\n",
    "      Image: '*\\regsvr32.exe'\n",
    "      CommandLine: '*\\Temp\\\\*'\n",
    "    selection2:\n",
    "      Image: '*\\regsvr32.exe'\n",
    "      ParentImage: '*\\powershell.exe'\n",
    "    selection3:\n",
    "      Image: '*\\regsvr32.exe'\n",
    "      ParentImage: '*\\cmd.exe'\n",
    "    selection4:\n",
    "      Image: '*\\regsvr32.exe'\n",
    "      CommandLine:\n",
    "      - '*/i:http* scrobj.dll'\n",
    "      - '*/i:ftp* scrobj.dll'\n",
    "    selection5:\n",
    "      Image: '*\\wscript.exe'\n",
    "      ParentImage: '*\\regsvr32.exe'\n",
    "    selection6:\n",
    "      Image: '*\\EXCEL.EXE'\n",
    "      CommandLine: '*..\\..\\..\\Windows\\System32\\regsvr32.exe *'\n",
    "    condition: 1 of them\n",
    "  fields:\n",
    "  - CommandLine\n",
    "  - ParentCommandLine\n",
    "  falsepositives:\n",
    "  - Unknown\n",
    "  level: high\n",
    "\n",
    "```"
   ]
  },
  {
   "cell_type": "markdown",
   "metadata": {},
   "source": [
    "## Querying Elasticsearch"
   ]
  },
  {
   "cell_type": "markdown",
   "metadata": {},
   "source": [
    "### Import Libraries"
   ]
  },
  {
   "cell_type": "code",
   "execution_count": null,
   "metadata": {},
   "outputs": [],
   "source": [
    "from elasticsearch import Elasticsearch\n",
    "from elasticsearch_dsl import Search\n",
    "import pandas as pd"
   ]
  },
  {
   "cell_type": "markdown",
   "metadata": {},
   "source": [
    "### Initialize Elasticsearch client"
   ]
  },
  {
   "cell_type": "code",
   "execution_count": null,
   "metadata": {},
   "outputs": [],
   "source": [
    "es = Elasticsearch([http://ip_here:9200/])\n",
    "searchContext = Search(using=es, index='logs-*', doc_type='doc')"
   ]
  },
  {
   "cell_type": "markdown",
   "metadata": {},
   "source": [
    "### Run Elasticsearch Query"
   ]
  },
  {
   "cell_type": "code",
   "execution_count": null,
   "metadata": {},
   "outputs": [],
   "source": [
    "s = searchContext.query('query_string', query='((process_path.keyword:*\\\\regsvr32.exe AND process_command_line.keyword:*\\\\Temp\\\\*) OR (process_path.keyword:*\\\\regsvr32.exe AND process_parent_path.keyword:*\\\\powershell.exe) OR (process_path.keyword:*\\\\regsvr32.exe AND process_parent_path.keyword:*\\\\cmd.exe) OR (process_path.keyword:*\\\\regsvr32.exe AND process_command_line.keyword:(*\\/i\\:http*\\ scrobj.dll OR *\\/i\\:ftp*\\ scrobj.dll)) OR (process_path.keyword:*\\\\wscript.exe AND process_parent_path.keyword:*\\\\regsvr32.exe) OR (process_path.keyword:*\\\\EXCEL.EXE AND process_command_line.keyword:*..\\\\..\\\\..\\\\Windows\\\\System32\\\\regsvr32.exe\\ *))')\n",
    "response = s.execute()\n",
    "if response.success():\n",
    "    df = pd.DataFrame((d.to_dict() for d in s.scan()))"
   ]
  },
  {
   "cell_type": "markdown",
   "metadata": {},
   "source": [
    "### Show Results"
   ]
  },
  {
   "cell_type": "code",
   "execution_count": null,
   "metadata": {},
   "outputs": [],
   "source": [
    "df.head()"
   ]
  }
 ],
 "metadata": {},
 "nbformat": 4,
 "nbformat_minor": 4
}
