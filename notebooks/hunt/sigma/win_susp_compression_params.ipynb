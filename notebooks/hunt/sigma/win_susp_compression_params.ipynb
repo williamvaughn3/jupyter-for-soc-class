{
 "cells": [
  {
   "cell_type": "markdown",
   "metadata": {},
   "source": [
    "# Suspicious Compression Tool Parameters\n",
    "Detects suspicious command line arguments of common data compression tools"
   ]
  },
  {
   "cell_type": "markdown",
   "metadata": {},
   "source": [
    "## Rule Content\n",
    "```\n",
    "- title: Suspicious Compression Tool Parameters\n",
    "  id: 27a72a60-7e5e-47b1-9d17-909c9abafdcd\n",
    "  status: experimental\n",
    "  description: Detects suspicious command line arguments of common data compression\n",
    "    tools\n",
    "  references:\n",
    "  - https://twitter.com/SBousseaden/status/1184067445612535811\n",
    "  tags:\n",
    "  - attack.exfiltration\n",
    "  - attack.t1020\n",
    "  - attack.t1002\n",
    "  author: Florian Roth, Samir Bousseaden\n",
    "  date: 2019/10/15\n",
    "  logsource:\n",
    "    category: process_creation\n",
    "    product: windows\n",
    "    service: null\n",
    "  detection:\n",
    "    selection:\n",
    "      OriginalFileName:\n",
    "      - 7z*.exe\n",
    "      - '*rar.exe'\n",
    "      - '*Command*Line*RAR*'\n",
    "      CommandLine:\n",
    "      - '* -p*'\n",
    "      - '* -ta*'\n",
    "      - '* -tb*'\n",
    "      - '* -sdel*'\n",
    "      - '* -dw*'\n",
    "      - '* -hp*'\n",
    "    falsepositive:\n",
    "      ParentImage: C:\\Program*\n",
    "    condition: selection and not falsepositive\n",
    "  falsepositives:\n",
    "  - unknown\n",
    "  level: high\n",
    "\n",
    "```"
   ]
  },
  {
   "cell_type": "markdown",
   "metadata": {},
   "source": [
    "## Querying Elasticsearch"
   ]
  },
  {
   "cell_type": "markdown",
   "metadata": {},
   "source": [
    "### Import Libraries"
   ]
  },
  {
   "cell_type": "code",
   "execution_count": null,
   "metadata": {},
   "outputs": [],
   "source": [
    "from elasticsearch import Elasticsearch\n",
    "from elasticsearch_dsl import Search\n",
    "import pandas as pd"
   ]
  },
  {
   "cell_type": "markdown",
   "metadata": {},
   "source": [
    "### Initialize Elasticsearch client"
   ]
  },
  {
   "cell_type": "code",
   "execution_count": null,
   "metadata": {},
   "outputs": [],
   "source": [
    "es = Elasticsearch([http://ip_here:9200/])\n",
    "searchContext = Search(using=es, index='logs-*', doc_type='doc')"
   ]
  },
  {
   "cell_type": "markdown",
   "metadata": {},
   "source": [
    "### Run Elasticsearch Query"
   ]
  },
  {
   "cell_type": "code",
   "execution_count": null,
   "metadata": {},
   "outputs": [],
   "source": [
    "s = searchContext.query('query_string', query='((file_name_original.keyword:(7z*.exe OR *rar.exe OR *Command*Line*RAR*) AND process_command_line.keyword:(*\\ \\-p* OR *\\ \\-ta* OR *\\ \\-tb* OR *\\ \\-sdel* OR *\\ \\-dw* OR *\\ \\-hp*)) AND (NOT (process_parent_path.keyword:C\\:\\\\Program*)))')\n",
    "response = s.execute()\n",
    "if response.success():\n",
    "    df = pd.DataFrame((d.to_dict() for d in s.scan()))"
   ]
  },
  {
   "cell_type": "markdown",
   "metadata": {},
   "source": [
    "### Show Results"
   ]
  },
  {
   "cell_type": "code",
   "execution_count": null,
   "metadata": {},
   "outputs": [],
   "source": [
    "df.head()"
   ]
  }
 ],
 "metadata": {},
 "nbformat": 4,
 "nbformat_minor": 4
}
