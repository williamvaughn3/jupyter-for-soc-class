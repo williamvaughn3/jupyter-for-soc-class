{
 "cells": [
  {
   "cell_type": "markdown",
   "metadata": {},
   "source": [
    "# DHCP Server Error Failed Loading the CallOut DLL\n",
    "This rule detects a DHCP server error in which a specified Callout DLL (in registry) could not be loaded"
   ]
  },
  {
   "cell_type": "markdown",
   "metadata": {},
   "source": [
    "## Rule Content\n",
    "```\n",
    "- title: DHCP Server Error Failed Loading the CallOut DLL\n",
    "  id: 75edd3fd-7146-48e5-9848-3013d7f0282c\n",
    "  description: This rule detects a DHCP server error in which a specified Callout\n",
    "    DLL (in registry) could not be loaded\n",
    "  status: experimental\n",
    "  references:\n",
    "  - https://blog.3or.de/mimilib-dhcp-server-callout-dll-injection.html\n",
    "  - https://technet.microsoft.com/en-us/library/cc726884(v=ws.10).aspx\n",
    "  - https://msdn.microsoft.com/de-de/library/windows/desktop/aa363389(v=vs.85).aspx\n",
    "  date: 2017/05/15\n",
    "  modified: 2019/07/17\n",
    "  tags:\n",
    "  - attack.defense_evasion\n",
    "  - attack.t1073\n",
    "  author: Dimitrios Slamaris, @atc_project (fix)\n",
    "  logsource:\n",
    "    product: windows\n",
    "    service: system\n",
    "    category: null\n",
    "  detection:\n",
    "    selection:\n",
    "      EventID:\n",
    "      - 1031\n",
    "      - 1032\n",
    "      - 1034\n",
    "      Source: Microsoft-Windows-DHCP-Server\n",
    "    condition: selection\n",
    "  falsepositives:\n",
    "  - Unknown\n",
    "  level: critical\n",
    "\n",
    "```"
   ]
  },
  {
   "cell_type": "markdown",
   "metadata": {},
   "source": [
    "## Querying Elasticsearch"
   ]
  },
  {
   "cell_type": "markdown",
   "metadata": {},
   "source": [
    "### Import Libraries"
   ]
  },
  {
   "cell_type": "code",
   "execution_count": null,
   "metadata": {},
   "outputs": [],
   "source": [
    "from elasticsearch import Elasticsearch\n",
    "from elasticsearch_dsl import Search\n",
    "import pandas as pd"
   ]
  },
  {
   "cell_type": "markdown",
   "metadata": {},
   "source": [
    "### Initialize Elasticsearch client"
   ]
  },
  {
   "cell_type": "code",
   "execution_count": null,
   "metadata": {},
   "outputs": [],
   "source": [
    "es = Elasticsearch([http://ip_here:9200/])\n",
    "searchContext = Search(using=es, index='logs-endpoint-winevent-system-*', doc_type='doc')"
   ]
  },
  {
   "cell_type": "markdown",
   "metadata": {},
   "source": [
    "### Run Elasticsearch Query"
   ]
  },
  {
   "cell_type": "code",
   "execution_count": null,
   "metadata": {},
   "outputs": [],
   "source": [
    "s = searchContext.query('query_string', query='(event_id:(\"1031\" OR \"1032\" OR \"1034\") AND source_name:\"Microsoft\\-Windows\\-DHCP\\-Server\")')\n",
    "response = s.execute()\n",
    "if response.success():\n",
    "    df = pd.DataFrame((d.to_dict() for d in s.scan()))"
   ]
  },
  {
   "cell_type": "markdown",
   "metadata": {},
   "source": [
    "### Show Results"
   ]
  },
  {
   "cell_type": "code",
   "execution_count": null,
   "metadata": {},
   "outputs": [],
   "source": [
    "df.head()"
   ]
  }
 ],
 "metadata": {},
 "nbformat": 4,
 "nbformat_minor": 4
}
