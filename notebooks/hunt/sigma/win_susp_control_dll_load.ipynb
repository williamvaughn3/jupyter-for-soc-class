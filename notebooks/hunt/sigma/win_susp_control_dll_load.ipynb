{
 "cells": [
  {
   "cell_type": "markdown",
   "metadata": {},
   "source": [
    "# Suspicious Control Panel DLL Load\n",
    "Detects suspicious Rundll32 execution from control.exe as used by Equation Group and Exploit Kits"
   ]
  },
  {
   "cell_type": "markdown",
   "metadata": {},
   "source": [
    "## Rule Content\n",
    "```\n",
    "- title: Suspicious Control Panel DLL Load\n",
    "  id: d7eb979b-c2b5-4a6f-a3a7-c87ce6763819\n",
    "  status: experimental\n",
    "  description: Detects suspicious Rundll32 execution from control.exe as used by Equation\n",
    "    Group and Exploit Kits\n",
    "  author: Florian Roth\n",
    "  date: 2017/04/15\n",
    "  references:\n",
    "  - https://twitter.com/rikvduijn/status/853251879320662017\n",
    "  tags:\n",
    "  - attack.defense_evasion\n",
    "  - attack.t1073\n",
    "  - attack.t1085\n",
    "  - car.2013-10-002\n",
    "  logsource:\n",
    "    category: process_creation\n",
    "    product: windows\n",
    "    service: null\n",
    "  detection:\n",
    "    selection:\n",
    "      ParentImage: '*\\System32\\control.exe'\n",
    "      CommandLine: '*\\rundll32.exe *'\n",
    "    filter:\n",
    "      CommandLine: '*Shell32.dll*'\n",
    "    condition: selection and not filter\n",
    "  fields:\n",
    "  - CommandLine\n",
    "  - ParentCommandLine\n",
    "  falsepositives:\n",
    "  - Unknown\n",
    "  level: high\n",
    "\n",
    "```"
   ]
  },
  {
   "cell_type": "markdown",
   "metadata": {},
   "source": [
    "## Querying Elasticsearch"
   ]
  },
  {
   "cell_type": "markdown",
   "metadata": {},
   "source": [
    "### Import Libraries"
   ]
  },
  {
   "cell_type": "code",
   "execution_count": null,
   "metadata": {},
   "outputs": [],
   "source": [
    "from elasticsearch import Elasticsearch\n",
    "from elasticsearch_dsl import Search\n",
    "import pandas as pd"
   ]
  },
  {
   "cell_type": "markdown",
   "metadata": {},
   "source": [
    "### Initialize Elasticsearch client"
   ]
  },
  {
   "cell_type": "code",
   "execution_count": null,
   "metadata": {},
   "outputs": [],
   "source": [
    "es = Elasticsearch([http://ip_here:9200/])\n",
    "searchContext = Search(using=es, index='logs-*', doc_type='doc')"
   ]
  },
  {
   "cell_type": "markdown",
   "metadata": {},
   "source": [
    "### Run Elasticsearch Query"
   ]
  },
  {
   "cell_type": "code",
   "execution_count": null,
   "metadata": {},
   "outputs": [],
   "source": [
    "s = searchContext.query('query_string', query='((process_parent_path.keyword:*\\\\System32\\\\control.exe AND process_command_line.keyword:*\\\\rundll32.exe\\ *) AND (NOT (process_command_line.keyword:*Shell32.dll*)))')\n",
    "response = s.execute()\n",
    "if response.success():\n",
    "    df = pd.DataFrame((d.to_dict() for d in s.scan()))"
   ]
  },
  {
   "cell_type": "markdown",
   "metadata": {},
   "source": [
    "### Show Results"
   ]
  },
  {
   "cell_type": "code",
   "execution_count": null,
   "metadata": {},
   "outputs": [],
   "source": [
    "df.head()"
   ]
  }
 ],
 "metadata": {},
 "nbformat": 4,
 "nbformat_minor": 4
}
