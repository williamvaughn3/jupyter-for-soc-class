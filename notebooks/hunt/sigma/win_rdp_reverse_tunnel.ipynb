{
 "cells": [
  {
   "cell_type": "markdown",
   "metadata": {},
   "source": [
    "# RDP over Reverse SSH Tunnel WFP\n",
    "Detects svchost hosting RDP termsvcs communicating with the loopback address and on TCP port 3389"
   ]
  },
  {
   "cell_type": "markdown",
   "metadata": {},
   "source": [
    "## Rule Content\n",
    "```\n",
    "- title: RDP over Reverse SSH Tunnel WFP\n",
    "  id: 5bed80b6-b3e8-428e-a3ae-d3c757589e41\n",
    "  status: experimental\n",
    "  description: Detects svchost hosting RDP termsvcs communicating with the loopback\n",
    "    address and on TCP port 3389\n",
    "  references:\n",
    "  - https://twitter.com/SBousseaden/status/1096148422984384514\n",
    "  author: Samir Bousseaden\n",
    "  date: 2019/02/16\n",
    "  tags:\n",
    "  - attack.defense_evasion\n",
    "  - attack.command_and_control\n",
    "  - attack.t1076\n",
    "  - car.2013-07-002\n",
    "  logsource:\n",
    "    product: windows\n",
    "    service: security\n",
    "    category: null\n",
    "  detection:\n",
    "    selection:\n",
    "      EventID: 5156\n",
    "    sourceRDP:\n",
    "      SourcePort: 3389\n",
    "      DestinationAddress:\n",
    "      - 127.*\n",
    "      - ::1\n",
    "    destinationRDP:\n",
    "      DestinationPort: 3389\n",
    "      SourceAddress:\n",
    "      - 127.*\n",
    "      - ::1\n",
    "    condition: selection and ( sourceRDP or destinationRDP )\n",
    "  falsepositives:\n",
    "  - unknown\n",
    "  level: high\n",
    "\n",
    "```"
   ]
  },
  {
   "cell_type": "markdown",
   "metadata": {},
   "source": [
    "## Querying Elasticsearch"
   ]
  },
  {
   "cell_type": "markdown",
   "metadata": {},
   "source": [
    "### Import Libraries"
   ]
  },
  {
   "cell_type": "code",
   "execution_count": null,
   "metadata": {},
   "outputs": [],
   "source": [
    "from elasticsearch import Elasticsearch\n",
    "from elasticsearch_dsl import Search\n",
    "import pandas as pd"
   ]
  },
  {
   "cell_type": "markdown",
   "metadata": {},
   "source": [
    "### Initialize Elasticsearch client"
   ]
  },
  {
   "cell_type": "code",
   "execution_count": null,
   "metadata": {},
   "outputs": [],
   "source": [
    "es = Elasticsearch([http://ip_here:9200/])\n",
    "searchContext = Search(using=es, index='logs-endpoint-winevent-security-*', doc_type='doc')"
   ]
  },
  {
   "cell_type": "markdown",
   "metadata": {},
   "source": [
    "### Run Elasticsearch Query"
   ]
  },
  {
   "cell_type": "code",
   "execution_count": null,
   "metadata": {},
   "outputs": [],
   "source": [
    "s = searchContext.query('query_string', query='(event_id:\"5156\" AND ((src_port:\"3389\" AND DestinationAddress.keyword:(127.* OR \\:\\:1)) OR (dst_port:\"3389\" AND src_ip_addr.keyword:(127.* OR \\:\\:1))))')\n",
    "response = s.execute()\n",
    "if response.success():\n",
    "    df = pd.DataFrame((d.to_dict() for d in s.scan()))"
   ]
  },
  {
   "cell_type": "markdown",
   "metadata": {},
   "source": [
    "### Show Results"
   ]
  },
  {
   "cell_type": "code",
   "execution_count": null,
   "metadata": {},
   "outputs": [],
   "source": [
    "df.head()"
   ]
  }
 ],
 "metadata": {},
 "nbformat": 4,
 "nbformat_minor": 4
}
