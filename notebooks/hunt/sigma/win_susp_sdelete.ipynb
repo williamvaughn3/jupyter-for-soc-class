{
 "cells": [
  {
   "cell_type": "markdown",
   "metadata": {},
   "source": [
    "# Secure Deletion with SDelete\n",
    "Detects renaming of file while deletion with SDelete tool"
   ]
  },
  {
   "cell_type": "markdown",
   "metadata": {},
   "source": [
    "## Rule Content\n",
    "```\n",
    "- title: Secure Deletion with SDelete\n",
    "  id: 39a80702-d7ca-4a83-b776-525b1f86a36d\n",
    "  status: experimental\n",
    "  description: Detects renaming of file while deletion with SDelete tool\n",
    "  author: Thomas Patzke\n",
    "  references:\n",
    "  - https://jpcertcc.github.io/ToolAnalysisResultSheet\n",
    "  - https://www.jpcert.or.jp/english/pub/sr/ir_research.html\n",
    "  - https://technet.microsoft.com/en-us/en-en/sysinternals/sdelete.aspx\n",
    "  tags:\n",
    "  - attack.defense_evasion\n",
    "  - attack.t1107\n",
    "  - attack.t1066\n",
    "  - attack.s0195\n",
    "  logsource:\n",
    "    product: windows\n",
    "    service: security\n",
    "    category: null\n",
    "  detection:\n",
    "    selection:\n",
    "      EventID:\n",
    "      - 4656\n",
    "      - 4663\n",
    "      - 4658\n",
    "      ObjectName:\n",
    "      - '*.AAA'\n",
    "      - '*.ZZZ'\n",
    "    condition: selection\n",
    "  falsepositives:\n",
    "  - Legitime usage of SDelete\n",
    "  level: medium\n",
    "\n",
    "```"
   ]
  },
  {
   "cell_type": "markdown",
   "metadata": {},
   "source": [
    "## Querying Elasticsearch"
   ]
  },
  {
   "cell_type": "markdown",
   "metadata": {},
   "source": [
    "### Import Libraries"
   ]
  },
  {
   "cell_type": "code",
   "execution_count": null,
   "metadata": {},
   "outputs": [],
   "source": [
    "from elasticsearch import Elasticsearch\n",
    "from elasticsearch_dsl import Search\n",
    "import pandas as pd"
   ]
  },
  {
   "cell_type": "markdown",
   "metadata": {},
   "source": [
    "### Initialize Elasticsearch client"
   ]
  },
  {
   "cell_type": "code",
   "execution_count": null,
   "metadata": {},
   "outputs": [],
   "source": [
    "es = Elasticsearch([http://ip_here:9200/])\n",
    "searchContext = Search(using=es, index='logs-endpoint-winevent-security-*', doc_type='doc')"
   ]
  },
  {
   "cell_type": "markdown",
   "metadata": {},
   "source": [
    "### Run Elasticsearch Query"
   ]
  },
  {
   "cell_type": "code",
   "execution_count": null,
   "metadata": {},
   "outputs": [],
   "source": [
    "s = searchContext.query('query_string', query='(event_id:(\"4656\" OR \"4663\" OR \"4658\") AND object_name.keyword:(*.AAA OR *.ZZZ))')\n",
    "response = s.execute()\n",
    "if response.success():\n",
    "    df = pd.DataFrame((d.to_dict() for d in s.scan()))"
   ]
  },
  {
   "cell_type": "markdown",
   "metadata": {},
   "source": [
    "### Show Results"
   ]
  },
  {
   "cell_type": "code",
   "execution_count": null,
   "metadata": {},
   "outputs": [],
   "source": [
    "df.head()"
   ]
  }
 ],
 "metadata": {},
 "nbformat": 4,
 "nbformat_minor": 4
}
