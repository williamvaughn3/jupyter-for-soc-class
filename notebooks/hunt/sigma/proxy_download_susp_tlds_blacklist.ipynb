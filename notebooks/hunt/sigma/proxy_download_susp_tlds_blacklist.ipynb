{
 "cells": [
  {
   "cell_type": "markdown",
   "metadata": {},
   "source": [
    "# Download from Suspicious TLD\n",
    "Detects download of certain file types from hosts in suspicious TLDs"
   ]
  },
  {
   "cell_type": "markdown",
   "metadata": {},
   "source": [
    "## Rule Content\n",
    "```\n",
    "- title: Download from Suspicious TLD\n",
    "  id: 00d0b5ab-1f55-4120-8e83-487c0a7baf19\n",
    "  status: experimental\n",
    "  description: Detects download of certain file types from hosts in suspicious TLDs\n",
    "  references:\n",
    "  - https://www.symantec.com/connect/blogs/shady-tld-research-gdn-and-our-2016-wrap\n",
    "  - https://promos.mcafee.com/en-US/PDF/MTMW_Report.pdf\n",
    "  - https://www.spamhaus.org/statistics/tlds/\n",
    "  - https://krebsonsecurity.com/2018/06/bad-men-at-work-please-dont-click/\n",
    "  author: Florian Roth\n",
    "  date: 2018/06/13\n",
    "  logsource:\n",
    "    category: proxy\n",
    "    product: null\n",
    "    service: null\n",
    "  detection:\n",
    "    selection:\n",
    "      c-uri-extension:\n",
    "      - exe\n",
    "      - vbs\n",
    "      - bat\n",
    "      - rar\n",
    "      - ps1\n",
    "      - doc\n",
    "      - docm\n",
    "      - xls\n",
    "      - xlsm\n",
    "      - pptm\n",
    "      - rtf\n",
    "      - hta\n",
    "      - dll\n",
    "      - ws\n",
    "      - wsf\n",
    "      - sct\n",
    "      - zip\n",
    "      r-dns:\n",
    "      - '*.country'\n",
    "      - '*.stream'\n",
    "      - '*.gdn'\n",
    "      - '*.mom'\n",
    "      - '*.xin'\n",
    "      - '*.kim'\n",
    "      - '*.men'\n",
    "      - '*.loan'\n",
    "      - '*.download'\n",
    "      - '*.racing'\n",
    "      - '*.online'\n",
    "      - '*.science'\n",
    "      - '*.ren'\n",
    "      - '*.gb'\n",
    "      - '*.win'\n",
    "      - '*.top'\n",
    "      - '*.review'\n",
    "      - '*.vip'\n",
    "      - '*.party'\n",
    "      - '*.tech'\n",
    "      - '*.xyz'\n",
    "      - '*.date'\n",
    "      - '*.faith'\n",
    "      - '*.zip'\n",
    "      - '*.cricket'\n",
    "      - '*.space'\n",
    "      - '*.info'\n",
    "      - '*.vn'\n",
    "      - '*.cm'\n",
    "      - '*.am'\n",
    "      - '*.cc'\n",
    "      - '*.asia'\n",
    "      - '*.ws'\n",
    "      - '*.tk'\n",
    "      - '*.biz'\n",
    "      - '*.su'\n",
    "      - '*.st'\n",
    "      - '*.ro'\n",
    "      - '*.ge'\n",
    "      - '*.ms'\n",
    "      - '*.pk'\n",
    "      - '*.nu'\n",
    "      - '*.me'\n",
    "      - '*.ph'\n",
    "      - '*.to'\n",
    "      - '*.tt'\n",
    "      - '*.name'\n",
    "      - '*.tv'\n",
    "      - '*.kz'\n",
    "      - '*.tc'\n",
    "      - '*.mobi'\n",
    "      - '*.study'\n",
    "      - '*.click'\n",
    "      - '*.link'\n",
    "      - '*.trade'\n",
    "      - '*.accountant'\n",
    "      - '*.cf'\n",
    "      - '*.gq'\n",
    "      - '*.ml'\n",
    "      - '*.ga'\n",
    "      - '*.pw'\n",
    "    condition: selection\n",
    "  fields:\n",
    "  - ClientIP\n",
    "  - c-uri\n",
    "  falsepositives:\n",
    "  - All kinds of software downloads\n",
    "  level: low\n",
    "\n",
    "```"
   ]
  },
  {
   "cell_type": "markdown",
   "metadata": {},
   "source": [
    "## Querying Elasticsearch"
   ]
  },
  {
   "cell_type": "markdown",
   "metadata": {},
   "source": [
    "### Import Libraries"
   ]
  },
  {
   "cell_type": "code",
   "execution_count": null,
   "metadata": {},
   "outputs": [],
   "source": [
    "from elasticsearch import Elasticsearch\n",
    "from elasticsearch_dsl import Search\n",
    "import pandas as pd"
   ]
  },
  {
   "cell_type": "markdown",
   "metadata": {},
   "source": [
    "### Initialize Elasticsearch client"
   ]
  },
  {
   "cell_type": "code",
   "execution_count": null,
   "metadata": {},
   "outputs": [],
   "source": [
    "es = Elasticsearch([http://ip_here:9200/])\n",
    "searchContext = Search(using=es, index='logs-*', doc_type='doc')"
   ]
  },
  {
   "cell_type": "markdown",
   "metadata": {},
   "source": [
    "### Run Elasticsearch Query"
   ]
  },
  {
   "cell_type": "code",
   "execution_count": null,
   "metadata": {},
   "outputs": [],
   "source": [
    "s = searchContext.query('query_string', query='(c-uri-extension:(\"exe\" OR \"vbs\" OR \"bat\" OR \"rar\" OR \"ps1\" OR \"doc\" OR \"docm\" OR \"xls\" OR \"xlsm\" OR \"pptm\" OR \"rtf\" OR \"hta\" OR \"dll\" OR \"ws\" OR \"wsf\" OR \"sct\" OR \"zip\") AND r-dns.keyword:(*.country OR *.stream OR *.gdn OR *.mom OR *.xin OR *.kim OR *.men OR *.loan OR *.download OR *.racing OR *.online OR *.science OR *.ren OR *.gb OR *.win OR *.top OR *.review OR *.vip OR *.party OR *.tech OR *.xyz OR *.date OR *.faith OR *.zip OR *.cricket OR *.space OR *.info OR *.vn OR *.cm OR *.am OR *.cc OR *.asia OR *.ws OR *.tk OR *.biz OR *.su OR *.st OR *.ro OR *.ge OR *.ms OR *.pk OR *.nu OR *.me OR *.ph OR *.to OR *.tt OR *.name OR *.tv OR *.kz OR *.tc OR *.mobi OR *.study OR *.click OR *.link OR *.trade OR *.accountant OR *.cf OR *.gq OR *.ml OR *.ga OR *.pw))')\n",
    "response = s.execute()\n",
    "if response.success():\n",
    "    df = pd.DataFrame((d.to_dict() for d in s.scan()))"
   ]
  },
  {
   "cell_type": "markdown",
   "metadata": {},
   "source": [
    "### Show Results"
   ]
  },
  {
   "cell_type": "code",
   "execution_count": null,
   "metadata": {},
   "outputs": [],
   "source": [
    "df.head()"
   ]
  }
 ],
 "metadata": {},
 "nbformat": 4,
 "nbformat_minor": 4
}
