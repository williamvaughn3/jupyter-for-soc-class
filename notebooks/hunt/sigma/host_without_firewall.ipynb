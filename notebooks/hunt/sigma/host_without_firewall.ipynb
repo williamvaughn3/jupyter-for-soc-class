{
 "cells": [
  {
   "cell_type": "markdown",
   "metadata": {},
   "source": [
    "# Host Without Firewall\n",
    "Host Without Firewall. Alert means not complied. Sigma for Qualys vulnerability scanner. Scan type - Vulnerability Management."
   ]
  },
  {
   "cell_type": "markdown",
   "metadata": {},
   "source": [
    "## Rule Content\n",
    "```\n",
    "- title: Host Without Firewall\n",
    "  id: 6b2066c8-3dc7-4db7-9db0-6cc1d7b0dde9\n",
    "  description: Host Without Firewall. Alert means not complied. Sigma for Qualys vulnerability\n",
    "    scanner. Scan type - Vulnerability Management.\n",
    "  author: Alexandr Yampolskyi, SOC Prime\n",
    "  references:\n",
    "  - https://www.cisecurity.org/controls/cis-controls-list/\n",
    "  - https://www.pcisecuritystandards.org/documents/PCI_DSS_v3-2-1.pdf\n",
    "  - https://nvlpubs.nist.gov/nistpubs/CSWP/NIST.CSWP.04162018.pdf\n",
    "  date: 2019/03/19\n",
    "  status: stable\n",
    "  level: low\n",
    "  logsource:\n",
    "    product: Qualys\n",
    "    service: null\n",
    "    category: null\n",
    "  detection:\n",
    "    selection:\n",
    "      event.category: Security Policy\n",
    "      host.scan.vuln_name: Firewall Product Not Detected*\n",
    "    condition: selection\n",
    "  tags:\n",
    "  - CSC9\n",
    "  - CSC9.4\n",
    "  - NIST CSF 1.1 PR.AC-5\n",
    "  - NIST CSF 1.1 PR.AC-6\n",
    "  - NIST CSF 1.1 PR.AC-7\n",
    "  - NIST CSF 1.1 DE.AE-1\n",
    "  - ISO 27002-2013 A.9.1.2\n",
    "  - ISO 27002-2013 A.13.2.1\n",
    "  - ISO 27002-2013 A.13.2.2\n",
    "  - ISO 27002-2013 A.14.1.2\n",
    "  - PCI DSS 3.2 1.4\n",
    "\n",
    "```"
   ]
  },
  {
   "cell_type": "markdown",
   "metadata": {},
   "source": [
    "## Querying Elasticsearch"
   ]
  },
  {
   "cell_type": "markdown",
   "metadata": {},
   "source": [
    "### Import Libraries"
   ]
  },
  {
   "cell_type": "code",
   "execution_count": null,
   "metadata": {},
   "outputs": [],
   "source": [
    "from elasticsearch import Elasticsearch\n",
    "from elasticsearch_dsl import Search\n",
    "import pandas as pd"
   ]
  },
  {
   "cell_type": "markdown",
   "metadata": {},
   "source": [
    "### Initialize Elasticsearch client"
   ]
  },
  {
   "cell_type": "code",
   "execution_count": null,
   "metadata": {},
   "outputs": [],
   "source": [
    "es = Elasticsearch([http://ip_here:9200/])\n",
    "searchContext = Search(using=es, index='logs-*', doc_type='doc')"
   ]
  },
  {
   "cell_type": "markdown",
   "metadata": {},
   "source": [
    "### Run Elasticsearch Query"
   ]
  },
  {
   "cell_type": "code",
   "execution_count": null,
   "metadata": {},
   "outputs": [],
   "source": [
    "s = searchContext.query('query_string', query='(event.category:\"Security\\ Policy\" AND host.scan.vuln_name.keyword:Firewall\\ Product\\ Not\\ Detected*)')\n",
    "response = s.execute()\n",
    "if response.success():\n",
    "    df = pd.DataFrame((d.to_dict() for d in s.scan()))"
   ]
  },
  {
   "cell_type": "markdown",
   "metadata": {},
   "source": [
    "### Show Results"
   ]
  },
  {
   "cell_type": "code",
   "execution_count": null,
   "metadata": {},
   "outputs": [],
   "source": [
    "df.head()"
   ]
  }
 ],
 "metadata": {},
 "nbformat": 4,
 "nbformat_minor": 4
}
