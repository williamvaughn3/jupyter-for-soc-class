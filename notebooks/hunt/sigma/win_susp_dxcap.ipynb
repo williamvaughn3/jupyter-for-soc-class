{
 "cells": [
  {
   "cell_type": "markdown",
   "metadata": {},
   "source": [
    "# Application Whitelisting bypass via dxcap.exe\n",
    "Detects execution of of Dxcap.exe"
   ]
  },
  {
   "cell_type": "markdown",
   "metadata": {},
   "source": [
    "## Rule Content\n",
    "```\n",
    "- title: Application Whitelisting bypass via dxcap.exe\n",
    "  id: 60f16a96-db70-42eb-8f76-16763e333590\n",
    "  status: experimental\n",
    "  description: Detects execution of of Dxcap.exe\n",
    "  references:\n",
    "  - https://github.com/LOLBAS-Project/LOLBAS/blob/master/yml/OtherMSBinaries/Dxcap.yml\n",
    "  - https://twitter.com/harr0ey/status/992008180904419328\n",
    "  author: Beyu Denis, oscd.community\n",
    "  date: 2019/10/26\n",
    "  modified: 2019/11/04\n",
    "  tags:\n",
    "  - attack.defense_evasion\n",
    "  - attack.execution\n",
    "  - attack.t1218\n",
    "  level: medium\n",
    "  logsource:\n",
    "    category: process_creation\n",
    "    product: windows\n",
    "    service: null\n",
    "  detection:\n",
    "    selection:\n",
    "      Image|endswith: \\dxcap.exe\n",
    "      CommandLine|contains|all:\n",
    "      - -c\n",
    "      - .exe\n",
    "    condition: selection\n",
    "  falsepositives:\n",
    "  - Legitimate execution of dxcap.exe by legitimate user\n",
    "\n",
    "```"
   ]
  },
  {
   "cell_type": "markdown",
   "metadata": {},
   "source": [
    "## Querying Elasticsearch"
   ]
  },
  {
   "cell_type": "markdown",
   "metadata": {},
   "source": [
    "### Import Libraries"
   ]
  },
  {
   "cell_type": "code",
   "execution_count": null,
   "metadata": {},
   "outputs": [],
   "source": [
    "from elasticsearch import Elasticsearch\n",
    "from elasticsearch_dsl import Search\n",
    "import pandas as pd"
   ]
  },
  {
   "cell_type": "markdown",
   "metadata": {},
   "source": [
    "### Initialize Elasticsearch client"
   ]
  },
  {
   "cell_type": "code",
   "execution_count": null,
   "metadata": {},
   "outputs": [],
   "source": [
    "es = Elasticsearch([http://ip_here:9200/])\n",
    "searchContext = Search(using=es, index='logs-*', doc_type='doc')"
   ]
  },
  {
   "cell_type": "markdown",
   "metadata": {},
   "source": [
    "### Run Elasticsearch Query"
   ]
  },
  {
   "cell_type": "code",
   "execution_count": null,
   "metadata": {},
   "outputs": [],
   "source": [
    "s = searchContext.query('query_string', query='(process_path.keyword:*\\\\dxcap.exe AND process_command_line.keyword:*\\-c* AND process_command_line.keyword:*.exe*)')\n",
    "response = s.execute()\n",
    "if response.success():\n",
    "    df = pd.DataFrame((d.to_dict() for d in s.scan()))"
   ]
  },
  {
   "cell_type": "markdown",
   "metadata": {},
   "source": [
    "### Show Results"
   ]
  },
  {
   "cell_type": "code",
   "execution_count": null,
   "metadata": {},
   "outputs": [],
   "source": [
    "df.head()"
   ]
  }
 ],
 "metadata": {},
 "nbformat": 4,
 "nbformat_minor": 4
}
