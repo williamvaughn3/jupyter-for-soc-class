{
 "cells": [
  {
   "cell_type": "markdown",
   "metadata": {},
   "source": [
    "# Security Support Provider (SSP) added to LSA configuration\n",
    "Detects the addition of a SSP to the registry. Upon a reboot or API call, SSP DLLs gain access to encrypted and plaintext passwords stored in Windows."
   ]
  },
  {
   "cell_type": "markdown",
   "metadata": {},
   "source": [
    "## Rule Content\n",
    "```\n",
    "- title: Security Support Provider (SSP) added to LSA configuration\n",
    "  id: eeb30123-9fbd-4ee8-aaa0-2e545bbed6dc\n",
    "  status: experimental\n",
    "  description: Detects the addition of a SSP to the registry. Upon a reboot or API\n",
    "    call, SSP DLLs gain access to encrypted and plaintext passwords stored in Windows.\n",
    "  references:\n",
    "  - https://attack.mitre.org/techniques/T1101/\n",
    "  - https://powersploit.readthedocs.io/en/latest/Persistence/Install-SSP/\n",
    "  tags:\n",
    "  - attack.persistence\n",
    "  - attack.t1011\n",
    "  author: iwillkeepwatch\n",
    "  date: 2019/01/18\n",
    "  logsource:\n",
    "    product: windows\n",
    "    service: sysmon\n",
    "    category: null\n",
    "  detection:\n",
    "    selection_registry:\n",
    "      EventID: 13\n",
    "      TargetObject:\n",
    "      - HKLM\\System\\CurrentControlSet\\Control\\Lsa\\Security Packages\n",
    "      - HKLM\\System\\CurrentControlSet\\Control\\Lsa\\OSConfig\\Security Packages\n",
    "    exclusion_images:\n",
    "    - Image: C:\\Windows\\system32\\msiexec.exe\n",
    "    - Image: C:\\Windows\\syswow64\\MsiExec.exe\n",
    "    condition: selection_registry and not exclusion_images\n",
    "  falsepositives:\n",
    "  - Unlikely\n",
    "  level: critical\n",
    "\n",
    "```"
   ]
  },
  {
   "cell_type": "markdown",
   "metadata": {},
   "source": [
    "## Querying Elasticsearch"
   ]
  },
  {
   "cell_type": "markdown",
   "metadata": {},
   "source": [
    "### Import Libraries"
   ]
  },
  {
   "cell_type": "code",
   "execution_count": null,
   "metadata": {},
   "outputs": [],
   "source": [
    "from elasticsearch import Elasticsearch\n",
    "from elasticsearch_dsl import Search\n",
    "import pandas as pd"
   ]
  },
  {
   "cell_type": "markdown",
   "metadata": {},
   "source": [
    "### Initialize Elasticsearch client"
   ]
  },
  {
   "cell_type": "code",
   "execution_count": null,
   "metadata": {},
   "outputs": [],
   "source": [
    "es = Elasticsearch([http://ip_here:9200/])\n",
    "searchContext = Search(using=es, index='logs-endpoint-winevent-sysmon-*', doc_type='doc')"
   ]
  },
  {
   "cell_type": "markdown",
   "metadata": {},
   "source": [
    "### Run Elasticsearch Query"
   ]
  },
  {
   "cell_type": "code",
   "execution_count": null,
   "metadata": {},
   "outputs": [],
   "source": [
    "s = searchContext.query('query_string', query='((event_id:\"13\" AND registry_key_path:(\"HKLM\\\\System\\\\CurrentControlSet\\\\Control\\\\Lsa\\\\Security\\ Packages\" OR \"HKLM\\\\System\\\\CurrentControlSet\\\\Control\\\\Lsa\\\\OSConfig\\\\Security\\ Packages\")) AND (NOT (process_path:\"C\\:\\\\Windows\\\\system32\\\\msiexec.exe\" OR process_path:\"C\\:\\\\Windows\\\\syswow64\\\\MsiExec.exe\")))')\n",
    "response = s.execute()\n",
    "if response.success():\n",
    "    df = pd.DataFrame((d.to_dict() for d in s.scan()))"
   ]
  },
  {
   "cell_type": "markdown",
   "metadata": {},
   "source": [
    "### Show Results"
   ]
  },
  {
   "cell_type": "code",
   "execution_count": null,
   "metadata": {},
   "outputs": [],
   "source": [
    "df.head()"
   ]
  }
 ],
 "metadata": {},
 "nbformat": 4,
 "nbformat_minor": 4
}
