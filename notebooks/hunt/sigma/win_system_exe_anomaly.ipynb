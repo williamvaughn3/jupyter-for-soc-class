{
 "cells": [
  {
   "cell_type": "markdown",
   "metadata": {},
   "source": [
    "# System File Execution Location Anomaly\n",
    "Detects a Windows program executable started in a suspicious folder"
   ]
  },
  {
   "cell_type": "markdown",
   "metadata": {},
   "source": [
    "## Rule Content\n",
    "```\n",
    "- title: System File Execution Location Anomaly\n",
    "  id: e4a6b256-3e47-40fc-89d2-7a477edd6915\n",
    "  status: experimental\n",
    "  description: Detects a Windows program executable started in a suspicious folder\n",
    "  references:\n",
    "  - https://twitter.com/GelosSnake/status/934900723426439170\n",
    "  author: Florian Roth, Patrick Bareiss\n",
    "  date: 2017/11/27\n",
    "  tags:\n",
    "  - attack.defense_evasion\n",
    "  - attack.t1036\n",
    "  logsource:\n",
    "    category: process_creation\n",
    "    product: windows\n",
    "    service: null\n",
    "  detection:\n",
    "    selection:\n",
    "      Image:\n",
    "      - '*\\svchost.exe'\n",
    "      - '*\\rundll32.exe'\n",
    "      - '*\\services.exe'\n",
    "      - '*\\powershell.exe'\n",
    "      - '*\\regsvr32.exe'\n",
    "      - '*\\spoolsv.exe'\n",
    "      - '*\\lsass.exe'\n",
    "      - '*\\smss.exe'\n",
    "      - '*\\csrss.exe'\n",
    "      - '*\\conhost.exe'\n",
    "      - '*\\wininit.exe'\n",
    "      - '*\\lsm.exe'\n",
    "      - '*\\winlogon.exe'\n",
    "      - '*\\explorer.exe'\n",
    "      - '*\\taskhost.exe'\n",
    "    filter:\n",
    "      Image:\n",
    "      - C:\\Windows\\System32\\\\*\n",
    "      - C:\\Windows\\SysWow64\\\\*\n",
    "      - C:\\Windows\\explorer.exe\n",
    "      - C:\\Windows\\winsxs\\\\*\n",
    "      - \\SystemRoot\\System32\\\\*\n",
    "    condition: selection and not filter\n",
    "  falsepositives:\n",
    "  - Exotic software\n",
    "  level: high\n",
    "\n",
    "```"
   ]
  },
  {
   "cell_type": "markdown",
   "metadata": {},
   "source": [
    "## Querying Elasticsearch"
   ]
  },
  {
   "cell_type": "markdown",
   "metadata": {},
   "source": [
    "### Import Libraries"
   ]
  },
  {
   "cell_type": "code",
   "execution_count": null,
   "metadata": {},
   "outputs": [],
   "source": [
    "from elasticsearch import Elasticsearch\n",
    "from elasticsearch_dsl import Search\n",
    "import pandas as pd"
   ]
  },
  {
   "cell_type": "markdown",
   "metadata": {},
   "source": [
    "### Initialize Elasticsearch client"
   ]
  },
  {
   "cell_type": "code",
   "execution_count": null,
   "metadata": {},
   "outputs": [],
   "source": [
    "es = Elasticsearch([http://ip_here:9200/])\n",
    "searchContext = Search(using=es, index='logs-*', doc_type='doc')"
   ]
  },
  {
   "cell_type": "markdown",
   "metadata": {},
   "source": [
    "### Run Elasticsearch Query"
   ]
  },
  {
   "cell_type": "code",
   "execution_count": null,
   "metadata": {},
   "outputs": [],
   "source": [
    "s = searchContext.query('query_string', query='(process_path.keyword:(*\\\\svchost.exe OR *\\\\rundll32.exe OR *\\\\services.exe OR *\\\\powershell.exe OR *\\\\regsvr32.exe OR *\\\\spoolsv.exe OR *\\\\lsass.exe OR *\\\\smss.exe OR *\\\\csrss.exe OR *\\\\conhost.exe OR *\\\\wininit.exe OR *\\\\lsm.exe OR *\\\\winlogon.exe OR *\\\\explorer.exe OR *\\\\taskhost.exe) AND (NOT (process_path.keyword:(C\\:\\\\Windows\\\\System32\\\\* OR C\\:\\\\Windows\\\\SysWow64\\\\* OR C\\:\\\\Windows\\\\explorer.exe OR C\\:\\\\Windows\\\\winsxs\\\\* OR \\\\SystemRoot\\\\System32\\\\*))))')\n",
    "response = s.execute()\n",
    "if response.success():\n",
    "    df = pd.DataFrame((d.to_dict() for d in s.scan()))"
   ]
  },
  {
   "cell_type": "markdown",
   "metadata": {},
   "source": [
    "### Show Results"
   ]
  },
  {
   "cell_type": "code",
   "execution_count": null,
   "metadata": {},
   "outputs": [],
   "source": [
    "df.head()"
   ]
  }
 ],
 "metadata": {},
 "nbformat": 4,
 "nbformat_minor": 4
}
