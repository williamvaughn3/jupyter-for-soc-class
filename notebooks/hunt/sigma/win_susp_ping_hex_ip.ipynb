{
 "cells": [
  {
   "cell_type": "markdown",
   "metadata": {},
   "source": [
    "# Ping Hex IP\n",
    "Detects a ping command that uses a hex encoded IP address"
   ]
  },
  {
   "cell_type": "markdown",
   "metadata": {},
   "source": [
    "## Rule Content\n",
    "```\n",
    "- title: Ping Hex IP\n",
    "  id: 1a0d4aba-7668-4365-9ce4-6d79ab088dfd\n",
    "  description: Detects a ping command that uses a hex encoded IP address\n",
    "  references:\n",
    "  - https://github.com/vysec/Aggressor-VYSEC/blob/master/ping.cna\n",
    "  - https://twitter.com/vysecurity/status/977198418354491392\n",
    "  author: Florian Roth\n",
    "  date: 2018/03/23\n",
    "  tags:\n",
    "  - attack.defense_evasion\n",
    "  - attack.t1140\n",
    "  - attack.t1027\n",
    "  logsource:\n",
    "    category: process_creation\n",
    "    product: windows\n",
    "    service: null\n",
    "  detection:\n",
    "    selection:\n",
    "      CommandLine:\n",
    "      - '*\\ping.exe 0x*'\n",
    "      - '*\\ping 0x*'\n",
    "    condition: selection\n",
    "  fields:\n",
    "  - ParentCommandLine\n",
    "  falsepositives:\n",
    "  - Unlikely, because no sane admin pings IP addresses in a hexadecimal form\n",
    "  level: high\n",
    "\n",
    "```"
   ]
  },
  {
   "cell_type": "markdown",
   "metadata": {},
   "source": [
    "## Querying Elasticsearch"
   ]
  },
  {
   "cell_type": "markdown",
   "metadata": {},
   "source": [
    "### Import Libraries"
   ]
  },
  {
   "cell_type": "code",
   "execution_count": null,
   "metadata": {},
   "outputs": [],
   "source": [
    "from elasticsearch import Elasticsearch\n",
    "from elasticsearch_dsl import Search\n",
    "import pandas as pd"
   ]
  },
  {
   "cell_type": "markdown",
   "metadata": {},
   "source": [
    "### Initialize Elasticsearch client"
   ]
  },
  {
   "cell_type": "code",
   "execution_count": null,
   "metadata": {},
   "outputs": [],
   "source": [
    "es = Elasticsearch([http://ip_here:9200/])\n",
    "searchContext = Search(using=es, index='logs-*', doc_type='doc')"
   ]
  },
  {
   "cell_type": "markdown",
   "metadata": {},
   "source": [
    "### Run Elasticsearch Query"
   ]
  },
  {
   "cell_type": "code",
   "execution_count": null,
   "metadata": {},
   "outputs": [],
   "source": [
    "s = searchContext.query('query_string', query='process_command_line.keyword:(*\\\\ping.exe\\ 0x* OR *\\\\ping\\ 0x*)')\n",
    "response = s.execute()\n",
    "if response.success():\n",
    "    df = pd.DataFrame((d.to_dict() for d in s.scan()))"
   ]
  },
  {
   "cell_type": "markdown",
   "metadata": {},
   "source": [
    "### Show Results"
   ]
  },
  {
   "cell_type": "code",
   "execution_count": null,
   "metadata": {},
   "outputs": [],
   "source": [
    "df.head()"
   ]
  }
 ],
 "metadata": {},
 "nbformat": 4,
 "nbformat_minor": 4
}
