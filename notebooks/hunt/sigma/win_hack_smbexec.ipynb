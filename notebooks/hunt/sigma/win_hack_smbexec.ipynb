{
 "cells": [
  {
   "cell_type": "markdown",
   "metadata": {},
   "source": [
    "# smbexec.py Service Installation\n",
    "Detects the use of smbexec.py tool by detecting a specific service installation"
   ]
  },
  {
   "cell_type": "markdown",
   "metadata": {},
   "source": [
    "## Rule Content\n",
    "```\n",
    "- title: smbexec.py Service Installation\n",
    "  id: 52a85084-6989-40c3-8f32-091e12e13f09\n",
    "  description: Detects the use of smbexec.py tool by detecting a specific service\n",
    "    installation\n",
    "  author: Omer Faruk Celik\n",
    "  date: 2018/03/20\n",
    "  references:\n",
    "  - https://blog.ropnop.com/using-credentials-to-own-windows-boxes-part-2-psexec-and-services/\n",
    "  tags:\n",
    "  - attack.lateral_movement\n",
    "  - attack.execution\n",
    "  - attack.t1077\n",
    "  - attack.t1035\n",
    "  logsource:\n",
    "    product: windows\n",
    "    service: system\n",
    "    category: null\n",
    "  detection:\n",
    "    service_installation:\n",
    "      EventID: 7045\n",
    "      ServiceName: BTOBTO\n",
    "      ServiceFileName: '*\\execute.bat'\n",
    "    condition: service_installation\n",
    "  fields:\n",
    "  - ServiceName\n",
    "  - ServiceFileName\n",
    "  falsepositives:\n",
    "  - Penetration Test\n",
    "  - Unknown\n",
    "  level: critical\n",
    "\n",
    "```"
   ]
  },
  {
   "cell_type": "markdown",
   "metadata": {},
   "source": [
    "## Querying Elasticsearch"
   ]
  },
  {
   "cell_type": "markdown",
   "metadata": {},
   "source": [
    "### Import Libraries"
   ]
  },
  {
   "cell_type": "code",
   "execution_count": null,
   "metadata": {},
   "outputs": [],
   "source": [
    "from elasticsearch import Elasticsearch\n",
    "from elasticsearch_dsl import Search\n",
    "import pandas as pd"
   ]
  },
  {
   "cell_type": "markdown",
   "metadata": {},
   "source": [
    "### Initialize Elasticsearch client"
   ]
  },
  {
   "cell_type": "code",
   "execution_count": null,
   "metadata": {},
   "outputs": [],
   "source": [
    "es = Elasticsearch([http://ip_here:9200/])\n",
    "searchContext = Search(using=es, index='logs-endpoint-winevent-system-*', doc_type='doc')"
   ]
  },
  {
   "cell_type": "markdown",
   "metadata": {},
   "source": [
    "### Run Elasticsearch Query"
   ]
  },
  {
   "cell_type": "code",
   "execution_count": null,
   "metadata": {},
   "outputs": [],
   "source": [
    "s = searchContext.query('query_string', query='(event_id:\"7045\" AND service_name:\"BTOBTO\" AND service_image_path.keyword:*\\\\execute.bat)')\n",
    "response = s.execute()\n",
    "if response.success():\n",
    "    df = pd.DataFrame((d.to_dict() for d in s.scan()))"
   ]
  },
  {
   "cell_type": "markdown",
   "metadata": {},
   "source": [
    "### Show Results"
   ]
  },
  {
   "cell_type": "code",
   "execution_count": null,
   "metadata": {},
   "outputs": [],
   "source": [
    "df.head()"
   ]
  }
 ],
 "metadata": {},
 "nbformat": 4,
 "nbformat_minor": 4
}
