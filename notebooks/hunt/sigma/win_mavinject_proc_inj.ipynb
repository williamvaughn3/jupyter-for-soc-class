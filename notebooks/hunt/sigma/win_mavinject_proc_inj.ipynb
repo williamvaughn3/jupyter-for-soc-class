{
 "cells": [
  {
   "cell_type": "markdown",
   "metadata": {},
   "source": [
    "# MavInject Process Injection\n",
    "Detects process injection using the signed Windows tool Mavinject32.exe"
   ]
  },
  {
   "cell_type": "markdown",
   "metadata": {},
   "source": [
    "## Rule Content\n",
    "```\n",
    "- title: MavInject Process Injection\n",
    "  id: 17eb8e57-9983-420d-ad8a-2c4976c22eb8\n",
    "  status: experimental\n",
    "  description: Detects process injection using the signed Windows tool Mavinject32.exe\n",
    "  references:\n",
    "  - https://twitter.com/gN3mes1s/status/941315826107510784\n",
    "  - https://reaqta.com/2017/12/mavinject-microsoft-injector/\n",
    "  - https://twitter.com/Hexacorn/status/776122138063409152\n",
    "  author: Florian Roth\n",
    "  date: 2018/12/12\n",
    "  tags:\n",
    "  - attack.t1055\n",
    "  - attack.t1218\n",
    "  logsource:\n",
    "    category: process_creation\n",
    "    product: windows\n",
    "    service: null\n",
    "  detection:\n",
    "    selection:\n",
    "      CommandLine: '* /INJECTRUNNING *'\n",
    "    condition: selection\n",
    "  falsepositives:\n",
    "  - unknown\n",
    "  level: critical\n",
    "\n",
    "```"
   ]
  },
  {
   "cell_type": "markdown",
   "metadata": {},
   "source": [
    "## Querying Elasticsearch"
   ]
  },
  {
   "cell_type": "markdown",
   "metadata": {},
   "source": [
    "### Import Libraries"
   ]
  },
  {
   "cell_type": "code",
   "execution_count": null,
   "metadata": {},
   "outputs": [],
   "source": [
    "from elasticsearch import Elasticsearch\n",
    "from elasticsearch_dsl import Search\n",
    "import pandas as pd"
   ]
  },
  {
   "cell_type": "markdown",
   "metadata": {},
   "source": [
    "### Initialize Elasticsearch client"
   ]
  },
  {
   "cell_type": "code",
   "execution_count": null,
   "metadata": {},
   "outputs": [],
   "source": [
    "es = Elasticsearch([http://ip_here:9200/])\n",
    "searchContext = Search(using=es, index='logs-*', doc_type='doc')"
   ]
  },
  {
   "cell_type": "markdown",
   "metadata": {},
   "source": [
    "### Run Elasticsearch Query"
   ]
  },
  {
   "cell_type": "code",
   "execution_count": null,
   "metadata": {},
   "outputs": [],
   "source": [
    "s = searchContext.query('query_string', query='process_command_line.keyword:*\\ \\/INJECTRUNNING\\ *')\n",
    "response = s.execute()\n",
    "if response.success():\n",
    "    df = pd.DataFrame((d.to_dict() for d in s.scan()))"
   ]
  },
  {
   "cell_type": "markdown",
   "metadata": {},
   "source": [
    "### Show Results"
   ]
  },
  {
   "cell_type": "code",
   "execution_count": null,
   "metadata": {},
   "outputs": [],
   "source": [
    "df.head()"
   ]
  }
 ],
 "metadata": {},
 "nbformat": 4,
 "nbformat_minor": 4
}
