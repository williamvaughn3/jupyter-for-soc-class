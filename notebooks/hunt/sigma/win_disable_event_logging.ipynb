{
 "cells": [
  {
   "cell_type": "markdown",
   "metadata": {},
   "source": [
    "# Disabling Windows Event Auditing\n",
    "Detects scenarios where system auditing (ie: windows event log auditing) is disabled. This may be used in a scenario where an entity would want to bypass local logging to evade detection when windows event logging is enabled and reviewed. Also, it is recommended to turn off \"Local Group Policy Object Processing\" via GPO, which will make sure that Active Directory GPOs take precedence over local/edited computer policies via something such as \"gpedit.msc\". Please note, that disabling \"Local Group Policy Object Processing\" may cause an issue in scenarios of one off specific GPO modifications -- however it is recommended to perform these modifications in Active Directory anyways."
   ]
  },
  {
   "cell_type": "markdown",
   "metadata": {},
   "source": [
    "## Rule Content\n",
    "```\n",
    "- title: Disabling Windows Event Auditing\n",
    "  id: 69aeb277-f15f-4d2d-b32a-55e883609563\n",
    "  description: 'Detects scenarios where system auditing (ie: windows event log auditing)\n",
    "    is disabled. This may be used in a scenario where an entity would want to bypass\n",
    "    local logging to evade detection when windows event logging is enabled and reviewed.\n",
    "    Also, it is recommended to turn off \"Local Group Policy Object Processing\" via\n",
    "    GPO, which will make sure that Active Directory GPOs take precedence over local/edited\n",
    "    computer policies via something such as \"gpedit.msc\". Please note, that disabling\n",
    "    \"Local Group Policy Object Processing\" may cause an issue in scenarios of one\n",
    "    off specific GPO modifications -- however it is recommended to perform these modifications\n",
    "    in Active Directory anyways.'\n",
    "  references:\n",
    "  - https://bit.ly/WinLogsZero2Hero\n",
    "  tags:\n",
    "  - attack.defense_evasion\n",
    "  - attack.t1054\n",
    "  author: '@neu5ron'\n",
    "  logsource:\n",
    "    product: windows\n",
    "    service: security\n",
    "    definition: 'Requirements: Audit Policy : Computer Management > Audit Policy Configuration,\n",
    "      Group Policy : Computer Configuration\\Windows Settings\\Security Settings\\Advanced\n",
    "      Audit Policy Configuration\\Audit Policies\\Policy Change\\Audit Authorization\n",
    "      Policy Change'\n",
    "    category: null\n",
    "  detection:\n",
    "    selection:\n",
    "      EventID: 4719\n",
    "      AuditPolicyChanges: removed\n",
    "    condition: selection\n",
    "  falsepositives:\n",
    "  - Unknown\n",
    "  level: high\n",
    "\n",
    "```"
   ]
  },
  {
   "cell_type": "markdown",
   "metadata": {},
   "source": [
    "## Querying Elasticsearch"
   ]
  },
  {
   "cell_type": "markdown",
   "metadata": {},
   "source": [
    "### Import Libraries"
   ]
  },
  {
   "cell_type": "code",
   "execution_count": null,
   "metadata": {},
   "outputs": [],
   "source": [
    "from elasticsearch import Elasticsearch\n",
    "from elasticsearch_dsl import Search\n",
    "import pandas as pd"
   ]
  },
  {
   "cell_type": "markdown",
   "metadata": {},
   "source": [
    "### Initialize Elasticsearch client"
   ]
  },
  {
   "cell_type": "code",
   "execution_count": null,
   "metadata": {},
   "outputs": [],
   "source": [
    "es = Elasticsearch([http://ip_here:9200/])\n",
    "searchContext = Search(using=es, index='logs-endpoint-winevent-security-*', doc_type='doc')"
   ]
  },
  {
   "cell_type": "markdown",
   "metadata": {},
   "source": [
    "### Run Elasticsearch Query"
   ]
  },
  {
   "cell_type": "code",
   "execution_count": null,
   "metadata": {},
   "outputs": [],
   "source": [
    "s = searchContext.query('query_string', query='(event_id:\"4719\" AND policy_changes:\"removed\")')\n",
    "response = s.execute()\n",
    "if response.success():\n",
    "    df = pd.DataFrame((d.to_dict() for d in s.scan()))"
   ]
  },
  {
   "cell_type": "markdown",
   "metadata": {},
   "source": [
    "### Show Results"
   ]
  },
  {
   "cell_type": "code",
   "execution_count": null,
   "metadata": {},
   "outputs": [],
   "source": [
    "df.head()"
   ]
  }
 ],
 "metadata": {},
 "nbformat": 4,
 "nbformat_minor": 4
}
