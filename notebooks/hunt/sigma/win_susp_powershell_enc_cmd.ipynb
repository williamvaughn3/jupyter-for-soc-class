{
 "cells": [
  {
   "cell_type": "markdown",
   "metadata": {},
   "source": [
    "# Suspicious Encoded PowerShell Command Line\n",
    "Detects suspicious powershell process starts with base64 encoded commands (e.g. Emotet)"
   ]
  },
  {
   "cell_type": "markdown",
   "metadata": {},
   "source": [
    "## Rule Content\n",
    "```\n",
    "- title: Suspicious Encoded PowerShell Command Line\n",
    "  id: ca2092a1-c273-4878-9b4b-0d60115bf5ea\n",
    "  description: Detects suspicious powershell process starts with base64 encoded commands\n",
    "    (e.g. Emotet)\n",
    "  status: experimental\n",
    "  references:\n",
    "  - https://app.any.run/tasks/6217d77d-3189-4db2-a957-8ab239f3e01e\n",
    "  author: Florian Roth, Markus Neis\n",
    "  date: 2018/09/03\n",
    "  modified: 2019/12/16\n",
    "  tags:\n",
    "  - attack.execution\n",
    "  - attack.t1086\n",
    "  logsource:\n",
    "    category: process_creation\n",
    "    product: windows\n",
    "    service: null\n",
    "  detection:\n",
    "    selection:\n",
    "      CommandLine:\n",
    "      - '* -e JAB*'\n",
    "      - '* -e  JAB*'\n",
    "      - '* -e   JAB*'\n",
    "      - '* -e    JAB*'\n",
    "      - '* -e     JAB*'\n",
    "      - '* -e      JAB*'\n",
    "      - '* -en JAB*'\n",
    "      - '* -enc JAB*'\n",
    "      - '* -enc* JAB*'\n",
    "      - '* -w hidden -e* JAB*'\n",
    "      - '* BA^J e-'\n",
    "      - '* -e SUVYI*'\n",
    "      - '* -e aWV4I*'\n",
    "      - '* -e SQBFAFgA*'\n",
    "      - '* -e aQBlAHgA*'\n",
    "      - '* -enc SUVYI*'\n",
    "      - '* -enc aWV4I*'\n",
    "      - '* -enc SQBFAFgA*'\n",
    "      - '* -enc aQBlAHgA*'\n",
    "    falsepositive1:\n",
    "      CommandLine: '* -ExecutionPolicy remotesigned *'\n",
    "    condition: selection and not falsepositive1\n",
    "  level: high\n",
    "\n",
    "```"
   ]
  },
  {
   "cell_type": "markdown",
   "metadata": {},
   "source": [
    "## Querying Elasticsearch"
   ]
  },
  {
   "cell_type": "markdown",
   "metadata": {},
   "source": [
    "### Import Libraries"
   ]
  },
  {
   "cell_type": "code",
   "execution_count": null,
   "metadata": {},
   "outputs": [],
   "source": [
    "from elasticsearch import Elasticsearch\n",
    "from elasticsearch_dsl import Search\n",
    "import pandas as pd"
   ]
  },
  {
   "cell_type": "markdown",
   "metadata": {},
   "source": [
    "### Initialize Elasticsearch client"
   ]
  },
  {
   "cell_type": "code",
   "execution_count": null,
   "metadata": {},
   "outputs": [],
   "source": [
    "es = Elasticsearch([http://ip_here:9200/])\n",
    "searchContext = Search(using=es, index='logs-*', doc_type='doc')"
   ]
  },
  {
   "cell_type": "markdown",
   "metadata": {},
   "source": [
    "### Run Elasticsearch Query"
   ]
  },
  {
   "cell_type": "code",
   "execution_count": null,
   "metadata": {},
   "outputs": [],
   "source": [
    "s = searchContext.query('query_string', query='(process_command_line.keyword:(*\\ \\-e\\ JAB* OR *\\ \\-e\\ \\ JAB* OR *\\ \\-e\\ \\ \\ JAB* OR *\\ \\-e\\ \\ \\ \\ JAB* OR *\\ \\-e\\ \\ \\ \\ \\ JAB* OR *\\ \\-e\\ \\ \\ \\ \\ \\ JAB* OR *\\ \\-en\\ JAB* OR *\\ \\-enc\\ JAB* OR *\\ \\-enc*\\ JAB* OR *\\ \\-w\\ hidden\\ \\-e*\\ JAB* OR *\\ BA\\^J\\ e\\- OR *\\ \\-e\\ SUVYI* OR *\\ \\-e\\ aWV4I* OR *\\ \\-e\\ SQBFAFgA* OR *\\ \\-e\\ aQBlAHgA* OR *\\ \\-enc\\ SUVYI* OR *\\ \\-enc\\ aWV4I* OR *\\ \\-enc\\ SQBFAFgA* OR *\\ \\-enc\\ aQBlAHgA*) AND (NOT (process_command_line.keyword:*\\ \\-ExecutionPolicy\\ remotesigned\\ *)))')\n",
    "response = s.execute()\n",
    "if response.success():\n",
    "    df = pd.DataFrame((d.to_dict() for d in s.scan()))"
   ]
  },
  {
   "cell_type": "markdown",
   "metadata": {},
   "source": [
    "### Show Results"
   ]
  },
  {
   "cell_type": "code",
   "execution_count": null,
   "metadata": {},
   "outputs": [],
   "source": [
    "df.head()"
   ]
  }
 ],
 "metadata": {},
 "nbformat": 4,
 "nbformat_minor": 4
}
