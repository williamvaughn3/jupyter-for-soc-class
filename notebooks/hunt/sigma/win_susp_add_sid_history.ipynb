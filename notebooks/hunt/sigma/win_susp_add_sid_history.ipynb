{
 "cells": [
  {
   "cell_type": "markdown",
   "metadata": {},
   "source": [
    "# Addition of SID History to Active Directory Object\n",
    "An attacker can use the SID history attribute to gain additional privileges."
   ]
  },
  {
   "cell_type": "markdown",
   "metadata": {},
   "source": [
    "## Rule Content\n",
    "```\n",
    "- title: Addition of SID History to Active Directory Object\n",
    "  id: 2632954e-db1c-49cb-9936-67d1ef1d17d2\n",
    "  status: stable\n",
    "  description: An attacker can use the SID history attribute to gain additional privileges.\n",
    "  references:\n",
    "  - https://adsecurity.org/?p=1772\n",
    "  author: Thomas Patzke, @atc_project (improvements)\n",
    "  tags:\n",
    "  - attack.persistence\n",
    "  - attack.privilege_escalation\n",
    "  - attack.t1178\n",
    "  logsource:\n",
    "    product: windows\n",
    "    service: security\n",
    "    category: null\n",
    "  detection:\n",
    "    selection1:\n",
    "      EventID:\n",
    "      - 4765\n",
    "      - 4766\n",
    "    selection2:\n",
    "      EventID: 4738\n",
    "    selection3:\n",
    "      SidHistory:\n",
    "      - '-'\n",
    "      - '%%1793'\n",
    "    condition: selection1 or (selection2 and not selection3)\n",
    "  falsepositives:\n",
    "  - Migration of an account into a new domain\n",
    "  level: medium\n",
    "\n",
    "```"
   ]
  },
  {
   "cell_type": "markdown",
   "metadata": {},
   "source": [
    "## Querying Elasticsearch"
   ]
  },
  {
   "cell_type": "markdown",
   "metadata": {},
   "source": [
    "### Import Libraries"
   ]
  },
  {
   "cell_type": "code",
   "execution_count": null,
   "metadata": {},
   "outputs": [],
   "source": [
    "from elasticsearch import Elasticsearch\n",
    "from elasticsearch_dsl import Search\n",
    "import pandas as pd"
   ]
  },
  {
   "cell_type": "markdown",
   "metadata": {},
   "source": [
    "### Initialize Elasticsearch client"
   ]
  },
  {
   "cell_type": "code",
   "execution_count": null,
   "metadata": {},
   "outputs": [],
   "source": [
    "es = Elasticsearch([http://ip_here:9200/])\n",
    "searchContext = Search(using=es, index='logs-endpoint-winevent-security-*', doc_type='doc')"
   ]
  },
  {
   "cell_type": "markdown",
   "metadata": {},
   "source": [
    "### Run Elasticsearch Query"
   ]
  },
  {
   "cell_type": "code",
   "execution_count": null,
   "metadata": {},
   "outputs": [],
   "source": [
    "s = searchContext.query('query_string', query='(event_id:(\"4765\" OR \"4766\") OR (event_id:\"4738\" AND (NOT (SidHistory:(\"\\-\" OR \"%%1793\")))))')\n",
    "response = s.execute()\n",
    "if response.success():\n",
    "    df = pd.DataFrame((d.to_dict() for d in s.scan()))"
   ]
  },
  {
   "cell_type": "markdown",
   "metadata": {},
   "source": [
    "### Show Results"
   ]
  },
  {
   "cell_type": "code",
   "execution_count": null,
   "metadata": {},
   "outputs": [],
   "source": [
    "df.head()"
   ]
  }
 ],
 "metadata": {},
 "nbformat": 4,
 "nbformat_minor": 4
}
