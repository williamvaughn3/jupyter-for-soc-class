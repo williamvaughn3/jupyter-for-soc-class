{
 "cells": [
  {
   "cell_type": "markdown",
   "metadata": {},
   "source": [
    "# Malicious PowerShell Keywords\n",
    "Detects keywords from well-known PowerShell exploitation frameworks"
   ]
  },
  {
   "cell_type": "markdown",
   "metadata": {},
   "source": [
    "## Rule Content\n",
    "```\n",
    "- title: Malicious PowerShell Keywords\n",
    "  id: f62176f3-8128-4faa-bf6c-83261322e5eb\n",
    "  status: experimental\n",
    "  description: Detects keywords from well-known PowerShell exploitation frameworks\n",
    "  modified: 2019/01/22\n",
    "  references:\n",
    "  - https://adsecurity.org/?p=2921\n",
    "  tags:\n",
    "  - attack.execution\n",
    "  - attack.t1086\n",
    "  author: Sean Metcalf (source), Florian Roth (rule)\n",
    "  logsource:\n",
    "    product: windows\n",
    "    service: powershell\n",
    "    definition: It is recommended to use the new \"Script Block Logging\" of PowerShell\n",
    "      v5 https://adsecurity.org/?p=2277\n",
    "    category: null\n",
    "  detection:\n",
    "    keywords:\n",
    "      Message:\n",
    "      - '*AdjustTokenPrivileges*'\n",
    "      - '*IMAGE_NT_OPTIONAL_HDR64_MAGIC*'\n",
    "      - '*Microsoft.Win32.UnsafeNativeMethods*'\n",
    "      - '*ReadProcessMemory.Invoke*'\n",
    "      - '*SE_PRIVILEGE_ENABLED*'\n",
    "      - '*LSA_UNICODE_STRING*'\n",
    "      - '*MiniDumpWriteDump*'\n",
    "      - '*PAGE_EXECUTE_READ*'\n",
    "      - '*SECURITY_DELEGATION*'\n",
    "      - '*TOKEN_ADJUST_PRIVILEGES*'\n",
    "      - '*TOKEN_ALL_ACCESS*'\n",
    "      - '*TOKEN_ASSIGN_PRIMARY*'\n",
    "      - '*TOKEN_DUPLICATE*'\n",
    "      - '*TOKEN_ELEVATION*'\n",
    "      - '*TOKEN_IMPERSONATE*'\n",
    "      - '*TOKEN_INFORMATION_CLASS*'\n",
    "      - '*TOKEN_PRIVILEGES*'\n",
    "      - '*TOKEN_QUERY*'\n",
    "      - '*Metasploit*'\n",
    "      - '*Mimikatz*'\n",
    "    condition: keywords\n",
    "  falsepositives:\n",
    "  - Penetration tests\n",
    "  level: high\n",
    "\n",
    "```"
   ]
  },
  {
   "cell_type": "markdown",
   "metadata": {},
   "source": [
    "## Querying Elasticsearch"
   ]
  },
  {
   "cell_type": "markdown",
   "metadata": {},
   "source": [
    "### Import Libraries"
   ]
  },
  {
   "cell_type": "code",
   "execution_count": null,
   "metadata": {},
   "outputs": [],
   "source": [
    "from elasticsearch import Elasticsearch\n",
    "from elasticsearch_dsl import Search\n",
    "import pandas as pd"
   ]
  },
  {
   "cell_type": "markdown",
   "metadata": {},
   "source": [
    "### Initialize Elasticsearch client"
   ]
  },
  {
   "cell_type": "code",
   "execution_count": null,
   "metadata": {},
   "outputs": [],
   "source": [
    "es = Elasticsearch([http://ip_here:9200/])\n",
    "searchContext = Search(using=es, index='logs-endpoint-winevent-powershell-*', doc_type='doc')"
   ]
  },
  {
   "cell_type": "markdown",
   "metadata": {},
   "source": [
    "### Run Elasticsearch Query"
   ]
  },
  {
   "cell_type": "code",
   "execution_count": null,
   "metadata": {},
   "outputs": [],
   "source": [
    "s = searchContext.query('query_string', query='Message.keyword:(*AdjustTokenPrivileges* OR *IMAGE_NT_OPTIONAL_HDR64_MAGIC* OR *Microsoft.Win32.UnsafeNativeMethods* OR *ReadProcessMemory.Invoke* OR *SE_PRIVILEGE_ENABLED* OR *LSA_UNICODE_STRING* OR *MiniDumpWriteDump* OR *PAGE_EXECUTE_READ* OR *SECURITY_DELEGATION* OR *TOKEN_ADJUST_PRIVILEGES* OR *TOKEN_ALL_ACCESS* OR *TOKEN_ASSIGN_PRIMARY* OR *TOKEN_DUPLICATE* OR *TOKEN_ELEVATION* OR *TOKEN_IMPERSONATE* OR *TOKEN_INFORMATION_CLASS* OR *TOKEN_PRIVILEGES* OR *TOKEN_QUERY* OR *Metasploit* OR *Mimikatz*)')\n",
    "response = s.execute()\n",
    "if response.success():\n",
    "    df = pd.DataFrame((d.to_dict() for d in s.scan()))"
   ]
  },
  {
   "cell_type": "markdown",
   "metadata": {},
   "source": [
    "### Show Results"
   ]
  },
  {
   "cell_type": "code",
   "execution_count": null,
   "metadata": {},
   "outputs": [],
   "source": [
    "df.head()"
   ]
  }
 ],
 "metadata": {},
 "nbformat": 4,
 "nbformat_minor": 4
}
