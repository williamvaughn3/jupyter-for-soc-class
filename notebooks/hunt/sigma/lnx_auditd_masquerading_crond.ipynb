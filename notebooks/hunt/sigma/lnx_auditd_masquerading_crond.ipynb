{
 "cells": [
  {
   "cell_type": "markdown",
   "metadata": {},
   "source": [
    "# Masquerading as Linux crond process\n",
    "Masquerading occurs when the name or location of an executable, legitimate or malicious, is manipulated or abused for the sake of evading defenses and observation. Several different variations of this technique have been observed."
   ]
  },
  {
   "cell_type": "markdown",
   "metadata": {},
   "source": [
    "## Rule Content\n",
    "```\n",
    "- title: Masquerading as Linux crond process\n",
    "  id: 9d4548fa-bba0-4e88-bd66-5d5bf516cda0\n",
    "  status: experimental\n",
    "  description: Masquerading occurs when the name or location of an executable, legitimate\n",
    "    or malicious, is manipulated or abused for the sake of evading defenses and observation.\n",
    "    Several different variations of this technique have been observed.\n",
    "  author: Timur Zinniatullin, oscd.community\n",
    "  date: 2019/10/21\n",
    "  references:\n",
    "  - https://github.com/redcanaryco/atomic-red-team/blob/master/atomics/T1036/T1036.yaml\n",
    "  logsource:\n",
    "    product: linux\n",
    "    service: auditd\n",
    "    category: null\n",
    "  detection:\n",
    "    selection:\n",
    "      type: execve\n",
    "      a0: cp\n",
    "      a1: -i\n",
    "      a2: /bin/sh\n",
    "      a3: '*/crond'\n",
    "    condition: selection\n",
    "  level: medium\n",
    "  tags:\n",
    "  - attack.defense_evasion\n",
    "  - attack.t1036\n",
    "\n",
    "```"
   ]
  },
  {
   "cell_type": "markdown",
   "metadata": {},
   "source": [
    "## Querying Elasticsearch"
   ]
  },
  {
   "cell_type": "markdown",
   "metadata": {},
   "source": [
    "### Import Libraries"
   ]
  },
  {
   "cell_type": "code",
   "execution_count": null,
   "metadata": {},
   "outputs": [],
   "source": [
    "from elasticsearch import Elasticsearch\n",
    "from elasticsearch_dsl import Search\n",
    "import pandas as pd"
   ]
  },
  {
   "cell_type": "markdown",
   "metadata": {},
   "source": [
    "### Initialize Elasticsearch client"
   ]
  },
  {
   "cell_type": "code",
   "execution_count": null,
   "metadata": {},
   "outputs": [],
   "source": [
    "es = Elasticsearch([http://ip_here:9200/])\n",
    "searchContext = Search(using=es, index='logs-*', doc_type='doc')"
   ]
  },
  {
   "cell_type": "markdown",
   "metadata": {},
   "source": [
    "### Run Elasticsearch Query"
   ]
  },
  {
   "cell_type": "code",
   "execution_count": null,
   "metadata": {},
   "outputs": [],
   "source": [
    "s = searchContext.query('query_string', query='(type:\"execve\" AND a0:\"cp\" AND a1:\"\\-i\" AND a2:\"\\/bin\\/sh\" AND a3.keyword:*\\/crond)')\n",
    "response = s.execute()\n",
    "if response.success():\n",
    "    df = pd.DataFrame((d.to_dict() for d in s.scan()))"
   ]
  },
  {
   "cell_type": "markdown",
   "metadata": {},
   "source": [
    "### Show Results"
   ]
  },
  {
   "cell_type": "code",
   "execution_count": null,
   "metadata": {},
   "outputs": [],
   "source": [
    "df.head()"
   ]
  }
 ],
 "metadata": {},
 "nbformat": 4,
 "nbformat_minor": 4
}
