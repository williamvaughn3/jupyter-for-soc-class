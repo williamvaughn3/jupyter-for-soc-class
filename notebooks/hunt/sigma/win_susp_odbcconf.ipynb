{
 "cells": [
  {
   "cell_type": "markdown",
   "metadata": {},
   "source": [
    "# Possible Application Whitelisting Bypass via dll loaded by odbcconf.exe\n",
    "Detects defence evasion attempt via odbcconf.exe execution to load DLL"
   ]
  },
  {
   "cell_type": "markdown",
   "metadata": {},
   "source": [
    "## Rule Content\n",
    "```\n",
    "- title: Possible Application Whitelisting Bypass via dll loaded by odbcconf.exe\n",
    "  id: 65d2be45-8600-4042-b4c0-577a1ff8a60e\n",
    "  description: Detects defence evasion attempt via odbcconf.exe execution to load\n",
    "    DLL\n",
    "  status: experimental\n",
    "  references:\n",
    "  - https://github.com/LOLBAS-Project/LOLBAS/blob/master/yml/OSBinaries/Odbcconf.yml\n",
    "  - https://twitter.com/Hexacorn/status/1187143326673330176\n",
    "  author: Kirill Kiryanov, Beyu Denis, Daniil Yugoslavskiy, oscd.community\n",
    "  date: 2019/10/25\n",
    "  modified: 2019/11/07\n",
    "  tags:\n",
    "  - attack.defense_evasion\n",
    "  - attack.execution\n",
    "  - attack.t1218\n",
    "  logsource:\n",
    "    category: process_creation\n",
    "    product: windows\n",
    "    service: null\n",
    "  detection:\n",
    "    selection_1:\n",
    "      Image|endswith: \\odbcconf.exe\n",
    "      CommandLine|contains:\n",
    "      - -f\n",
    "      - regsvr\n",
    "    selection_2:\n",
    "      ParentImage|endswith: \\odbcconf.exe\n",
    "      Image|endswith: \\rundll32.exe\n",
    "    condition: selection_1 or selection_2\n",
    "  level: medium\n",
    "  falsepositives:\n",
    "  - Legitimate use of odbcconf.exe by legitimate user\n",
    "\n",
    "```"
   ]
  },
  {
   "cell_type": "markdown",
   "metadata": {},
   "source": [
    "## Querying Elasticsearch"
   ]
  },
  {
   "cell_type": "markdown",
   "metadata": {},
   "source": [
    "### Import Libraries"
   ]
  },
  {
   "cell_type": "code",
   "execution_count": null,
   "metadata": {},
   "outputs": [],
   "source": [
    "from elasticsearch import Elasticsearch\n",
    "from elasticsearch_dsl import Search\n",
    "import pandas as pd"
   ]
  },
  {
   "cell_type": "markdown",
   "metadata": {},
   "source": [
    "### Initialize Elasticsearch client"
   ]
  },
  {
   "cell_type": "code",
   "execution_count": null,
   "metadata": {},
   "outputs": [],
   "source": [
    "es = Elasticsearch([http://ip_here:9200/])\n",
    "searchContext = Search(using=es, index='logs-*', doc_type='doc')"
   ]
  },
  {
   "cell_type": "markdown",
   "metadata": {},
   "source": [
    "### Run Elasticsearch Query"
   ]
  },
  {
   "cell_type": "code",
   "execution_count": null,
   "metadata": {},
   "outputs": [],
   "source": [
    "s = searchContext.query('query_string', query='((process_path.keyword:*\\\\odbcconf.exe AND process_command_line.keyword:(*\\-f* OR *regsvr*)) OR (process_parent_path.keyword:*\\\\odbcconf.exe AND process_path.keyword:*\\\\rundll32.exe))')\n",
    "response = s.execute()\n",
    "if response.success():\n",
    "    df = pd.DataFrame((d.to_dict() for d in s.scan()))"
   ]
  },
  {
   "cell_type": "markdown",
   "metadata": {},
   "source": [
    "### Show Results"
   ]
  },
  {
   "cell_type": "code",
   "execution_count": null,
   "metadata": {},
   "outputs": [],
   "source": [
    "df.head()"
   ]
  }
 ],
 "metadata": {},
 "nbformat": 4,
 "nbformat_minor": 4
}
