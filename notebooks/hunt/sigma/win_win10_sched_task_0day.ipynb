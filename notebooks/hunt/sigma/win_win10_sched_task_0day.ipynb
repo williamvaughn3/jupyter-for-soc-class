{
 "cells": [
  {
   "cell_type": "markdown",
   "metadata": {},
   "source": [
    "# Windows 10 scheduled task SandboxEscaper 0-day\n",
    "Detects Task Scheduler .job import arbitrary DACL write\\par"
   ]
  },
  {
   "cell_type": "markdown",
   "metadata": {},
   "source": [
    "## Rule Content\n",
    "```\n",
    "- title: Windows 10 scheduled task SandboxEscaper 0-day\n",
    "  id: 931b6802-d6a6-4267-9ffa-526f57f22aaf\n",
    "  status: experimental\n",
    "  description: Detects Task Scheduler .job import arbitrary DACL write\\par\n",
    "  references:\n",
    "  - https://github.com/SandboxEscaper/polarbearrepo/tree/master/bearlpe\n",
    "  author: Olaf Hartong\n",
    "  date: 2019/05/22\n",
    "  logsource:\n",
    "    category: process_creation\n",
    "    product: windows\n",
    "    service: null\n",
    "  detection:\n",
    "    selection:\n",
    "      Image: schtasks.exe\n",
    "      CommandLine: '*/change*/TN*/RU*/RP*'\n",
    "    condition: selection\n",
    "  falsepositives:\n",
    "  - Unknown\n",
    "  tags:\n",
    "  - attack.privilege_escalation\n",
    "  - attack.execution\n",
    "  - attack.t1053\n",
    "  - car.2013-08-001\n",
    "  level: high\n",
    "\n",
    "```"
   ]
  },
  {
   "cell_type": "markdown",
   "metadata": {},
   "source": [
    "## Querying Elasticsearch"
   ]
  },
  {
   "cell_type": "markdown",
   "metadata": {},
   "source": [
    "### Import Libraries"
   ]
  },
  {
   "cell_type": "code",
   "execution_count": null,
   "metadata": {},
   "outputs": [],
   "source": [
    "from elasticsearch import Elasticsearch\n",
    "from elasticsearch_dsl import Search\n",
    "import pandas as pd"
   ]
  },
  {
   "cell_type": "markdown",
   "metadata": {},
   "source": [
    "### Initialize Elasticsearch client"
   ]
  },
  {
   "cell_type": "code",
   "execution_count": null,
   "metadata": {},
   "outputs": [],
   "source": [
    "es = Elasticsearch([http://ip_here:9200/])\n",
    "searchContext = Search(using=es, index='logs-*', doc_type='doc')"
   ]
  },
  {
   "cell_type": "markdown",
   "metadata": {},
   "source": [
    "### Run Elasticsearch Query"
   ]
  },
  {
   "cell_type": "code",
   "execution_count": null,
   "metadata": {},
   "outputs": [],
   "source": [
    "s = searchContext.query('query_string', query='(process_path:\"schtasks.exe\" AND process_command_line.keyword:*\\/change*\\/TN*\\/RU*\\/RP*)')\n",
    "response = s.execute()\n",
    "if response.success():\n",
    "    df = pd.DataFrame((d.to_dict() for d in s.scan()))"
   ]
  },
  {
   "cell_type": "markdown",
   "metadata": {},
   "source": [
    "### Show Results"
   ]
  },
  {
   "cell_type": "code",
   "execution_count": null,
   "metadata": {},
   "outputs": [],
   "source": [
    "df.head()"
   ]
  }
 ],
 "metadata": {},
 "nbformat": 4,
 "nbformat_minor": 4
}
