{
 "cells": [
  {
   "cell_type": "markdown",
   "metadata": {},
   "source": [
    "# Hiding files with attrib.exe\n",
    "Detects usage of attrib.exe to hide files from users."
   ]
  },
  {
   "cell_type": "markdown",
   "metadata": {},
   "source": [
    "## Rule Content\n",
    "```\n",
    "- title: Hiding files with attrib.exe\n",
    "  id: 4281cb20-2994-4580-aa63-c8b86d019934\n",
    "  status: experimental\n",
    "  description: Detects usage of attrib.exe to hide files from users.\n",
    "  author: Sami Ruohonen\n",
    "  logsource:\n",
    "    category: process_creation\n",
    "    product: windows\n",
    "    service: null\n",
    "  detection:\n",
    "    selection:\n",
    "      Image: '*\\attrib.exe'\n",
    "      CommandLine: '* +h *'\n",
    "    ini:\n",
    "      CommandLine: '*\\desktop.ini *'\n",
    "    intel:\n",
    "      ParentImage: '*\\cmd.exe'\n",
    "      CommandLine: +R +H +S +A \\\\*.cui\n",
    "      ParentCommandLine: C:\\WINDOWS\\system32\\\\*.bat\n",
    "    condition: selection and not (ini or intel)\n",
    "  fields:\n",
    "  - CommandLine\n",
    "  - ParentCommandLine\n",
    "  - User\n",
    "  tags:\n",
    "  - attack.defense_evasion\n",
    "  - attack.persistence\n",
    "  - attack.t1158\n",
    "  falsepositives:\n",
    "  - igfxCUIService.exe hiding *.cui files via .bat script (attrib.exe a child of cmd.exe\n",
    "    and igfxCUIService.exe is the parent of the cmd.exe)\n",
    "  - msiexec.exe hiding desktop.ini\n",
    "  level: low\n",
    "\n",
    "```"
   ]
  },
  {
   "cell_type": "markdown",
   "metadata": {},
   "source": [
    "## Querying Elasticsearch"
   ]
  },
  {
   "cell_type": "markdown",
   "metadata": {},
   "source": [
    "### Import Libraries"
   ]
  },
  {
   "cell_type": "code",
   "execution_count": null,
   "metadata": {},
   "outputs": [],
   "source": [
    "from elasticsearch import Elasticsearch\n",
    "from elasticsearch_dsl import Search\n",
    "import pandas as pd"
   ]
  },
  {
   "cell_type": "markdown",
   "metadata": {},
   "source": [
    "### Initialize Elasticsearch client"
   ]
  },
  {
   "cell_type": "code",
   "execution_count": null,
   "metadata": {},
   "outputs": [],
   "source": [
    "es = Elasticsearch([http://ip_here:9200/])\n",
    "searchContext = Search(using=es, index='logs-*', doc_type='doc')"
   ]
  },
  {
   "cell_type": "markdown",
   "metadata": {},
   "source": [
    "### Run Elasticsearch Query"
   ]
  },
  {
   "cell_type": "code",
   "execution_count": null,
   "metadata": {},
   "outputs": [],
   "source": [
    "s = searchContext.query('query_string', query='((process_path.keyword:*\\\\attrib.exe AND process_command_line.keyword:*\\ \\+h\\ *) AND (NOT ((process_command_line.keyword:*\\\\desktop.ini\\ * OR (process_parent_path.keyword:*\\\\cmd.exe AND process_command_line.keyword:\\+R\\ \\+H\\ \\+S\\ \\+A\\ \\\\*.cui AND process_parent_command_line.keyword:C\\:\\\\WINDOWS\\\\system32\\\\*.bat)))))')\n",
    "response = s.execute()\n",
    "if response.success():\n",
    "    df = pd.DataFrame((d.to_dict() for d in s.scan()))"
   ]
  },
  {
   "cell_type": "markdown",
   "metadata": {},
   "source": [
    "### Show Results"
   ]
  },
  {
   "cell_type": "code",
   "execution_count": null,
   "metadata": {},
   "outputs": [],
   "source": [
    "df.head()"
   ]
  }
 ],
 "metadata": {},
 "nbformat": 4,
 "nbformat_minor": 4
}
