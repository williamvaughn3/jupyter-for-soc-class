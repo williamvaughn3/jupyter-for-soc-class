{
 "cells": [
  {
   "cell_type": "markdown",
   "metadata": {},
   "source": [
    "# Process dump via comsvcs DLL\n",
    "Detects process memory dump via comsvcs.dll and rundll32"
   ]
  },
  {
   "cell_type": "markdown",
   "metadata": {},
   "source": [
    "## Rule Content\n",
    "```\n",
    "- title: Process dump via comsvcs DLL\n",
    "  id: 09e6d5c0-05b8-4ff8-9eeb-043046ec774c\n",
    "  status: experimental\n",
    "  description: Detects process memory dump via comsvcs.dll and rundll32\n",
    "  references:\n",
    "  - https://modexp.wordpress.com/2019/08/30/minidumpwritedump-via-com-services-dll/\n",
    "  - https://twitter.com/SBousseaden/status/1167417096374050817\n",
    "  author: Modexp (idea)\n",
    "  date: 2019/09/02\n",
    "  logsource:\n",
    "    category: process_creation\n",
    "    product: windows\n",
    "    service: null\n",
    "  detection:\n",
    "    rundll_image:\n",
    "      Image: '*\\rundll32.exe'\n",
    "    rundll_ofn:\n",
    "      OriginalFileName: RUNDLL32.EXE\n",
    "    selection:\n",
    "      CommandLine:\n",
    "      - '*comsvcs*MiniDump*full*'\n",
    "      - '*comsvcs*MiniDumpW*full*'\n",
    "    condition: (rundll_image or rundll_ofn) and selection\n",
    "  fields:\n",
    "  - CommandLine\n",
    "  - ParentCommandLine\n",
    "  tags:\n",
    "  - attack.credential_access\n",
    "  - attack.t1003\n",
    "  falsepositives:\n",
    "  - unknown\n",
    "  level: medium\n",
    "\n",
    "```"
   ]
  },
  {
   "cell_type": "markdown",
   "metadata": {},
   "source": [
    "## Querying Elasticsearch"
   ]
  },
  {
   "cell_type": "markdown",
   "metadata": {},
   "source": [
    "### Import Libraries"
   ]
  },
  {
   "cell_type": "code",
   "execution_count": null,
   "metadata": {},
   "outputs": [],
   "source": [
    "from elasticsearch import Elasticsearch\n",
    "from elasticsearch_dsl import Search\n",
    "import pandas as pd"
   ]
  },
  {
   "cell_type": "markdown",
   "metadata": {},
   "source": [
    "### Initialize Elasticsearch client"
   ]
  },
  {
   "cell_type": "code",
   "execution_count": null,
   "metadata": {},
   "outputs": [],
   "source": [
    "es = Elasticsearch([http://ip_here:9200/])\n",
    "searchContext = Search(using=es, index='logs-*', doc_type='doc')"
   ]
  },
  {
   "cell_type": "markdown",
   "metadata": {},
   "source": [
    "### Run Elasticsearch Query"
   ]
  },
  {
   "cell_type": "code",
   "execution_count": null,
   "metadata": {},
   "outputs": [],
   "source": [
    "s = searchContext.query('query_string', query='((process_path.keyword:*\\\\rundll32.exe OR file_name_original:\"RUNDLL32.EXE\") AND process_command_line.keyword:(*comsvcs*MiniDump*full* OR *comsvcs*MiniDumpW*full*))')\n",
    "response = s.execute()\n",
    "if response.success():\n",
    "    df = pd.DataFrame((d.to_dict() for d in s.scan()))"
   ]
  },
  {
   "cell_type": "markdown",
   "metadata": {},
   "source": [
    "### Show Results"
   ]
  },
  {
   "cell_type": "code",
   "execution_count": null,
   "metadata": {},
   "outputs": [],
   "source": [
    "df.head()"
   ]
  }
 ],
 "metadata": {},
 "nbformat": 4,
 "nbformat_minor": 4
}
