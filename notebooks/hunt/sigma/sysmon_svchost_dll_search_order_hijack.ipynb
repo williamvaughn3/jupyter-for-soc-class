{
 "cells": [
  {
   "cell_type": "markdown",
   "metadata": {},
   "source": [
    "# Svchost DLL Search Order Hijack\n",
    "IKEEXT and SessionEnv service, as they call LoadLibrary on files that do not exist within C:\\Windows\\System32\\ by default. An attacker can place their malicious logic within the PROCESS_ATTACH block of their library and restart the aforementioned services \"svchost.exe -k netsvcs\" to gain code execution on a remote machine."
   ]
  },
  {
   "cell_type": "markdown",
   "metadata": {},
   "source": [
    "## Rule Content\n",
    "```\n",
    "- title: Svchost DLL Search Order Hijack\n",
    "  id: 602a1f13-c640-4d73-b053-be9a2fa58b77\n",
    "  status: experimental\n",
    "  description: IKEEXT and SessionEnv service, as they call LoadLibrary on files that\n",
    "    do not exist within C:\\Windows\\System32\\ by default. An attacker can place their\n",
    "    malicious logic within the PROCESS_ATTACH block of their library and restart the\n",
    "    aforementioned services \"svchost.exe -k netsvcs\" to gain code execution on a remote\n",
    "    machine.\n",
    "  references:\n",
    "  - https://posts.specterops.io/lateral-movement-scm-and-dll-hijacking-primer-d2f61e8ab992\n",
    "  author: SBousseaden\n",
    "  date: 2019/10/28\n",
    "  tags:\n",
    "  - attack.persistence\n",
    "  - attack.defense_evasion\n",
    "  - attack.t1073\n",
    "  - attack.t1038\n",
    "  - attack.t1112\n",
    "  logsource:\n",
    "    product: windows\n",
    "    service: sysmon\n",
    "    category: null\n",
    "  detection:\n",
    "    selection:\n",
    "      EventID: 7\n",
    "      Image:\n",
    "      - '*\\svchost.exe'\n",
    "      ImageLoaded:\n",
    "      - '*\\tsmsisrv.dll'\n",
    "      - '*\\tsvipsrv.dll'\n",
    "      - '*\\wlbsctrl.dll'\n",
    "    filter:\n",
    "      EventID: 7\n",
    "      Image:\n",
    "      - '*\\svchost.exe'\n",
    "      ImageLoaded:\n",
    "      - C:\\Windows\\WinSxS\\*\n",
    "    condition: selection and not filter\n",
    "  falsepositives:\n",
    "  - Pentest\n",
    "  level: high\n",
    "\n",
    "```"
   ]
  },
  {
   "cell_type": "markdown",
   "metadata": {},
   "source": [
    "## Querying Elasticsearch"
   ]
  },
  {
   "cell_type": "markdown",
   "metadata": {},
   "source": [
    "### Import Libraries"
   ]
  },
  {
   "cell_type": "code",
   "execution_count": null,
   "metadata": {},
   "outputs": [],
   "source": [
    "from elasticsearch import Elasticsearch\n",
    "from elasticsearch_dsl import Search\n",
    "import pandas as pd"
   ]
  },
  {
   "cell_type": "markdown",
   "metadata": {},
   "source": [
    "### Initialize Elasticsearch client"
   ]
  },
  {
   "cell_type": "code",
   "execution_count": null,
   "metadata": {},
   "outputs": [],
   "source": [
    "es = Elasticsearch([http://ip_here:9200/])\n",
    "searchContext = Search(using=es, index='logs-endpoint-winevent-sysmon-*', doc_type='doc')"
   ]
  },
  {
   "cell_type": "markdown",
   "metadata": {},
   "source": [
    "### Run Elasticsearch Query"
   ]
  },
  {
   "cell_type": "code",
   "execution_count": null,
   "metadata": {},
   "outputs": [],
   "source": [
    "s = searchContext.query('query_string', query='((event_id:\"7\" AND process_path.keyword:(*\\\\svchost.exe) AND module_loaded.keyword:(*\\\\tsmsisrv.dll OR *\\\\tsvipsrv.dll OR *\\\\wlbsctrl.dll)) AND (NOT (event_id:\"7\" AND process_path.keyword:(*\\\\svchost.exe) AND module_loaded:(\"C\\:\\\\Windows\\\\WinSxS\\*\"))))')\n",
    "response = s.execute()\n",
    "if response.success():\n",
    "    df = pd.DataFrame((d.to_dict() for d in s.scan()))"
   ]
  },
  {
   "cell_type": "markdown",
   "metadata": {},
   "source": [
    "### Show Results"
   ]
  },
  {
   "cell_type": "code",
   "execution_count": null,
   "metadata": {},
   "outputs": [],
   "source": [
    "df.head()"
   ]
  }
 ],
 "metadata": {},
 "nbformat": 4,
 "nbformat_minor": 4
}
