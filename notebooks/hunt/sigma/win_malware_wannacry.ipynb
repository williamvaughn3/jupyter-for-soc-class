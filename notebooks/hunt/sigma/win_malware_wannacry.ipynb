{
 "cells": [
  {
   "cell_type": "markdown",
   "metadata": {},
   "source": [
    "# WannaCry Ransomware\n",
    "Detects WannaCry ransomware activity"
   ]
  },
  {
   "cell_type": "markdown",
   "metadata": {},
   "source": [
    "## Rule Content\n",
    "```\n",
    "- title: WannaCry Ransomware\n",
    "  id: 41d40bff-377a-43e2-8e1b-2e543069e079\n",
    "  status: experimental\n",
    "  description: Detects WannaCry ransomware activity\n",
    "  references:\n",
    "  - https://www.hybrid-analysis.com/sample/ed01ebfbc9eb5bbea545af4d01bf5f1071661840480439c6e5babe8e080e41aa?environmentId=100\n",
    "  author: Florian Roth (rule), Tom U. @c_APT_ure (collection)\n",
    "  logsource:\n",
    "    category: process_creation\n",
    "    product: windows\n",
    "    service: null\n",
    "  detection:\n",
    "    selection1:\n",
    "      Image:\n",
    "      - '*\\tasksche.exe'\n",
    "      - '*\\mssecsvc.exe'\n",
    "      - '*\\taskdl.exe'\n",
    "      - '*\\@WanaDecryptor@*'\n",
    "      - '*\\WanaDecryptor*'\n",
    "      - '*\\taskhsvc.exe'\n",
    "      - '*\\taskse.exe'\n",
    "      - '*\\111.exe'\n",
    "      - '*\\lhdfrgui.exe'\n",
    "      - '*\\diskpart.exe'\n",
    "      - '*\\linuxnew.exe'\n",
    "      - '*\\wannacry.exe'\n",
    "    selection2:\n",
    "      CommandLine:\n",
    "      - '*icacls * /grant Everyone:F /T /C /Q*'\n",
    "      - '*bcdedit /set {default} recoveryenabled no*'\n",
    "      - '*wbadmin delete catalog -quiet*'\n",
    "      - '*@Please_Read_Me@.txt*'\n",
    "    condition: 1 of them\n",
    "  fields:\n",
    "  - CommandLine\n",
    "  - ParentCommandLine\n",
    "  falsepositives:\n",
    "  - Diskpart.exe usage to manage partitions on the local hard drive\n",
    "  level: critical\n",
    "\n",
    "```"
   ]
  },
  {
   "cell_type": "markdown",
   "metadata": {},
   "source": [
    "## Querying Elasticsearch"
   ]
  },
  {
   "cell_type": "markdown",
   "metadata": {},
   "source": [
    "### Import Libraries"
   ]
  },
  {
   "cell_type": "code",
   "execution_count": null,
   "metadata": {},
   "outputs": [],
   "source": [
    "from elasticsearch import Elasticsearch\n",
    "from elasticsearch_dsl import Search\n",
    "import pandas as pd"
   ]
  },
  {
   "cell_type": "markdown",
   "metadata": {},
   "source": [
    "### Initialize Elasticsearch client"
   ]
  },
  {
   "cell_type": "code",
   "execution_count": null,
   "metadata": {},
   "outputs": [],
   "source": [
    "es = Elasticsearch([http://ip_here:9200/])\n",
    "searchContext = Search(using=es, index='logs-*', doc_type='doc')"
   ]
  },
  {
   "cell_type": "markdown",
   "metadata": {},
   "source": [
    "### Run Elasticsearch Query"
   ]
  },
  {
   "cell_type": "code",
   "execution_count": null,
   "metadata": {},
   "outputs": [],
   "source": [
    "s = searchContext.query('query_string', query='(process_path.keyword:(*\\\\tasksche.exe OR *\\\\mssecsvc.exe OR *\\\\taskdl.exe OR *\\\\@WanaDecryptor@* OR *\\\\WanaDecryptor* OR *\\\\taskhsvc.exe OR *\\\\taskse.exe OR *\\\\111.exe OR *\\\\lhdfrgui.exe OR *\\\\diskpart.exe OR *\\\\linuxnew.exe OR *\\\\wannacry.exe) OR process_command_line.keyword:(*icacls\\ *\\ \\/grant\\ Everyone\\:F\\ \\/T\\ \\/C\\ \\/Q* OR *bcdedit\\ \\/set\\ \\{default\\}\\ recoveryenabled\\ no* OR *wbadmin\\ delete\\ catalog\\ \\-quiet* OR *@Please_Read_Me@.txt*))')\n",
    "response = s.execute()\n",
    "if response.success():\n",
    "    df = pd.DataFrame((d.to_dict() for d in s.scan()))"
   ]
  },
  {
   "cell_type": "markdown",
   "metadata": {},
   "source": [
    "### Show Results"
   ]
  },
  {
   "cell_type": "code",
   "execution_count": null,
   "metadata": {},
   "outputs": [],
   "source": [
    "df.head()"
   ]
  }
 ],
 "metadata": {},
 "nbformat": 4,
 "nbformat_minor": 4
}
