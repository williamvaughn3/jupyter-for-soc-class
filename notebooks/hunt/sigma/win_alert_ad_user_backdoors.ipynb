{
 "cells": [
  {
   "cell_type": "markdown",
   "metadata": {},
   "source": [
    "# Active Directory User Backdoors\n",
    "Detects scenarios where one can control another users or computers account without having to use their credentials."
   ]
  },
  {
   "cell_type": "markdown",
   "metadata": {},
   "source": [
    "## Rule Content\n",
    "```\n",
    "- title: Active Directory User Backdoors\n",
    "  id: 300bac00-e041-4ee2-9c36-e262656a6ecc\n",
    "  description: Detects scenarios where one can control another users or computers\n",
    "    account without having to use their credentials.\n",
    "  references:\n",
    "  - https://msdn.microsoft.com/en-us/library/cc220234.aspx\n",
    "  - https://adsecurity.org/?p=3466\n",
    "  - https://www.harmj0y.net/blog/redteaming/another-word-on-delegation/\n",
    "  author: '@neu5ron'\n",
    "  tags:\n",
    "  - attack.t1098\n",
    "  - attack.credential_access\n",
    "  - attack.persistence\n",
    "  logsource:\n",
    "    product: windows\n",
    "    service: security\n",
    "    definition1: 'Requirements: Audit Policy : Account Management > Audit User Account\n",
    "      Management, Group Policy : Computer Configuration\\Windows Settings\\Security\n",
    "      Settings\\Advanced Audit Policy Configuration\\Audit Policies\\Account Management\\Audit\n",
    "      User Account Management'\n",
    "    definition2: 'Requirements: Audit Policy : DS Access > Audit Directory Service\n",
    "      Changes, Group Policy : Computer Configuration\\Windows Settings\\Security Settings\\Advanced\n",
    "      Audit Policy Configuration\\Audit Policies\\DS Access\\Audit Directory Service\n",
    "      Changes'\n",
    "    category: null\n",
    "  detection:\n",
    "    selection1:\n",
    "      EventID: 4738\n",
    "    filter1:\n",
    "      AllowedToDelegateTo: null\n",
    "    filter2:\n",
    "      AllowedToDelegateTo: '-'\n",
    "    selection2:\n",
    "      EventID: 5136\n",
    "      AttributeLDAPDisplayName: msDS-AllowedToDelegateTo\n",
    "    selection3:\n",
    "      EventID: 5136\n",
    "      ObjectClass: user\n",
    "      AttributeLDAPDisplayName: servicePrincipalName\n",
    "    selection4:\n",
    "      EventID: 5136\n",
    "      AttributeLDAPDisplayName: msDS-AllowedToActOnBehalfOfOtherIdentity\n",
    "    condition: (selection1 and not 1 of filter*) or selection2 or selection3 or selection4\n",
    "  falsepositives:\n",
    "  - Unknown\n",
    "  level: high\n",
    "\n",
    "```"
   ]
  },
  {
   "cell_type": "markdown",
   "metadata": {},
   "source": [
    "## Querying Elasticsearch"
   ]
  },
  {
   "cell_type": "markdown",
   "metadata": {},
   "source": [
    "### Import Libraries"
   ]
  },
  {
   "cell_type": "code",
   "execution_count": null,
   "metadata": {},
   "outputs": [],
   "source": [
    "from elasticsearch import Elasticsearch\n",
    "from elasticsearch_dsl import Search\n",
    "import pandas as pd"
   ]
  },
  {
   "cell_type": "markdown",
   "metadata": {},
   "source": [
    "### Initialize Elasticsearch client"
   ]
  },
  {
   "cell_type": "code",
   "execution_count": null,
   "metadata": {},
   "outputs": [],
   "source": [
    "es = Elasticsearch([http://ip_here:9200/])\n",
    "searchContext = Search(using=es, index='logs-endpoint-winevent-security-*', doc_type='doc')"
   ]
  },
  {
   "cell_type": "markdown",
   "metadata": {},
   "source": [
    "### Run Elasticsearch Query"
   ]
  },
  {
   "cell_type": "code",
   "execution_count": null,
   "metadata": {},
   "outputs": [],
   "source": [
    "s = searchContext.query('query_string', query='((((event_id:\"4738\" AND (NOT ((NOT _exists_:user_attribute_allowed_todelegate) OR (user_attribute_allowed_todelegate:\"\\-\")))) OR (event_id:\"5136\" AND dsobject_attribute_name:\"msDS\\-AllowedToDelegateTo\")) OR (event_id:\"5136\" AND dsobject_class:\"user\" AND dsobject_attribute_name:\"servicePrincipalName\")) OR (event_id:\"5136\" AND dsobject_attribute_name:\"msDS\\-AllowedToActOnBehalfOfOtherIdentity\"))')\n",
    "response = s.execute()\n",
    "if response.success():\n",
    "    df = pd.DataFrame((d.to_dict() for d in s.scan()))"
   ]
  },
  {
   "cell_type": "markdown",
   "metadata": {},
   "source": [
    "### Show Results"
   ]
  },
  {
   "cell_type": "code",
   "execution_count": null,
   "metadata": {},
   "outputs": [],
   "source": [
    "df.head()"
   ]
  }
 ],
 "metadata": {},
 "nbformat": 4,
 "nbformat_minor": 4
}
