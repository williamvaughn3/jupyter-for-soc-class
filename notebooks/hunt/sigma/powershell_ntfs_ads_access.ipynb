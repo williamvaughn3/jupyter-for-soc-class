{
 "cells": [
  {
   "cell_type": "markdown",
   "metadata": {},
   "source": [
    "# NTFS Alternate Data Stream\n",
    "Detects writing data into NTFS alternate data streams from powershell. Needs Script Block Logging."
   ]
  },
  {
   "cell_type": "markdown",
   "metadata": {},
   "source": [
    "## Rule Content\n",
    "```\n",
    "- title: NTFS Alternate Data Stream\n",
    "  id: 8c521530-5169-495d-a199-0a3a881ad24e\n",
    "  status: experimental\n",
    "  description: Detects writing data into NTFS alternate data streams from powershell.\n",
    "    Needs Script Block Logging.\n",
    "  references:\n",
    "  - http://www.powertheshell.com/ntfsstreams/\n",
    "  tags:\n",
    "  - attack.defense_evasion\n",
    "  - attack.t1096\n",
    "  author: Sami Ruohonen\n",
    "  logsource:\n",
    "    product: windows\n",
    "    service: powershell\n",
    "    definition: It is recommended to use the new \"Script Block Logging\" of PowerShell\n",
    "      v5 https://adsecurity.org/?p=2277\n",
    "    category: null\n",
    "  detection:\n",
    "    keyword1:\n",
    "    - set-content\n",
    "    keyword2:\n",
    "    - -stream\n",
    "    condition: keyword1 and keyword2\n",
    "  falsepositives:\n",
    "  - unknown\n",
    "  level: high\n",
    "\n",
    "```"
   ]
  },
  {
   "cell_type": "markdown",
   "metadata": {},
   "source": [
    "## Querying Elasticsearch"
   ]
  },
  {
   "cell_type": "markdown",
   "metadata": {},
   "source": [
    "### Import Libraries"
   ]
  },
  {
   "cell_type": "code",
   "execution_count": null,
   "metadata": {},
   "outputs": [],
   "source": [
    "from elasticsearch import Elasticsearch\n",
    "from elasticsearch_dsl import Search\n",
    "import pandas as pd"
   ]
  },
  {
   "cell_type": "markdown",
   "metadata": {},
   "source": [
    "### Initialize Elasticsearch client"
   ]
  },
  {
   "cell_type": "code",
   "execution_count": null,
   "metadata": {},
   "outputs": [],
   "source": [
    "es = Elasticsearch([http://ip_here:9200/])\n",
    "searchContext = Search(using=es, index='logs-endpoint-winevent-powershell-*', doc_type='doc')"
   ]
  },
  {
   "cell_type": "markdown",
   "metadata": {},
   "source": [
    "### Run Elasticsearch Query"
   ]
  },
  {
   "cell_type": "code",
   "execution_count": null,
   "metadata": {},
   "outputs": [],
   "source": [
    "s = searchContext.query('query_string', query='\\*.keyword:(*set\\-content* AND *\\-stream*)')\n",
    "response = s.execute()\n",
    "if response.success():\n",
    "    df = pd.DataFrame((d.to_dict() for d in s.scan()))"
   ]
  },
  {
   "cell_type": "markdown",
   "metadata": {},
   "source": [
    "### Show Results"
   ]
  },
  {
   "cell_type": "code",
   "execution_count": null,
   "metadata": {},
   "outputs": [],
   "source": [
    "df.head()"
   ]
  }
 ],
 "metadata": {},
 "nbformat": 4,
 "nbformat_minor": 4
}
