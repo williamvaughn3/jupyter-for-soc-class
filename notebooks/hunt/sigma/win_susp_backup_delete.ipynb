{
 "cells": [
  {
   "cell_type": "markdown",
   "metadata": {},
   "source": [
    "# Backup Catalog Deleted\n",
    "Detects backup catalog deletions"
   ]
  },
  {
   "cell_type": "markdown",
   "metadata": {},
   "source": [
    "## Rule Content\n",
    "```\n",
    "- title: Backup Catalog Deleted\n",
    "  id: 9703792d-fd9a-456d-a672-ff92efe4806a\n",
    "  status: experimental\n",
    "  description: Detects backup catalog deletions\n",
    "  references:\n",
    "  - https://technet.microsoft.com/en-us/library/cc742154(v=ws.11).aspx\n",
    "  - https://www.hybrid-analysis.com/sample/ed01ebfbc9eb5bbea545af4d01bf5f1071661840480439c6e5babe8e080e41aa?environmentId=100\n",
    "  author: Florian Roth (rule), Tom U. @c_APT_ure (collection)\n",
    "  tags:\n",
    "  - attack.defense_evasion\n",
    "  - attack.t1107\n",
    "  logsource:\n",
    "    product: windows\n",
    "    service: application\n",
    "    category: null\n",
    "  detection:\n",
    "    selection:\n",
    "      EventID: 524\n",
    "      Source: Backup\n",
    "    condition: selection\n",
    "  falsepositives:\n",
    "  - Unknown\n",
    "  level: medium\n",
    "\n",
    "```"
   ]
  },
  {
   "cell_type": "markdown",
   "metadata": {},
   "source": [
    "## Querying Elasticsearch"
   ]
  },
  {
   "cell_type": "markdown",
   "metadata": {},
   "source": [
    "### Import Libraries"
   ]
  },
  {
   "cell_type": "code",
   "execution_count": null,
   "metadata": {},
   "outputs": [],
   "source": [
    "from elasticsearch import Elasticsearch\n",
    "from elasticsearch_dsl import Search\n",
    "import pandas as pd"
   ]
  },
  {
   "cell_type": "markdown",
   "metadata": {},
   "source": [
    "### Initialize Elasticsearch client"
   ]
  },
  {
   "cell_type": "code",
   "execution_count": null,
   "metadata": {},
   "outputs": [],
   "source": [
    "es = Elasticsearch([http://ip_here:9200/])\n",
    "searchContext = Search(using=es, index='logs-endpoint-winevent-application-*', doc_type='doc')"
   ]
  },
  {
   "cell_type": "markdown",
   "metadata": {},
   "source": [
    "### Run Elasticsearch Query"
   ]
  },
  {
   "cell_type": "code",
   "execution_count": null,
   "metadata": {},
   "outputs": [],
   "source": [
    "s = searchContext.query('query_string', query='(event_id:\"524\" AND source_name:\"Backup\")')\n",
    "response = s.execute()\n",
    "if response.success():\n",
    "    df = pd.DataFrame((d.to_dict() for d in s.scan()))"
   ]
  },
  {
   "cell_type": "markdown",
   "metadata": {},
   "source": [
    "### Show Results"
   ]
  },
  {
   "cell_type": "code",
   "execution_count": null,
   "metadata": {},
   "outputs": [],
   "source": [
    "df.head()"
   ]
  }
 ],
 "metadata": {},
 "nbformat": 4,
 "nbformat_minor": 4
}
