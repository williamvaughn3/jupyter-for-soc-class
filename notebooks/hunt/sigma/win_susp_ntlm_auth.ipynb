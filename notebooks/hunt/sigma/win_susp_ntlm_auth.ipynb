{
 "cells": [
  {
   "cell_type": "markdown",
   "metadata": {},
   "source": [
    "# NTLM Logon\n",
    "Detects logons using NTLM, which could be caused by a legacy source or attackers"
   ]
  },
  {
   "cell_type": "markdown",
   "metadata": {},
   "source": [
    "## Rule Content\n",
    "```\n",
    "- title: NTLM Logon\n",
    "  id: 98c3bcf1-56f2-49dc-9d8d-c66cf190238b\n",
    "  status: experimental\n",
    "  description: Detects logons using NTLM, which could be caused by a legacy source\n",
    "    or attackers\n",
    "  references:\n",
    "  - https://twitter.com/JohnLaTwC/status/1004895028995477505\n",
    "  - https://goo.gl/PsqrhT\n",
    "  author: Florian Roth\n",
    "  date: 2018/06/08\n",
    "  tags:\n",
    "  - attack.lateral_movement\n",
    "  - attack.t1075\n",
    "  logsource:\n",
    "    product: windows\n",
    "    service: ntlm\n",
    "    definition: Reqiures events from Microsoft-Windows-NTLM/Operational\n",
    "    category: null\n",
    "  detection:\n",
    "    selection:\n",
    "      EventID: 8002\n",
    "      CallingProcessName: '*'\n",
    "    condition: selection\n",
    "  falsepositives:\n",
    "  - Legacy hosts\n",
    "  level: low\n",
    "\n",
    "```"
   ]
  },
  {
   "cell_type": "markdown",
   "metadata": {},
   "source": [
    "## Querying Elasticsearch"
   ]
  },
  {
   "cell_type": "markdown",
   "metadata": {},
   "source": [
    "### Import Libraries"
   ]
  },
  {
   "cell_type": "code",
   "execution_count": null,
   "metadata": {},
   "outputs": [],
   "source": [
    "from elasticsearch import Elasticsearch\n",
    "from elasticsearch_dsl import Search\n",
    "import pandas as pd"
   ]
  },
  {
   "cell_type": "markdown",
   "metadata": {},
   "source": [
    "### Initialize Elasticsearch client"
   ]
  },
  {
   "cell_type": "code",
   "execution_count": null,
   "metadata": {},
   "outputs": [],
   "source": [
    "es = Elasticsearch([http://ip_here:9200/])\n",
    "searchContext = Search(using=es, index='logs-*', doc_type='doc')"
   ]
  },
  {
   "cell_type": "markdown",
   "metadata": {},
   "source": [
    "### Run Elasticsearch Query"
   ]
  },
  {
   "cell_type": "code",
   "execution_count": null,
   "metadata": {},
   "outputs": [],
   "source": [
    "s = searchContext.query('query_string', query='(event_id:\"8002\" AND process_path.keyword:*)')\n",
    "response = s.execute()\n",
    "if response.success():\n",
    "    df = pd.DataFrame((d.to_dict() for d in s.scan()))"
   ]
  },
  {
   "cell_type": "markdown",
   "metadata": {},
   "source": [
    "### Show Results"
   ]
  },
  {
   "cell_type": "code",
   "execution_count": null,
   "metadata": {},
   "outputs": [],
   "source": [
    "df.head()"
   ]
  }
 ],
 "metadata": {},
 "nbformat": 4,
 "nbformat_minor": 4
}
