{
 "cells": [
  {
   "cell_type": "markdown",
   "metadata": {},
   "source": [
    "# Windows Shell Spawning Suspicious Program\n",
    "Detects a suspicious child process of a Windows shell"
   ]
  },
  {
   "cell_type": "markdown",
   "metadata": {},
   "source": [
    "## Rule Content\n",
    "```\n",
    "- title: Windows Shell Spawning Suspicious Program\n",
    "  id: 3a6586ad-127a-4d3b-a677-1e6eacdf8fde\n",
    "  status: experimental\n",
    "  description: Detects a suspicious child process of a Windows shell\n",
    "  references:\n",
    "  - https://mgreen27.github.io/posts/2018/04/02/DownloadCradle.html\n",
    "  author: Florian Roth\n",
    "  date: 2018/04/06\n",
    "  modified: 2019/02/05\n",
    "  tags:\n",
    "  - attack.execution\n",
    "  - attack.defense_evasion\n",
    "  - attack.t1064\n",
    "  logsource:\n",
    "    category: process_creation\n",
    "    product: windows\n",
    "    service: null\n",
    "  detection:\n",
    "    selection:\n",
    "      ParentImage:\n",
    "      - '*\\mshta.exe'\n",
    "      - '*\\powershell.exe'\n",
    "      - '*\\rundll32.exe'\n",
    "      - '*\\cscript.exe'\n",
    "      - '*\\wscript.exe'\n",
    "      - '*\\wmiprvse.exe'\n",
    "      Image:\n",
    "      - '*\\schtasks.exe'\n",
    "      - '*\\nslookup.exe'\n",
    "      - '*\\certutil.exe'\n",
    "      - '*\\bitsadmin.exe'\n",
    "      - '*\\mshta.exe'\n",
    "    falsepositives:\n",
    "      CurrentDirectory: '*\\ccmcache\\\\*'\n",
    "    condition: selection and not falsepositives\n",
    "  fields:\n",
    "  - CommandLine\n",
    "  - ParentCommandLine\n",
    "  falsepositives:\n",
    "  - Administrative scripts\n",
    "  - Microsoft SCCM\n",
    "  level: high\n",
    "\n",
    "```"
   ]
  },
  {
   "cell_type": "markdown",
   "metadata": {},
   "source": [
    "## Querying Elasticsearch"
   ]
  },
  {
   "cell_type": "markdown",
   "metadata": {},
   "source": [
    "### Import Libraries"
   ]
  },
  {
   "cell_type": "code",
   "execution_count": null,
   "metadata": {},
   "outputs": [],
   "source": [
    "from elasticsearch import Elasticsearch\n",
    "from elasticsearch_dsl import Search\n",
    "import pandas as pd"
   ]
  },
  {
   "cell_type": "markdown",
   "metadata": {},
   "source": [
    "### Initialize Elasticsearch client"
   ]
  },
  {
   "cell_type": "code",
   "execution_count": null,
   "metadata": {},
   "outputs": [],
   "source": [
    "es = Elasticsearch([http://ip_here:9200/])\n",
    "searchContext = Search(using=es, index='logs-*', doc_type='doc')"
   ]
  },
  {
   "cell_type": "markdown",
   "metadata": {},
   "source": [
    "### Run Elasticsearch Query"
   ]
  },
  {
   "cell_type": "code",
   "execution_count": null,
   "metadata": {},
   "outputs": [],
   "source": [
    "s = searchContext.query('query_string', query='((process_parent_path.keyword:(*\\\\mshta.exe OR *\\\\powershell.exe OR *\\\\rundll32.exe OR *\\\\cscript.exe OR *\\\\wscript.exe OR *\\\\wmiprvse.exe) AND process_path.keyword:(*\\\\schtasks.exe OR *\\\\nslookup.exe OR *\\\\certutil.exe OR *\\\\bitsadmin.exe OR *\\\\mshta.exe)) AND (NOT (process_current_directory.keyword:*\\\\ccmcache\\\\*)))')\n",
    "response = s.execute()\n",
    "if response.success():\n",
    "    df = pd.DataFrame((d.to_dict() for d in s.scan()))"
   ]
  },
  {
   "cell_type": "markdown",
   "metadata": {},
   "source": [
    "### Show Results"
   ]
  },
  {
   "cell_type": "code",
   "execution_count": null,
   "metadata": {},
   "outputs": [],
   "source": [
    "df.head()"
   ]
  }
 ],
 "metadata": {},
 "nbformat": 4,
 "nbformat_minor": 4
}
