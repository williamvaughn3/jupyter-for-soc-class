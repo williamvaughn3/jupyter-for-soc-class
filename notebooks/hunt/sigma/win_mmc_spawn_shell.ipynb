{
 "cells": [
  {
   "cell_type": "markdown",
   "metadata": {},
   "source": [
    "# MMC Spawning Windows Shell\n",
    "Detects a Windows command line executable started from MMC."
   ]
  },
  {
   "cell_type": "markdown",
   "metadata": {},
   "source": [
    "## Rule Content\n",
    "```\n",
    "- title: MMC Spawning Windows Shell\n",
    "  id: 05a2ab7e-ce11-4b63-86db-ab32e763e11d\n",
    "  status: experimental\n",
    "  description: Detects a Windows command line executable started from MMC.\n",
    "  author: Karneades, Swisscom CSIRT\n",
    "  tags:\n",
    "  - attack.lateral_movement\n",
    "  - attack.t1175\n",
    "  logsource:\n",
    "    category: process_creation\n",
    "    product: windows\n",
    "    service: null\n",
    "  detection:\n",
    "    selection:\n",
    "      ParentImage: '*\\mmc.exe'\n",
    "      Image:\n",
    "      - '*\\cmd.exe'\n",
    "      - '*\\powershell.exe'\n",
    "      - '*\\wscript.exe'\n",
    "      - '*\\cscript.exe'\n",
    "      - '*\\sh.exe'\n",
    "      - '*\\bash.exe'\n",
    "      - '*\\reg.exe'\n",
    "      - '*\\regsvr32.exe'\n",
    "      - '*\\BITSADMIN*'\n",
    "    condition: selection\n",
    "  fields:\n",
    "  - CommandLine\n",
    "  - Image\n",
    "  - ParentCommandLine\n",
    "  level: high\n",
    "\n",
    "```"
   ]
  },
  {
   "cell_type": "markdown",
   "metadata": {},
   "source": [
    "## Querying Elasticsearch"
   ]
  },
  {
   "cell_type": "markdown",
   "metadata": {},
   "source": [
    "### Import Libraries"
   ]
  },
  {
   "cell_type": "code",
   "execution_count": null,
   "metadata": {},
   "outputs": [],
   "source": [
    "from elasticsearch import Elasticsearch\n",
    "from elasticsearch_dsl import Search\n",
    "import pandas as pd"
   ]
  },
  {
   "cell_type": "markdown",
   "metadata": {},
   "source": [
    "### Initialize Elasticsearch client"
   ]
  },
  {
   "cell_type": "code",
   "execution_count": null,
   "metadata": {},
   "outputs": [],
   "source": [
    "es = Elasticsearch([http://ip_here:9200/])\n",
    "searchContext = Search(using=es, index='logs-*', doc_type='doc')"
   ]
  },
  {
   "cell_type": "markdown",
   "metadata": {},
   "source": [
    "### Run Elasticsearch Query"
   ]
  },
  {
   "cell_type": "code",
   "execution_count": null,
   "metadata": {},
   "outputs": [],
   "source": [
    "s = searchContext.query('query_string', query='(process_parent_path.keyword:*\\\\mmc.exe AND process_path.keyword:(*\\\\cmd.exe OR *\\\\powershell.exe OR *\\\\wscript.exe OR *\\\\cscript.exe OR *\\\\sh.exe OR *\\\\bash.exe OR *\\\\reg.exe OR *\\\\regsvr32.exe OR *\\\\BITSADMIN*))')\n",
    "response = s.execute()\n",
    "if response.success():\n",
    "    df = pd.DataFrame((d.to_dict() for d in s.scan()))"
   ]
  },
  {
   "cell_type": "markdown",
   "metadata": {},
   "source": [
    "### Show Results"
   ]
  },
  {
   "cell_type": "code",
   "execution_count": null,
   "metadata": {},
   "outputs": [],
   "source": [
    "df.head()"
   ]
  }
 ],
 "metadata": {},
 "nbformat": 4,
 "nbformat_minor": 4
}
