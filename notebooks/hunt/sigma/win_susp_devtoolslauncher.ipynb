{
 "cells": [
  {
   "cell_type": "markdown",
   "metadata": {},
   "source": [
    "# Devtoolslauncher.exe executes specified binary\n",
    "The Devtoolslauncher.exe executes other binary"
   ]
  },
  {
   "cell_type": "markdown",
   "metadata": {},
   "source": [
    "## Rule Content\n",
    "```\n",
    "- title: Devtoolslauncher.exe executes specified binary\n",
    "  id: cc268ac1-42d9-40fd-9ed3-8c4e1a5b87e6\n",
    "  status: experimental\n",
    "  description: The Devtoolslauncher.exe executes other binary\n",
    "  references:\n",
    "  - https://github.com/LOLBAS-Project/LOLBAS/blob/master/yml/OtherMSBinaries/Devtoolslauncher.yml\n",
    "  - https://twitter.com/_felamos/status/1179811992841797632\n",
    "  author: Beyu Denis, oscd.community (rule), @_felamos (idea)\n",
    "  date: 2019/10/12\n",
    "  modified: 2019/11/04\n",
    "  tags:\n",
    "  - attack.defense_evasion\n",
    "  - attack.execution\n",
    "  - attack.t1218\n",
    "  level: critical\n",
    "  logsource:\n",
    "    category: process_creation\n",
    "    product: windows\n",
    "    service: null\n",
    "  detection:\n",
    "    selection:\n",
    "      Image|endswith: \\devtoolslauncher.exe\n",
    "      CommandLine|contains: LaunchForDeploy\n",
    "    condition: selection\n",
    "  falsepositives:\n",
    "  - Legitimate use of devtoolslauncher.exe by legitimate user\n",
    "\n",
    "```"
   ]
  },
  {
   "cell_type": "markdown",
   "metadata": {},
   "source": [
    "## Querying Elasticsearch"
   ]
  },
  {
   "cell_type": "markdown",
   "metadata": {},
   "source": [
    "### Import Libraries"
   ]
  },
  {
   "cell_type": "code",
   "execution_count": null,
   "metadata": {},
   "outputs": [],
   "source": [
    "from elasticsearch import Elasticsearch\n",
    "from elasticsearch_dsl import Search\n",
    "import pandas as pd"
   ]
  },
  {
   "cell_type": "markdown",
   "metadata": {},
   "source": [
    "### Initialize Elasticsearch client"
   ]
  },
  {
   "cell_type": "code",
   "execution_count": null,
   "metadata": {},
   "outputs": [],
   "source": [
    "es = Elasticsearch([http://ip_here:9200/])\n",
    "searchContext = Search(using=es, index='logs-*', doc_type='doc')"
   ]
  },
  {
   "cell_type": "markdown",
   "metadata": {},
   "source": [
    "### Run Elasticsearch Query"
   ]
  },
  {
   "cell_type": "code",
   "execution_count": null,
   "metadata": {},
   "outputs": [],
   "source": [
    "s = searchContext.query('query_string', query='(process_path.keyword:*\\\\devtoolslauncher.exe AND process_command_line.keyword:*LaunchForDeploy*)')\n",
    "response = s.execute()\n",
    "if response.success():\n",
    "    df = pd.DataFrame((d.to_dict() for d in s.scan()))"
   ]
  },
  {
   "cell_type": "markdown",
   "metadata": {},
   "source": [
    "### Show Results"
   ]
  },
  {
   "cell_type": "code",
   "execution_count": null,
   "metadata": {},
   "outputs": [],
   "source": [
    "df.head()"
   ]
  }
 ],
 "metadata": {},
 "nbformat": 4,
 "nbformat_minor": 4
}
