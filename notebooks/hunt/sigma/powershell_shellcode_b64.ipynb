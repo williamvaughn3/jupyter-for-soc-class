{
 "cells": [
  {
   "cell_type": "markdown",
   "metadata": {},
   "source": [
    "# PowerShell ShellCode\n",
    "Detects Base64 encoded Shellcode"
   ]
  },
  {
   "cell_type": "markdown",
   "metadata": {},
   "source": [
    "## Rule Content\n",
    "```\n",
    "- title: PowerShell ShellCode\n",
    "  id: 16b37b70-6fcf-4814-a092-c36bd3aafcbd\n",
    "  status: experimental\n",
    "  description: Detects Base64 encoded Shellcode\n",
    "  references:\n",
    "  - https://twitter.com/cyb3rops/status/1063072865992523776\n",
    "  tags:\n",
    "  - attack.privilege_escalation\n",
    "  - attack.execution\n",
    "  - attack.t1055\n",
    "  - attack.t1086\n",
    "  author: David Ledbetter (shellcode), Florian Roth (rule)\n",
    "  date: 2018/11/17\n",
    "  logsource:\n",
    "    product: windows\n",
    "    service: powershell\n",
    "    description: Script block logging must be enabled\n",
    "    category: null\n",
    "  detection:\n",
    "    selection:\n",
    "      EventID: 4104\n",
    "    keyword1:\n",
    "    - '*AAAAYInlM*'\n",
    "    keyword2:\n",
    "    - '*OiCAAAAYInlM*'\n",
    "    - '*OiJAAAAYInlM*'\n",
    "    condition: selection and keyword1 and keyword2\n",
    "  falsepositives:\n",
    "  - Unknown\n",
    "  level: critical\n",
    "\n",
    "```"
   ]
  },
  {
   "cell_type": "markdown",
   "metadata": {},
   "source": [
    "## Querying Elasticsearch"
   ]
  },
  {
   "cell_type": "markdown",
   "metadata": {},
   "source": [
    "### Import Libraries"
   ]
  },
  {
   "cell_type": "code",
   "execution_count": null,
   "metadata": {},
   "outputs": [],
   "source": [
    "from elasticsearch import Elasticsearch\n",
    "from elasticsearch_dsl import Search\n",
    "import pandas as pd"
   ]
  },
  {
   "cell_type": "markdown",
   "metadata": {},
   "source": [
    "### Initialize Elasticsearch client"
   ]
  },
  {
   "cell_type": "code",
   "execution_count": null,
   "metadata": {},
   "outputs": [],
   "source": [
    "es = Elasticsearch([http://ip_here:9200/])\n",
    "searchContext = Search(using=es, index='logs-endpoint-winevent-powershell-*', doc_type='doc')"
   ]
  },
  {
   "cell_type": "markdown",
   "metadata": {},
   "source": [
    "### Run Elasticsearch Query"
   ]
  },
  {
   "cell_type": "code",
   "execution_count": null,
   "metadata": {},
   "outputs": [],
   "source": [
    "s = searchContext.query('query_string', query='((event_id:\"4104\" AND \"*AAAAYInlM*\") AND \\*.keyword:(*OiCAAAAYInlM* OR *OiJAAAAYInlM*))')\n",
    "response = s.execute()\n",
    "if response.success():\n",
    "    df = pd.DataFrame((d.to_dict() for d in s.scan()))"
   ]
  },
  {
   "cell_type": "markdown",
   "metadata": {},
   "source": [
    "### Show Results"
   ]
  },
  {
   "cell_type": "code",
   "execution_count": null,
   "metadata": {},
   "outputs": [],
   "source": [
    "df.head()"
   ]
  }
 ],
 "metadata": {},
 "nbformat": 4,
 "nbformat_minor": 4
}
