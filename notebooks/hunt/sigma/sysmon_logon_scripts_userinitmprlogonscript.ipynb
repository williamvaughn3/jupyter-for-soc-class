{
 "cells": [
  {
   "cell_type": "markdown",
   "metadata": {},
   "source": [
    "# Logon Scripts (UserInitMprLogonScript)\n",
    "Detects creation or execution of UserInitMprLogonScript persistence method"
   ]
  },
  {
   "cell_type": "markdown",
   "metadata": {},
   "source": [
    "## Rule Content\n",
    "```\n",
    "- action: global\n",
    "  title: Logon Scripts (UserInitMprLogonScript)\n",
    "  id: 0a98a10c-685d-4ab0-bddc-b6bdd1d48458\n",
    "  status: experimental\n",
    "  description: Detects creation or execution of UserInitMprLogonScript persistence\n",
    "    method\n",
    "  references:\n",
    "  - https://attack.mitre.org/techniques/T1037/\n",
    "  tags:\n",
    "  - attack.t1037\n",
    "  - attack.persistence\n",
    "  - attack.lateral_movement\n",
    "  author: Tom Ueltschi (@c_APT_ure)\n",
    "  falsepositives:\n",
    "  - exclude legitimate logon scripts\n",
    "  - penetration tests, red teaming\n",
    "  level: high\n",
    "- logsource:\n",
    "    category: process_creation\n",
    "    product: windows\n",
    "  detection:\n",
    "    exec_selection:\n",
    "      ParentImage: '*\\userinit.exe'\n",
    "    exec_exclusion1:\n",
    "      Image: '*\\explorer.exe'\n",
    "    exec_exclusion2:\n",
    "      CommandLine: '*\\netlogon.bat'\n",
    "    condition: exec_selection and not exec_exclusion1 and not exec_exclusion2\n",
    "- logsource:\n",
    "    category: process_creation\n",
    "    product: windows\n",
    "  detection:\n",
    "    create_keywords_cli:\n",
    "      CommandLine: '*UserInitMprLogonScript*'\n",
    "    condition: create_keywords_cli\n",
    "- logsource:\n",
    "    product: windows\n",
    "    service: sysmon\n",
    "  detection:\n",
    "    create_selection_reg:\n",
    "      EventID:\n",
    "      - 11\n",
    "      - 12\n",
    "      - 13\n",
    "      - 14\n",
    "    create_keywords_reg:\n",
    "      TargetObject: '*UserInitMprLogonScript*'\n",
    "    condition: create_selection_reg and create_keywords_reg\n",
    "\n",
    "```"
   ]
  },
  {
   "cell_type": "markdown",
   "metadata": {},
   "source": [
    "## Querying Elasticsearch"
   ]
  },
  {
   "cell_type": "markdown",
   "metadata": {},
   "source": [
    "### Import Libraries"
   ]
  },
  {
   "cell_type": "code",
   "execution_count": null,
   "metadata": {},
   "outputs": [],
   "source": [
    "from elasticsearch import Elasticsearch\n",
    "from elasticsearch_dsl import Search\n",
    "import pandas as pd"
   ]
  },
  {
   "cell_type": "markdown",
   "metadata": {},
   "source": [
    "### Initialize Elasticsearch client"
   ]
  },
  {
   "cell_type": "code",
   "execution_count": null,
   "metadata": {},
   "outputs": [],
   "source": [
    "es = Elasticsearch([http://ip_here:9200/])\n",
    "searchContext = Search(using=es, index='logs-*', doc_type='doc')"
   ]
  },
  {
   "cell_type": "markdown",
   "metadata": {},
   "source": [
    "### Run Elasticsearch Query"
   ]
  },
  {
   "cell_type": "code",
   "execution_count": null,
   "metadata": {},
   "outputs": [],
   "source": [
    "s = searchContext.query('query_string', query='((process_parent_path.keyword:*\\\\userinit.exe AND (NOT (process_path.keyword:*\\\\explorer.exe))) AND (NOT (process_command_line.keyword:*\\\\netlogon.bat)))')\n",
    "response = s.execute()\n",
    "if response.success():\n",
    "    df = pd.DataFrame((d.to_dict() for d in s.scan()))"
   ]
  },
  {
   "cell_type": "code",
   "execution_count": null,
   "metadata": {},
   "outputs": [],
   "source": [
    "s = searchContext.query('query_string', query='process_command_line.keyword:*UserInitMprLogonScript*')\n",
    "response = s.execute()\n",
    "if response.success():\n",
    "    df = pd.DataFrame((d.to_dict() for d in s.scan()))"
   ]
  },
  {
   "cell_type": "code",
   "execution_count": null,
   "metadata": {},
   "outputs": [],
   "source": [
    "s = searchContext.query('query_string', query='(event_id:(\"11\" OR \"12\" OR \"13\" OR \"14\") AND registry_key_path.keyword:*UserInitMprLogonScript*)')\n",
    "response = s.execute()\n",
    "if response.success():\n",
    "    df = pd.DataFrame((d.to_dict() for d in s.scan()))"
   ]
  },
  {
   "cell_type": "markdown",
   "metadata": {},
   "source": [
    "### Show Results"
   ]
  },
  {
   "cell_type": "code",
   "execution_count": null,
   "metadata": {},
   "outputs": [],
   "source": [
    "df.head()"
   ]
  }
 ],
 "metadata": {},
 "nbformat": 4,
 "nbformat_minor": 4
}
