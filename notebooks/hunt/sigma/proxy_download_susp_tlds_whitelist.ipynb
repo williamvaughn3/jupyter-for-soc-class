{
 "cells": [
  {
   "cell_type": "markdown",
   "metadata": {},
   "source": [
    "# Download EXE from Suspicious TLD\n",
    "Detects executable downloads from suspicious remote systems"
   ]
  },
  {
   "cell_type": "markdown",
   "metadata": {},
   "source": [
    "## Rule Content\n",
    "```\n",
    "- title: Download EXE from Suspicious TLD\n",
    "  id: b5de2919-b74a-4805-91a7-5049accbaefe\n",
    "  status: experimental\n",
    "  description: Detects executable downloads from suspicious remote systems\n",
    "  author: Florian Roth\n",
    "  logsource:\n",
    "    category: proxy\n",
    "    product: null\n",
    "    service: null\n",
    "  detection:\n",
    "    selection:\n",
    "      c-uri-extension:\n",
    "      - exe\n",
    "      - vbs\n",
    "      - bat\n",
    "      - rar\n",
    "      - ps1\n",
    "      - doc\n",
    "      - docm\n",
    "      - xls\n",
    "      - xlsm\n",
    "      - pptm\n",
    "      - rtf\n",
    "      - hta\n",
    "      - dll\n",
    "      - ws\n",
    "      - wsf\n",
    "      - sct\n",
    "      - zip\n",
    "    filter:\n",
    "      r-dns:\n",
    "      - '*.com'\n",
    "      - '*.org'\n",
    "      - '*.net'\n",
    "      - '*.edu'\n",
    "      - '*.gov'\n",
    "      - '*.uk'\n",
    "      - '*.ca'\n",
    "      - '*.de'\n",
    "      - '*.jp'\n",
    "      - '*.fr'\n",
    "      - '*.au'\n",
    "      - '*.us'\n",
    "      - '*.ch'\n",
    "      - '*.it'\n",
    "      - '*.nl'\n",
    "      - '*.se'\n",
    "      - '*.no'\n",
    "      - '*.es'\n",
    "    condition: selection and not filter\n",
    "  fields:\n",
    "  - ClientIP\n",
    "  - c-uri\n",
    "  falsepositives:\n",
    "  - All kind of software downloads\n",
    "  level: low\n",
    "\n",
    "```"
   ]
  },
  {
   "cell_type": "markdown",
   "metadata": {},
   "source": [
    "## Querying Elasticsearch"
   ]
  },
  {
   "cell_type": "markdown",
   "metadata": {},
   "source": [
    "### Import Libraries"
   ]
  },
  {
   "cell_type": "code",
   "execution_count": null,
   "metadata": {},
   "outputs": [],
   "source": [
    "from elasticsearch import Elasticsearch\n",
    "from elasticsearch_dsl import Search\n",
    "import pandas as pd"
   ]
  },
  {
   "cell_type": "markdown",
   "metadata": {},
   "source": [
    "### Initialize Elasticsearch client"
   ]
  },
  {
   "cell_type": "code",
   "execution_count": null,
   "metadata": {},
   "outputs": [],
   "source": [
    "es = Elasticsearch([http://ip_here:9200/])\n",
    "searchContext = Search(using=es, index='logs-*', doc_type='doc')"
   ]
  },
  {
   "cell_type": "markdown",
   "metadata": {},
   "source": [
    "### Run Elasticsearch Query"
   ]
  },
  {
   "cell_type": "code",
   "execution_count": null,
   "metadata": {},
   "outputs": [],
   "source": [
    "s = searchContext.query('query_string', query='(c-uri-extension:(\"exe\" OR \"vbs\" OR \"bat\" OR \"rar\" OR \"ps1\" OR \"doc\" OR \"docm\" OR \"xls\" OR \"xlsm\" OR \"pptm\" OR \"rtf\" OR \"hta\" OR \"dll\" OR \"ws\" OR \"wsf\" OR \"sct\" OR \"zip\") AND (NOT (r-dns.keyword:(*.com OR *.org OR *.net OR *.edu OR *.gov OR *.uk OR *.ca OR *.de OR *.jp OR *.fr OR *.au OR *.us OR *.ch OR *.it OR *.nl OR *.se OR *.no OR *.es))))')\n",
    "response = s.execute()\n",
    "if response.success():\n",
    "    df = pd.DataFrame((d.to_dict() for d in s.scan()))"
   ]
  },
  {
   "cell_type": "markdown",
   "metadata": {},
   "source": [
    "### Show Results"
   ]
  },
  {
   "cell_type": "code",
   "execution_count": null,
   "metadata": {},
   "outputs": [],
   "source": [
    "df.head()"
   ]
  }
 ],
 "metadata": {},
 "nbformat": 4,
 "nbformat_minor": 4
}
