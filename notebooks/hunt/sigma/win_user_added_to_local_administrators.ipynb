{
 "cells": [
  {
   "cell_type": "markdown",
   "metadata": {},
   "source": [
    "# User Added to Local Administrators\n",
    "This rule triggers on user accounts that are added to the local Administrators group, which could be legitimate activity or a sign of privilege escalation activity"
   ]
  },
  {
   "cell_type": "markdown",
   "metadata": {},
   "source": [
    "## Rule Content\n",
    "```\n",
    "- title: User Added to Local Administrators\n",
    "  id: c265cf08-3f99-46c1-8d59-328247057d57\n",
    "  description: This rule triggers on user accounts that are added to the local Administrators\n",
    "    group, which could be legitimate activity or a sign of privilege escalation activity\n",
    "  status: stable\n",
    "  author: Florian Roth\n",
    "  tags:\n",
    "  - attack.privilege_escalation\n",
    "  - attack.t1078\n",
    "  logsource:\n",
    "    product: windows\n",
    "    service: security\n",
    "    category: null\n",
    "  detection:\n",
    "    selection:\n",
    "      EventID: 4732\n",
    "    selection_group1:\n",
    "      GroupName: Administrators\n",
    "    selection_group2:\n",
    "      GroupSid: S-1-5-32-544\n",
    "    filter:\n",
    "      SubjectUserName: '*$'\n",
    "    condition: selection and (1 of selection_group*) and not filter\n",
    "  falsepositives:\n",
    "  - Legitimate administrative activity\n",
    "  level: medium\n",
    "\n",
    "```"
   ]
  },
  {
   "cell_type": "markdown",
   "metadata": {},
   "source": [
    "## Querying Elasticsearch"
   ]
  },
  {
   "cell_type": "markdown",
   "metadata": {},
   "source": [
    "### Import Libraries"
   ]
  },
  {
   "cell_type": "code",
   "execution_count": null,
   "metadata": {},
   "outputs": [],
   "source": [
    "from elasticsearch import Elasticsearch\n",
    "from elasticsearch_dsl import Search\n",
    "import pandas as pd"
   ]
  },
  {
   "cell_type": "markdown",
   "metadata": {},
   "source": [
    "### Initialize Elasticsearch client"
   ]
  },
  {
   "cell_type": "code",
   "execution_count": null,
   "metadata": {},
   "outputs": [],
   "source": [
    "es = Elasticsearch([http://ip_here:9200/])\n",
    "searchContext = Search(using=es, index='logs-endpoint-winevent-security-*', doc_type='doc')"
   ]
  },
  {
   "cell_type": "markdown",
   "metadata": {},
   "source": [
    "### Run Elasticsearch Query"
   ]
  },
  {
   "cell_type": "code",
   "execution_count": null,
   "metadata": {},
   "outputs": [],
   "source": [
    "s = searchContext.query('query_string', query='((event_id:\"4732\" AND (group_name:\"Administrators\" OR group_sid:\"S\\-1\\-5\\-32\\-544\")) AND (NOT (SubjectUserName.keyword:*$)))')\n",
    "response = s.execute()\n",
    "if response.success():\n",
    "    df = pd.DataFrame((d.to_dict() for d in s.scan()))"
   ]
  },
  {
   "cell_type": "markdown",
   "metadata": {},
   "source": [
    "### Show Results"
   ]
  },
  {
   "cell_type": "code",
   "execution_count": null,
   "metadata": {},
   "outputs": [],
   "source": [
    "df.head()"
   ]
  }
 ],
 "metadata": {},
 "nbformat": 4,
 "nbformat_minor": 4
}
