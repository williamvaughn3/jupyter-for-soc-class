{
 "cells": [
  {
   "cell_type": "markdown",
   "metadata": {},
   "source": [
    "# MS Office Product Spawning Exe in User Dir\n",
    "Detects an executable in the users directory started from Microsoft Word, Excel, Powerpoint, Publisher or Visio"
   ]
  },
  {
   "cell_type": "markdown",
   "metadata": {},
   "source": [
    "## Rule Content\n",
    "```\n",
    "- title: MS Office Product Spawning Exe in User Dir\n",
    "  id: aa3a6f94-890e-4e22-b634-ffdfd54792cc\n",
    "  status: experimental\n",
    "  description: Detects an executable in the users directory started from Microsoft\n",
    "    Word, Excel, Powerpoint, Publisher or Visio\n",
    "  references:\n",
    "  - sha256=23160972c6ae07f740800fa28e421a81d7c0ca5d5cab95bc082b4a986fbac57c\n",
    "  - https://blog.morphisec.com/fin7-not-finished-morphisec-spots-new-campaign\n",
    "  tags:\n",
    "  - attack.execution\n",
    "  - attack.defense_evasion\n",
    "  - attack.t1059\n",
    "  - attack.t1202\n",
    "  - FIN7\n",
    "  - car.2013-05-002\n",
    "  author: Jason Lynch\n",
    "  date: 2019/04/02\n",
    "  logsource:\n",
    "    category: process_creation\n",
    "    product: windows\n",
    "    service: null\n",
    "  detection:\n",
    "    selection:\n",
    "      ParentImage:\n",
    "      - '*\\WINWORD.EXE'\n",
    "      - '*\\EXCEL.EXE'\n",
    "      - '*\\POWERPNT.exe'\n",
    "      - '*\\MSPUB.exe'\n",
    "      - '*\\VISIO.exe'\n",
    "      - '*\\OUTLOOK.EXE'\n",
    "      Image:\n",
    "      - C:\\users\\\\*.exe\n",
    "    condition: selection\n",
    "  fields:\n",
    "  - CommandLine\n",
    "  - ParentCommandLine\n",
    "  falsepositives:\n",
    "  - unknown\n",
    "  level: high\n",
    "\n",
    "```"
   ]
  },
  {
   "cell_type": "markdown",
   "metadata": {},
   "source": [
    "## Querying Elasticsearch"
   ]
  },
  {
   "cell_type": "markdown",
   "metadata": {},
   "source": [
    "### Import Libraries"
   ]
  },
  {
   "cell_type": "code",
   "execution_count": null,
   "metadata": {},
   "outputs": [],
   "source": [
    "from elasticsearch import Elasticsearch\n",
    "from elasticsearch_dsl import Search\n",
    "import pandas as pd"
   ]
  },
  {
   "cell_type": "markdown",
   "metadata": {},
   "source": [
    "### Initialize Elasticsearch client"
   ]
  },
  {
   "cell_type": "code",
   "execution_count": null,
   "metadata": {},
   "outputs": [],
   "source": [
    "es = Elasticsearch([http://ip_here:9200/])\n",
    "searchContext = Search(using=es, index='logs-*', doc_type='doc')"
   ]
  },
  {
   "cell_type": "markdown",
   "metadata": {},
   "source": [
    "### Run Elasticsearch Query"
   ]
  },
  {
   "cell_type": "code",
   "execution_count": null,
   "metadata": {},
   "outputs": [],
   "source": [
    "s = searchContext.query('query_string', query='(process_parent_path.keyword:(*\\\\WINWORD.EXE OR *\\\\EXCEL.EXE OR *\\\\POWERPNT.exe OR *\\\\MSPUB.exe OR *\\\\VISIO.exe OR *\\\\OUTLOOK.EXE) AND process_path.keyword:(C\\:\\\\users\\\\*.exe))')\n",
    "response = s.execute()\n",
    "if response.success():\n",
    "    df = pd.DataFrame((d.to_dict() for d in s.scan()))"
   ]
  },
  {
   "cell_type": "markdown",
   "metadata": {},
   "source": [
    "### Show Results"
   ]
  },
  {
   "cell_type": "code",
   "execution_count": null,
   "metadata": {},
   "outputs": [],
   "source": [
    "df.head()"
   ]
  }
 ],
 "metadata": {},
 "nbformat": 4,
 "nbformat_minor": 4
}
