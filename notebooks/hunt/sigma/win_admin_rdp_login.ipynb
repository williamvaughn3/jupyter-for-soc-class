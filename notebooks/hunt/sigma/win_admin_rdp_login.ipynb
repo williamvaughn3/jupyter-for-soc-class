{
 "cells": [
  {
   "cell_type": "markdown",
   "metadata": {},
   "source": [
    "# Admin User Remote Logon\n",
    "Detect remote login by Administrator user depending on internal pattern"
   ]
  },
  {
   "cell_type": "markdown",
   "metadata": {},
   "source": [
    "## Rule Content\n",
    "```\n",
    "- title: Admin User Remote Logon\n",
    "  id: 0f63e1ef-1eb9-4226-9d54-8927ca08520a\n",
    "  description: Detect remote login by Administrator user depending on internal pattern\n",
    "  references:\n",
    "  - https://car.mitre.org/wiki/CAR-2016-04-005\n",
    "  tags:\n",
    "  - attack.lateral_movement\n",
    "  - attack.t1078\n",
    "  - car.2016-04-005\n",
    "  status: experimental\n",
    "  author: juju4\n",
    "  logsource:\n",
    "    product: windows\n",
    "    service: security\n",
    "    definition: 'Requirements: Identifiable administrators usernames (pattern or special\n",
    "      unique character. ex: \"Admin-*\"), internal policy mandating use only as secondary\n",
    "      account'\n",
    "    category: null\n",
    "  detection:\n",
    "    selection:\n",
    "      EventID: 4624\n",
    "      LogonType: 10\n",
    "      AuthenticationPackageName: Negotiate\n",
    "      AccountName: Admin-*\n",
    "    condition: selection\n",
    "  falsepositives:\n",
    "  - Legitimate administrative activity\n",
    "  level: low\n",
    "\n",
    "```"
   ]
  },
  {
   "cell_type": "markdown",
   "metadata": {},
   "source": [
    "## Querying Elasticsearch"
   ]
  },
  {
   "cell_type": "markdown",
   "metadata": {},
   "source": [
    "### Import Libraries"
   ]
  },
  {
   "cell_type": "code",
   "execution_count": null,
   "metadata": {},
   "outputs": [],
   "source": [
    "from elasticsearch import Elasticsearch\n",
    "from elasticsearch_dsl import Search\n",
    "import pandas as pd"
   ]
  },
  {
   "cell_type": "markdown",
   "metadata": {},
   "source": [
    "### Initialize Elasticsearch client"
   ]
  },
  {
   "cell_type": "code",
   "execution_count": null,
   "metadata": {},
   "outputs": [],
   "source": [
    "es = Elasticsearch([http://ip_here:9200/])\n",
    "searchContext = Search(using=es, index='logs-endpoint-winevent-security-*', doc_type='doc')"
   ]
  },
  {
   "cell_type": "markdown",
   "metadata": {},
   "source": [
    "### Run Elasticsearch Query"
   ]
  },
  {
   "cell_type": "code",
   "execution_count": null,
   "metadata": {},
   "outputs": [],
   "source": [
    "s = searchContext.query('query_string', query='(event_id:\"4624\" AND logon_type:\"10\" AND logon_authentication_package:\"Negotiate\" AND user_name.keyword:Admin\\-*)')\n",
    "response = s.execute()\n",
    "if response.success():\n",
    "    df = pd.DataFrame((d.to_dict() for d in s.scan()))"
   ]
  },
  {
   "cell_type": "markdown",
   "metadata": {},
   "source": [
    "### Show Results"
   ]
  },
  {
   "cell_type": "code",
   "execution_count": null,
   "metadata": {},
   "outputs": [],
   "source": [
    "df.head()"
   ]
  }
 ],
 "metadata": {},
 "nbformat": 4,
 "nbformat_minor": 4
}
