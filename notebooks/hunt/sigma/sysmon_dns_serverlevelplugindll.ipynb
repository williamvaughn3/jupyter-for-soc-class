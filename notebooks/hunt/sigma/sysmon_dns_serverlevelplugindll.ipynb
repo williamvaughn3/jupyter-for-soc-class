{
 "cells": [
  {
   "cell_type": "markdown",
   "metadata": {},
   "source": [
    "# DNS ServerLevelPluginDll Install\n",
    "Detects the installation of a plugin DLL via ServerLevelPluginDll parameter in Registry, which can be used to execute code in context of the DNS server (restart required)"
   ]
  },
  {
   "cell_type": "markdown",
   "metadata": {},
   "source": [
    "## Rule Content\n",
    "```\n",
    "- action: global\n",
    "  title: DNS ServerLevelPluginDll Install\n",
    "  id: e61e8a88-59a9-451c-874e-70fcc9740d67\n",
    "  status: experimental\n",
    "  description: Detects the installation of a plugin DLL via ServerLevelPluginDll parameter\n",
    "    in Registry, which can be used to execute code in context of the DNS server (restart\n",
    "    required)\n",
    "  references:\n",
    "  - https://medium.com/@esnesenon/feature-not-bug-dnsadmin-to-dc-compromise-in-one-line-a0f779b8dc83\n",
    "  date: 2017/05/08\n",
    "  author: Florian Roth\n",
    "  tags:\n",
    "  - attack.defense_evasion\n",
    "  - attack.t1073\n",
    "  detection:\n",
    "    condition: 1 of them\n",
    "  fields:\n",
    "  - EventID\n",
    "  - CommandLine\n",
    "  - ParentCommandLine\n",
    "  - Image\n",
    "  - User\n",
    "  - TargetObject\n",
    "  falsepositives:\n",
    "  - unknown\n",
    "  level: high\n",
    "- logsource:\n",
    "    product: windows\n",
    "    service: sysmon\n",
    "  detection:\n",
    "    dnsregmod:\n",
    "      EventID: 13\n",
    "      TargetObject: '*\\services\\DNS\\Parameters\\ServerLevelPluginDll'\n",
    "- logsource:\n",
    "    category: process_creation\n",
    "    product: windows\n",
    "  detection:\n",
    "    dnsadmin:\n",
    "      CommandLine: dnscmd.exe /config /serverlevelplugindll *\n",
    "\n",
    "```"
   ]
  },
  {
   "cell_type": "markdown",
   "metadata": {},
   "source": [
    "## Querying Elasticsearch"
   ]
  },
  {
   "cell_type": "markdown",
   "metadata": {},
   "source": [
    "### Import Libraries"
   ]
  },
  {
   "cell_type": "code",
   "execution_count": null,
   "metadata": {},
   "outputs": [],
   "source": [
    "from elasticsearch import Elasticsearch\n",
    "from elasticsearch_dsl import Search\n",
    "import pandas as pd"
   ]
  },
  {
   "cell_type": "markdown",
   "metadata": {},
   "source": [
    "### Initialize Elasticsearch client"
   ]
  },
  {
   "cell_type": "code",
   "execution_count": null,
   "metadata": {},
   "outputs": [],
   "source": [
    "es = Elasticsearch([http://ip_here:9200/])\n",
    "searchContext = Search(using=es, index='logs-*', doc_type='doc')"
   ]
  },
  {
   "cell_type": "markdown",
   "metadata": {},
   "source": [
    "### Run Elasticsearch Query"
   ]
  },
  {
   "cell_type": "code",
   "execution_count": null,
   "metadata": {},
   "outputs": [],
   "source": [
    "s = searchContext.query('query_string', query='(event_id:\"13\" AND registry_key_path.keyword:*\\\\services\\\\DNS\\\\Parameters\\\\ServerLevelPluginDll)')\n",
    "response = s.execute()\n",
    "if response.success():\n",
    "    df = pd.DataFrame((d.to_dict() for d in s.scan()))"
   ]
  },
  {
   "cell_type": "code",
   "execution_count": null,
   "metadata": {},
   "outputs": [],
   "source": [
    "s = searchContext.query('query_string', query='process_command_line.keyword:dnscmd.exe\\ \\/config\\ \\/serverlevelplugindll\\ *')\n",
    "response = s.execute()\n",
    "if response.success():\n",
    "    df = pd.DataFrame((d.to_dict() for d in s.scan()))"
   ]
  },
  {
   "cell_type": "markdown",
   "metadata": {},
   "source": [
    "### Show Results"
   ]
  },
  {
   "cell_type": "code",
   "execution_count": null,
   "metadata": {},
   "outputs": [],
   "source": [
    "df.head()"
   ]
  }
 ],
 "metadata": {},
 "nbformat": 4,
 "nbformat_minor": 4
}
