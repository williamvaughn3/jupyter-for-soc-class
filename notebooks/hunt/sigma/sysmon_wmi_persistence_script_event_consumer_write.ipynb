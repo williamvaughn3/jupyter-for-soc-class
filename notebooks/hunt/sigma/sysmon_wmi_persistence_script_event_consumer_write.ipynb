{
 "cells": [
  {
   "cell_type": "markdown",
   "metadata": {},
   "source": [
    "# WMI Persistence - Script Event Consumer File Write\n",
    "Detects file writes of WMI script event consumer"
   ]
  },
  {
   "cell_type": "markdown",
   "metadata": {},
   "source": [
    "## Rule Content\n",
    "```\n",
    "- title: WMI Persistence - Script Event Consumer File Write\n",
    "  id: 33f41cdd-35ac-4ba8-814b-c6a4244a1ad4\n",
    "  status: experimental\n",
    "  description: Detects file writes of WMI script event consumer\n",
    "  references:\n",
    "  - https://www.eideon.com/2018-03-02-THL03-WMIBackdoors/\n",
    "  author: Thomas Patzke\n",
    "  date: 2018/03/07\n",
    "  tags:\n",
    "  - attack.t1084\n",
    "  - attack.persistence\n",
    "  logsource:\n",
    "    product: windows\n",
    "    service: sysmon\n",
    "    category: null\n",
    "  detection:\n",
    "    selection:\n",
    "      EventID: 11\n",
    "      Image: C:\\WINDOWS\\system32\\wbem\\scrcons.exe\n",
    "    condition: selection\n",
    "  falsepositives:\n",
    "  - Unknown (data set is too small; further testing needed)\n",
    "  level: high\n",
    "\n",
    "```"
   ]
  },
  {
   "cell_type": "markdown",
   "metadata": {},
   "source": [
    "## Querying Elasticsearch"
   ]
  },
  {
   "cell_type": "markdown",
   "metadata": {},
   "source": [
    "### Import Libraries"
   ]
  },
  {
   "cell_type": "code",
   "execution_count": null,
   "metadata": {},
   "outputs": [],
   "source": [
    "from elasticsearch import Elasticsearch\n",
    "from elasticsearch_dsl import Search\n",
    "import pandas as pd"
   ]
  },
  {
   "cell_type": "markdown",
   "metadata": {},
   "source": [
    "### Initialize Elasticsearch client"
   ]
  },
  {
   "cell_type": "code",
   "execution_count": null,
   "metadata": {},
   "outputs": [],
   "source": [
    "es = Elasticsearch([http://ip_here:9200/])\n",
    "searchContext = Search(using=es, index='logs-endpoint-winevent-sysmon-*', doc_type='doc')"
   ]
  },
  {
   "cell_type": "markdown",
   "metadata": {},
   "source": [
    "### Run Elasticsearch Query"
   ]
  },
  {
   "cell_type": "code",
   "execution_count": null,
   "metadata": {},
   "outputs": [],
   "source": [
    "s = searchContext.query('query_string', query='(event_id:\"11\" AND process_path:\"C\\:\\\\WINDOWS\\\\system32\\\\wbem\\\\scrcons.exe\")')\n",
    "response = s.execute()\n",
    "if response.success():\n",
    "    df = pd.DataFrame((d.to_dict() for d in s.scan()))"
   ]
  },
  {
   "cell_type": "markdown",
   "metadata": {},
   "source": [
    "### Show Results"
   ]
  },
  {
   "cell_type": "code",
   "execution_count": null,
   "metadata": {},
   "outputs": [],
   "source": [
    "df.head()"
   ]
  }
 ],
 "metadata": {},
 "nbformat": 4,
 "nbformat_minor": 4
}
