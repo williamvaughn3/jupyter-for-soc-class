{
 "cells": [
  {
   "cell_type": "markdown",
   "metadata": {},
   "source": [
    "# Renamed Binary\n",
    "Detects the execution of a renamed binary often used by attackers or malware leveraging new Sysmon OriginalFileName datapoint."
   ]
  },
  {
   "cell_type": "markdown",
   "metadata": {},
   "source": [
    "## Rule Content\n",
    "```\n",
    "- title: Renamed Binary\n",
    "  id: 36480ae1-a1cb-4eaa-a0d6-29801d7e9142\n",
    "  status: experimental\n",
    "  description: Detects the execution of a renamed binary often used by attackers or\n",
    "    malware leveraging new Sysmon OriginalFileName datapoint.\n",
    "  author: Matthew Green - @mgreen27\n",
    "  date: 2019/06/15\n",
    "  references:\n",
    "  - https://attack.mitre.org/techniques/T1036/\n",
    "  - https://mgreen27.github.io/posts/2019/05/12/BinaryRename.html\n",
    "  - https://mgreen27.github.io/posts/2019/05/29/BinaryRename2.html\n",
    "  tags:\n",
    "  - attack.t1036\n",
    "  - attack.defense_evasion\n",
    "  logsource:\n",
    "    category: process_creation\n",
    "    product: windows\n",
    "    service: null\n",
    "  detection:\n",
    "    selection:\n",
    "      OriginalFileName:\n",
    "      - cmd.exe\n",
    "      - powershell.exe\n",
    "      - powershell_ise.exe\n",
    "      - psexec.exe\n",
    "      - psexec.c\n",
    "      - cscript.exe\n",
    "      - wscript.exe\n",
    "      - mshta.exe\n",
    "      - regsvr32.exe\n",
    "      - wmic.exe\n",
    "      - certutil.exe\n",
    "      - rundll32.exe\n",
    "      - cmstp.exe\n",
    "      - msiexec.exe\n",
    "      - 7z.exe\n",
    "      - winrar.exe\n",
    "    filter:\n",
    "      Image:\n",
    "      - '*\\cmd.exe'\n",
    "      - '*\\powershell.exe'\n",
    "      - '*\\powershell_ise.exe'\n",
    "      - '*\\psexec.exe'\n",
    "      - '*\\psexec64.exe'\n",
    "      - '*\\cscript.exe'\n",
    "      - '*\\wscript.exe'\n",
    "      - '*\\mshta.exe'\n",
    "      - '*\\regsvr32.exe'\n",
    "      - '*\\wmic.exe'\n",
    "      - '*\\certutil.exe'\n",
    "      - '*\\rundll32.exe'\n",
    "      - '*\\cmstp.exe'\n",
    "      - '*\\msiexec.exe'\n",
    "      - '*\\7z.exe'\n",
    "      - '*\\winrar.exe'\n",
    "    condition: selection and not filter\n",
    "  falsepositives:\n",
    "  - Custom applications use renamed binaries adding slight change to binary name.\n",
    "    Typically this is easy to spot and add to whitelist\n",
    "  level: medium\n",
    "\n",
    "```"
   ]
  },
  {
   "cell_type": "markdown",
   "metadata": {},
   "source": [
    "## Querying Elasticsearch"
   ]
  },
  {
   "cell_type": "markdown",
   "metadata": {},
   "source": [
    "### Import Libraries"
   ]
  },
  {
   "cell_type": "code",
   "execution_count": null,
   "metadata": {},
   "outputs": [],
   "source": [
    "from elasticsearch import Elasticsearch\n",
    "from elasticsearch_dsl import Search\n",
    "import pandas as pd"
   ]
  },
  {
   "cell_type": "markdown",
   "metadata": {},
   "source": [
    "### Initialize Elasticsearch client"
   ]
  },
  {
   "cell_type": "code",
   "execution_count": null,
   "metadata": {},
   "outputs": [],
   "source": [
    "es = Elasticsearch([http://ip_here:9200/])\n",
    "searchContext = Search(using=es, index='logs-*', doc_type='doc')"
   ]
  },
  {
   "cell_type": "markdown",
   "metadata": {},
   "source": [
    "### Run Elasticsearch Query"
   ]
  },
  {
   "cell_type": "code",
   "execution_count": null,
   "metadata": {},
   "outputs": [],
   "source": [
    "s = searchContext.query('query_string', query='(file_name_original:(\"cmd.exe\" OR \"powershell.exe\" OR \"powershell_ise.exe\" OR \"psexec.exe\" OR \"psexec.c\" OR \"cscript.exe\" OR \"wscript.exe\" OR \"mshta.exe\" OR \"regsvr32.exe\" OR \"wmic.exe\" OR \"certutil.exe\" OR \"rundll32.exe\" OR \"cmstp.exe\" OR \"msiexec.exe\" OR \"7z.exe\" OR \"winrar.exe\") AND (NOT (process_path.keyword:(*\\\\cmd.exe OR *\\\\powershell.exe OR *\\\\powershell_ise.exe OR *\\\\psexec.exe OR *\\\\psexec64.exe OR *\\\\cscript.exe OR *\\\\wscript.exe OR *\\\\mshta.exe OR *\\\\regsvr32.exe OR *\\\\wmic.exe OR *\\\\certutil.exe OR *\\\\rundll32.exe OR *\\\\cmstp.exe OR *\\\\msiexec.exe OR *\\\\7z.exe OR *\\\\winrar.exe))))')\n",
    "response = s.execute()\n",
    "if response.success():\n",
    "    df = pd.DataFrame((d.to_dict() for d in s.scan()))"
   ]
  },
  {
   "cell_type": "markdown",
   "metadata": {},
   "source": [
    "### Show Results"
   ]
  },
  {
   "cell_type": "code",
   "execution_count": null,
   "metadata": {},
   "outputs": [],
   "source": [
    "df.head()"
   ]
  }
 ],
 "metadata": {},
 "nbformat": 4,
 "nbformat_minor": 4
}
