{
 "cells": [
  {
   "cell_type": "markdown",
   "metadata": {},
   "source": [
    "# Sysmon driver unload\n",
    "Detect possible Sysmon driver unload"
   ]
  },
  {
   "cell_type": "markdown",
   "metadata": {},
   "source": [
    "## Rule Content\n",
    "```\n",
    "- title: Sysmon driver unload\n",
    "  id: 4d7cda18-1b12-4e52-b45c-d28653210df8\n",
    "  status: experimental\n",
    "  author: Kirill Kiryanov, oscd.community\n",
    "  description: Detect possible Sysmon driver unload\n",
    "  date: 2019/10/23\n",
    "  modified: 2019/11/07\n",
    "  references:\n",
    "  - https://www.darkoperator.com/blog/2018/10/5/operating-offensively-against-sysmon\n",
    "  logsource:\n",
    "    product: windows\n",
    "    category: process_creation\n",
    "    service: null\n",
    "  detection:\n",
    "    selection:\n",
    "      Image|endswith: \\fltmc.exe\n",
    "      CommandLine|contains|all:\n",
    "      - unload\n",
    "      - sys\n",
    "    condition: selection\n",
    "  falsepositives: Unknown\n",
    "  level: high\n",
    "  fields:\n",
    "  - CommandLine\n",
    "  - Details\n",
    "\n",
    "```"
   ]
  },
  {
   "cell_type": "markdown",
   "metadata": {},
   "source": [
    "## Querying Elasticsearch"
   ]
  },
  {
   "cell_type": "markdown",
   "metadata": {},
   "source": [
    "### Import Libraries"
   ]
  },
  {
   "cell_type": "code",
   "execution_count": null,
   "metadata": {},
   "outputs": [],
   "source": [
    "from elasticsearch import Elasticsearch\n",
    "from elasticsearch_dsl import Search\n",
    "import pandas as pd"
   ]
  },
  {
   "cell_type": "markdown",
   "metadata": {},
   "source": [
    "### Initialize Elasticsearch client"
   ]
  },
  {
   "cell_type": "code",
   "execution_count": null,
   "metadata": {},
   "outputs": [],
   "source": [
    "es = Elasticsearch([http://ip_here:9200/])\n",
    "searchContext = Search(using=es, index='logs-*', doc_type='doc')"
   ]
  },
  {
   "cell_type": "markdown",
   "metadata": {},
   "source": [
    "### Run Elasticsearch Query"
   ]
  },
  {
   "cell_type": "code",
   "execution_count": null,
   "metadata": {},
   "outputs": [],
   "source": [
    "s = searchContext.query('query_string', query='(process_path.keyword:*\\\\fltmc.exe AND process_command_line.keyword:*unload* AND process_command_line.keyword:*sys*)')\n",
    "response = s.execute()\n",
    "if response.success():\n",
    "    df = pd.DataFrame((d.to_dict() for d in s.scan()))"
   ]
  },
  {
   "cell_type": "markdown",
   "metadata": {},
   "source": [
    "### Show Results"
   ]
  },
  {
   "cell_type": "code",
   "execution_count": null,
   "metadata": {},
   "outputs": [],
   "source": [
    "df.head()"
   ]
  }
 ],
 "metadata": {},
 "nbformat": 4,
 "nbformat_minor": 4
}
