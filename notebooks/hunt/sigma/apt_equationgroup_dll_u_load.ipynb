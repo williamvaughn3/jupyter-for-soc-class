{
 "cells": [
  {
   "cell_type": "markdown",
   "metadata": {},
   "source": [
    "# Equation Group DLL_U Load\n",
    "Detects a specific tool and export used by EquationGroup"
   ]
  },
  {
   "cell_type": "markdown",
   "metadata": {},
   "source": [
    "## Rule Content\n",
    "```\n",
    "- title: Equation Group DLL_U Load\n",
    "  id: d465d1d8-27a2-4cca-9621-a800f37cf72e\n",
    "  author: Florian Roth\n",
    "  description: Detects a specific tool and export used by EquationGroup\n",
    "  references:\n",
    "  - https://github.com/adamcaudill/EquationGroupLeak/search?utf8=%E2%9C%93&q=dll_u&type=\n",
    "  - https://securelist.com/apt-slingshot/84312/\n",
    "  - https://twitter.com/cyb3rops/status/972186477512839170\n",
    "  tags:\n",
    "  - attack.execution\n",
    "  - attack.g0020\n",
    "  - attack.t1059\n",
    "  - attack.defense_evasion\n",
    "  - attack.t1085\n",
    "  logsource:\n",
    "    category: process_creation\n",
    "    product: windows\n",
    "    service: null\n",
    "  detection:\n",
    "    selection1:\n",
    "      Image: '*\\rundll32.exe'\n",
    "      CommandLine: '*,dll_u'\n",
    "    selection2:\n",
    "      CommandLine: '* -export dll_u *'\n",
    "    condition: 1 of them\n",
    "  falsepositives:\n",
    "  - Unknown\n",
    "  level: critical\n",
    "\n",
    "```"
   ]
  },
  {
   "cell_type": "markdown",
   "metadata": {},
   "source": [
    "## Querying Elasticsearch"
   ]
  },
  {
   "cell_type": "markdown",
   "metadata": {},
   "source": [
    "### Import Libraries"
   ]
  },
  {
   "cell_type": "code",
   "execution_count": null,
   "metadata": {},
   "outputs": [],
   "source": [
    "from elasticsearch import Elasticsearch\n",
    "from elasticsearch_dsl import Search\n",
    "import pandas as pd"
   ]
  },
  {
   "cell_type": "markdown",
   "metadata": {},
   "source": [
    "### Initialize Elasticsearch client"
   ]
  },
  {
   "cell_type": "code",
   "execution_count": null,
   "metadata": {},
   "outputs": [],
   "source": [
    "es = Elasticsearch([http://ip_here:9200/])\n",
    "searchContext = Search(using=es, index='logs-*', doc_type='doc')"
   ]
  },
  {
   "cell_type": "markdown",
   "metadata": {},
   "source": [
    "### Run Elasticsearch Query"
   ]
  },
  {
   "cell_type": "code",
   "execution_count": null,
   "metadata": {},
   "outputs": [],
   "source": [
    "s = searchContext.query('query_string', query='((process_path.keyword:*\\\\rundll32.exe AND process_command_line.keyword:*,dll_u) OR process_command_line.keyword:*\\ \\-export\\ dll_u\\ *)')\n",
    "response = s.execute()\n",
    "if response.success():\n",
    "    df = pd.DataFrame((d.to_dict() for d in s.scan()))"
   ]
  },
  {
   "cell_type": "markdown",
   "metadata": {},
   "source": [
    "### Show Results"
   ]
  },
  {
   "cell_type": "code",
   "execution_count": null,
   "metadata": {},
   "outputs": [],
   "source": [
    "df.head()"
   ]
  }
 ],
 "metadata": {},
 "nbformat": 4,
 "nbformat_minor": 4
}
