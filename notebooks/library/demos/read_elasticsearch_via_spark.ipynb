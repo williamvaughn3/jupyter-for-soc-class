{
 "cells": [
  {
   "cell_type": "markdown",
   "metadata": {},
   "source": [
    "## Import Libraries"
   ]
  },
  {
   "cell_type": "code",
   "execution_count": 1,
   "metadata": {},
   "outputs": [],
   "source": [
    "from pyspark.sql import SparkSession"
   ]
  },
  {
   "cell_type": "markdown",
   "metadata": {},
   "source": [
    "## Create SparkSession"
   ]
  },
  {
   "cell_type": "code",
   "execution_count": 2,
   "metadata": {},
   "outputs": [],
   "source": [
    "spark = SparkSession.builder \\\n",
    "    .appName(\"HELK Reader\") \\\n",
    "    .master(\"spark://helk-spark-master:7077\") \\\n",
    "    .enableHiveSupport() \\\n",
    "    .getOrCreate()"
   ]
  },
  {
   "cell_type": "markdown",
   "metadata": {},
   "source": [
    "## Verify Spark Variable"
   ]
  },
  {
   "cell_type": "code",
   "execution_count": 3,
   "metadata": {},
   "outputs": [
    {
     "data": {
      "text/html": [
       "\n",
       "            <div>\n",
       "                <p><b>SparkSession - hive</b></p>\n",
       "                \n",
       "        <div>\n",
       "            <p><b>SparkContext</b></p>\n",
       "\n",
       "            <p><a href=\"http://1d254481cafc:4040\">Spark UI</a></p>\n",
       "\n",
       "            <dl>\n",
       "              <dt>Version</dt>\n",
       "                <dd><code>v2.4.3</code></dd>\n",
       "              <dt>Master</dt>\n",
       "                <dd><code>spark://helk-spark-master:7077</code></dd>\n",
       "              <dt>AppName</dt>\n",
       "                <dd><code>HELK Reader</code></dd>\n",
       "            </dl>\n",
       "        </div>\n",
       "        \n",
       "            </div>\n",
       "        "
      ],
      "text/plain": [
       "<pyspark.sql.session.SparkSession at 0x7f6a1c8596a0>"
      ]
     },
     "execution_count": 3,
     "metadata": {},
     "output_type": "execute_result"
    }
   ],
   "source": [
    "spark"
   ]
  },
  {
   "cell_type": "markdown",
   "metadata": {},
   "source": [
    "## Initiate Elasticsearch Dataframe Reader"
   ]
  },
  {
   "cell_type": "code",
   "execution_count": 4,
   "metadata": {},
   "outputs": [],
   "source": [
    "es_reader = (spark.read\n",
    "    .format(\"org.elasticsearch.spark.sql\")\n",
    "    .option(\"inferSchema\", \"true\")\n",
    "    .option(\"es.read.field.as.array.include\", \"tags\")\n",
    "    .option(\"es.nodes\",\"helk-elasticsearch:9200\")\n",
    "    .option(\"es.net.http.auth.user\",\"elastic\")\n",
    ")"
   ]
  },
  {
   "cell_type": "markdown",
   "metadata": {},
   "source": [
    "## Load Data from Elasticsearch : Sysmon Index"
   ]
  },
  {
   "cell_type": "code",
   "execution_count": 5,
   "metadata": {},
   "outputs": [],
   "source": [
    "sysmon_df = es_reader.load(\"logs-endpoint-winevent-sysmon-*/\")"
   ]
  },
  {
   "cell_type": "code",
   "execution_count": 6,
   "metadata": {},
   "outputs": [],
   "source": [
    "processcreate_df = sysmon_df.filter(sysmon_df.action == \"processcreate\")"
   ]
  },
  {
   "cell_type": "code",
   "execution_count": 10,
   "metadata": {},
   "outputs": [],
   "source": [
    "processcreate_df = processcreate_df.select(\n",
    "    \"process_guid\",\"process_parent_name\",\"process_parent_command_line\",\n",
    "    \"process_name\",\"process_command_line\",\"action\",\"@timestamp\"\n",
    ")"
   ]
  },
  {
   "cell_type": "markdown",
   "metadata": {},
   "source": [
    "## Show Sysmon Spark DataFrame"
   ]
  },
  {
   "cell_type": "code",
   "execution_count": 11,
   "metadata": {},
   "outputs": [
    {
     "name": "stdout",
     "output_type": "stream",
     "text": [
      "+--------------------+-------------------+---------------------------+--------------------+--------------------+-------------+--------------------+\n",
      "|        process_guid|process_parent_name|process_parent_command_line|        process_name|process_command_line|       action|          @timestamp|\n",
      "+--------------------+-------------------+---------------------------+--------------------+--------------------+-------------+--------------------+\n",
      "|aa6b4a20-7cde-5ce...|        svchost.exe|       c:\\windows\\system...|        wmiprvse.exe|c:\\windows\\system...|processcreate|2019-05-18 21:45:...|\n",
      "|aa6b4a20-7cde-5ce...|       wmiprvse.exe|       c:\\windows\\system...|      powershell.exe|c:\\windows\\system...|processcreate|2019-05-18 21:45:...|\n",
      "|aa6b4a20-7cdf-5ce...|     powershell.exe|       c:\\windows\\system...|         conhost.exe|\\??\\c:\\windows\\sy...|processcreate|2019-05-18 21:45:...|\n",
      "|aa6b4a20-7ce7-5ce...|       winlogon.exe|               winlogon.exe|         logonui.exe|\"logonui.exe\" /fl...|processcreate|2019-05-18 21:45:...|\n",
      "|aa6b4a20-7ce9-5ce...|        svchost.exe|       c:\\windows\\system...|       taskhostw.exe|taskhostw.exe key...|processcreate|2019-05-18 21:45:...|\n",
      "|aa6b4a20-7cd9-5ce...|        svchost.exe|       c:\\windows\\system...|backgroundtaskhos...|\"c:\\windows\\syste...|processcreate|2019-05-18 21:44:...|\n",
      "|aa6b4a20-7cda-5ce...|        svchost.exe|       c:\\windows\\system...|   runtimebroker.exe|c:\\windows\\system...|processcreate|2019-05-18 21:44:...|\n",
      "|aa6b4a20-7cea-5ce...|        svchost.exe|       c:\\windows\\system...|         dllhost.exe|c:\\windows\\system...|processcreate|2019-05-18 21:45:...|\n",
      "|aa6b4a20-7cea-5ce...|        svchost.exe|       c:\\windows\\system...|       taskhostw.exe|       taskhostw.exe|processcreate|2019-05-18 21:45:...|\n",
      "|aa6b4a20-7cec-5ce...|        svchost.exe|       c:\\windows\\system...|         dllhost.exe|c:\\windows\\system...|processcreate|2019-05-18 21:45:...|\n",
      "+--------------------+-------------------+---------------------------+--------------------+--------------------+-------------+--------------------+\n",
      "only showing top 10 rows\n",
      "\n"
     ]
    }
   ],
   "source": [
    "processcreate_df.show(10)"
   ]
  },
  {
   "cell_type": "code",
   "execution_count": null,
   "metadata": {},
   "outputs": [],
   "source": [
    "$"
   ]
  }
 ],
 "metadata": {
  "kernelspec": {
   "display_name": "Python 3.8.10 64-bit",
   "language": "python",
   "name": "python3"
  },
  "language_info": {
   "codemirror_mode": {
    "name": "ipython",
    "version": 3
   },
   "file_extension": ".py",
   "mimetype": "text/x-python",
   "name": "python",
   "nbconvert_exporter": "python",
   "pygments_lexer": "ipython3",
   "version": "3.8.10"
  },
  "vscode": {
   "interpreter": {
    "hash": "916dbcbb3f70747c44a77c7bcd40155683ae19c65e1c03b4aa3499c5328201f1"
   }
  }
 },
 "nbformat": 4,
 "nbformat_minor": 2
}
