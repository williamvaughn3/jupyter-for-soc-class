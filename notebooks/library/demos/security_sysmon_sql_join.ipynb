{
 "cells": [
  {
   "cell_type": "code",
   "execution_count": 1,
   "metadata": {},
   "outputs": [],
   "source": [
    "from pyspark.sql import SparkSession"
   ]
  },
  {
   "cell_type": "code",
   "execution_count": 2,
   "metadata": {},
   "outputs": [],
   "source": [
    "spark = SparkSession.builder \\\n",
    "    .appName(\"HELK JOIN\") \\\n",
    "    .master(\"spark://helk-spark-master:7077\") \\\n",
    "    .enableHiveSupport() \\\n",
    "    .getOrCreate()"
   ]
  },
  {
   "cell_type": "code",
   "execution_count": 3,
   "metadata": {},
   "outputs": [],
   "source": [
    "es_reader = (spark.read\n",
    "    .format(\"org.elasticsearch.spark.sql\")\n",
    "    .option(\"inferSchema\", \"true\")\n",
    "    .option(\"es.read.field.as.array.include\", \"tags\")\n",
    "    .option(\"es.nodes\",\"helk-elasticsearch:9200\")\n",
    "    .option(\"es.net.http.auth.user\",\"elastic\")\n",
    ")"
   ]
  },
  {
   "cell_type": "code",
   "execution_count": 4,
   "metadata": {},
   "outputs": [],
   "source": [
    "security_df = es_reader.load(\"logs-endpoint-winevent-security-*/\")"
   ]
  },
  {
   "cell_type": "code",
   "execution_count": 5,
   "metadata": {},
   "outputs": [],
   "source": [
    "security_df.createOrReplaceTempView(\"security_events\")"
   ]
  },
  {
   "cell_type": "code",
   "execution_count": 6,
   "metadata": {},
   "outputs": [],
   "source": [
    "security_4624_3 = spark.sql(\n",
    "    '''\n",
    "    SELECT event_id,\n",
    "        host_name,\n",
    "        src_ip_addr,\n",
    "        user_logon_id,\n",
    "        user_name,\n",
    "        logon_type,\n",
    "        `@timestamp`\n",
    "    FROM security_events\n",
    "    WHERE event_id = 4624\n",
    "        AND logon_type = 3\n",
    "        AND src_ip_addr is not null\n",
    "        AND `@timestamp` BETWEEN \"2019-05-18 00:00:00.000\" AND \"2019-05-19 00:00:00.000\"\n",
    "    '''\n",
    ")"
   ]
  },
  {
   "cell_type": "code",
   "execution_count": 7,
   "metadata": {},
   "outputs": [],
   "source": [
    "security_4624_3.createOrReplaceTempView(\"security_4624_3\")"
   ]
  },
  {
   "cell_type": "code",
   "execution_count": 8,
   "metadata": {},
   "outputs": [],
   "source": [
    "sysmon_df = es_reader.load(\"logs-endpoint-winevent-sysmon-*/\")"
   ]
  },
  {
   "cell_type": "code",
   "execution_count": 9,
   "metadata": {},
   "outputs": [],
   "source": [
    "sysmon_df.createOrReplaceTempView(\"sysmon_events\")"
   ]
  },
  {
   "cell_type": "code",
   "execution_count": 10,
   "metadata": {},
   "outputs": [],
   "source": [
    "sysmon_processcreate = spark.sql(\n",
    "    '''\n",
    "    SELECT event_id,\n",
    "        host_name,\n",
    "        process_parent_name,\n",
    "        process_parent_guid,\n",
    "        process_parent_command_line,\n",
    "        process_name,\n",
    "        process_guid,\n",
    "        process_command_line,\n",
    "        user_logon_id,\n",
    "        `@timestamp`\n",
    "    FROM sysmon_events\n",
    "    WHERE event_id = 1\n",
    "        AND `@timestamp` BETWEEN \"2019-05-18 00:00:00.000\" AND \"2019-05-19 00:00:00.000\"\n",
    "    '''\n",
    ")"
   ]
  },
  {
   "cell_type": "code",
   "execution_count": 11,
   "metadata": {},
   "outputs": [],
   "source": [
    "sysmon_processcreate.createOrReplaceTempView(\"sysmon_1\")"
   ]
  },
  {
   "cell_type": "code",
   "execution_count": 13,
   "metadata": {},
   "outputs": [],
   "source": [
    "security_sysmon_join = spark.sql(\n",
    "    '''\n",
    "    SELECT s.`@timestamp`,\n",
    "        s.host_name,\n",
    "        s.src_ip_addr,\n",
    "        s.logon_type,\n",
    "        s.user_logon_id,\n",
    "        s.user_name,\n",
    "        p.process_parent_name,\n",
    "        p.process_parent_guid,\n",
    "        p.process_parent_command_line,\n",
    "        p.process_name,\n",
    "        p.process_guid,\n",
    "        p.process_command_line\n",
    "    FROM security_4624_3 s\n",
    "    INNER JOIN sysmon_1 p\n",
    "        ON s.user_logon_id = p.user_logon_id\n",
    "    '''\n",
    ")"
   ]
  },
  {
   "cell_type": "code",
   "execution_count": 14,
   "metadata": {},
   "outputs": [
    {
     "name": "stdout",
     "output_type": "stream",
     "text": [
      "+--------------------+-------------+---------------+---------+-------------------+---------------------------+--------------+--------------------+\n",
      "|          @timestamp|  src_ip_addr|      host_name|user_name|process_parent_name|process_parent_command_line|  process_name|process_command_line|\n",
      "+--------------------+-------------+---------------+---------+-------------------+---------------------------+--------------+--------------------+\n",
      "|2019-05-18 21:45:...|172.18.39.106|IT001.shire.com| pgustavo|       wmiprvse.exe|       c:\\windows\\system...|powershell.exe|c:\\windows\\system...|\n",
      "|2019-05-18 21:45:...|172.18.39.106|IT001.shire.com| pgustavo|     powershell.exe|       c:\\windows\\system...|   conhost.exe|\\??\\c:\\windows\\sy...|\n",
      "|2019-05-18 21:45:...|172.18.39.106|IT001.shire.com| pgustavo|     powershell.exe|       c:\\windows\\system...|    whoami.exe|\"c:\\windows\\syste...|\n",
      "+--------------------+-------------+---------------+---------+-------------------+---------------------------+--------------+--------------------+\n",
      "\n"
     ]
    }
   ],
   "source": [
    "security_sysmon_join.select(\n",
    "    \"@timestamp\",\"src_ip_addr\",\"host_name\",\"user_name\",\"process_parent_name\",\"process_parent_command_line\",\"process_name\",\"process_command_line\"\n",
    ").show()"
   ]
  },
  {
   "cell_type": "code",
   "execution_count": null,
   "metadata": {},
   "outputs": [],
   "source": []
  }
 ],
 "metadata": {
  "kernelspec": {
   "display_name": "Python 3.8.10 64-bit",
   "language": "python",
   "name": "python3"
  },
  "language_info": {
   "codemirror_mode": {
    "name": "ipython",
    "version": 3
   },
   "file_extension": ".py",
   "mimetype": "text/x-python",
   "name": "python",
   "nbconvert_exporter": "python",
   "pygments_lexer": "ipython3",
   "version": "3.8.10"
  },
  "vscode": {
   "interpreter": {
    "hash": "916dbcbb3f70747c44a77c7bcd40155683ae19c65e1c03b4aa3499c5328201f1"
   }
  }
 },
 "nbformat": 4,
 "nbformat_minor": 2
}
